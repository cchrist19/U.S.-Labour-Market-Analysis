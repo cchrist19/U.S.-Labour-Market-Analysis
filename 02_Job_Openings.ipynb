{
 "cells": [
  {
   "cell_type": "code",
   "execution_count": 1,
   "metadata": {},
   "outputs": [],
   "source": [
    "#importing libraries\n",
    "import pandas as pd \n",
    "import numpy as np\n",
    "import matplotlib.pyplot as plt\n",
    "import plotly.express as px\n",
    "import seaborn as sns \n",
    "from plotly.subplots import make_subplots"
   ]
  },
  {
   "cell_type": "code",
   "execution_count": null,
   "metadata": {},
   "outputs": [],
   "source": [
    "#import fredapi key\n",
    "from fredapi import Fred\n",
    "\n",
    "from dotenv import load_dotenv\n",
    "import os\n",
    "\n",
    "#Load variables from .env\n",
    "load_dotenv() \n",
    "fred_key = os.getenv(\"FRED_API_KEY\")\n",
    "\n",
    "#create fred object\n",
    "fred = Fred(api_key=fred_key)"
   ]
  },
  {
   "cell_type": "markdown",
   "metadata": {},
   "source": [
    "How has employment in specific industries evolved over the last decade? (scatter plots between job postings and median salary for sector specific jobs. Check The U.S. Bureau of Labor Statistics (BLS)' Job Openings and Labor Turnover Survey (JOLTS) for postings).\n",
    "\n",
    "*What are the trends in job vacancies, hires, and quits, especially in high-demand sectors?\n",
    "\n",
    "Use job openings/layoff data from 2019-2024\n"
   ]
  },
  {
   "cell_type": "markdown",
   "metadata": {},
   "source": [
    "-Do you want to plot job openings and layoff together? Or do you want to analyse this sector?"
   ]
  },
  {
   "cell_type": "code",
   "execution_count": null,
   "metadata": {},
   "outputs": [
    {
     "data": {
      "text/html": [
       "<div>\n",
       "<style scoped>\n",
       "    .dataframe tbody tr th:only-of-type {\n",
       "        vertical-align: middle;\n",
       "    }\n",
       "\n",
       "    .dataframe tbody tr th {\n",
       "        vertical-align: top;\n",
       "    }\n",
       "\n",
       "    .dataframe thead th {\n",
       "        text-align: right;\n",
       "    }\n",
       "</style>\n",
       "<table border=\"1\" class=\"dataframe\">\n",
       "  <thead>\n",
       "    <tr style=\"text-align: right;\">\n",
       "      <th></th>\n",
       "      <th>id</th>\n",
       "      <th>realtime_start</th>\n",
       "      <th>realtime_end</th>\n",
       "      <th>title</th>\n",
       "      <th>observation_start</th>\n",
       "      <th>observation_end</th>\n",
       "      <th>frequency</th>\n",
       "      <th>frequency_short</th>\n",
       "      <th>units</th>\n",
       "      <th>units_short</th>\n",
       "      <th>seasonal_adjustment</th>\n",
       "      <th>seasonal_adjustment_short</th>\n",
       "      <th>last_updated</th>\n",
       "      <th>popularity</th>\n",
       "      <th>notes</th>\n",
       "    </tr>\n",
       "    <tr>\n",
       "      <th>series id</th>\n",
       "      <th></th>\n",
       "      <th></th>\n",
       "      <th></th>\n",
       "      <th></th>\n",
       "      <th></th>\n",
       "      <th></th>\n",
       "      <th></th>\n",
       "      <th></th>\n",
       "      <th></th>\n",
       "      <th></th>\n",
       "      <th></th>\n",
       "      <th></th>\n",
       "      <th></th>\n",
       "      <th></th>\n",
       "      <th></th>\n",
       "    </tr>\n",
       "  </thead>\n",
       "  <tbody>\n",
       "    <tr>\n",
       "      <th>JTSJOL</th>\n",
       "      <td>JTSJOL</td>\n",
       "      <td>2024-11-15</td>\n",
       "      <td>2024-11-15</td>\n",
       "      <td>Job Openings: Total Nonfarm</td>\n",
       "      <td>2000-12-01</td>\n",
       "      <td>2024-09-01</td>\n",
       "      <td>Monthly</td>\n",
       "      <td>M</td>\n",
       "      <td>Level in Thousands</td>\n",
       "      <td>Level in Thous.</td>\n",
       "      <td>Seasonally Adjusted</td>\n",
       "      <td>SA</td>\n",
       "      <td>2024-10-29 09:06:01-05:00</td>\n",
       "      <td>77</td>\n",
       "      <td>Total Nonfarm Job Openings are a measure of al...</td>\n",
       "    </tr>\n",
       "    <tr>\n",
       "      <th>JTSJOR</th>\n",
       "      <td>JTSJOR</td>\n",
       "      <td>2024-11-15</td>\n",
       "      <td>2024-11-15</td>\n",
       "      <td>Job Openings: Total Nonfarm</td>\n",
       "      <td>2000-12-01</td>\n",
       "      <td>2024-09-01</td>\n",
       "      <td>Monthly</td>\n",
       "      <td>M</td>\n",
       "      <td>Rate</td>\n",
       "      <td>Rate</td>\n",
       "      <td>Seasonally Adjusted</td>\n",
       "      <td>SA</td>\n",
       "      <td>2024-10-29 09:06:03-05:00</td>\n",
       "      <td>50</td>\n",
       "      <td>None</td>\n",
       "    </tr>\n",
       "    <tr>\n",
       "      <th>JTUJOL</th>\n",
       "      <td>JTUJOL</td>\n",
       "      <td>2024-11-15</td>\n",
       "      <td>2024-11-15</td>\n",
       "      <td>Job Openings: Total Nonfarm</td>\n",
       "      <td>2000-12-01</td>\n",
       "      <td>2024-09-01</td>\n",
       "      <td>Monthly</td>\n",
       "      <td>M</td>\n",
       "      <td>Level in Thousands</td>\n",
       "      <td>Level in Thous.</td>\n",
       "      <td>Not Seasonally Adjusted</td>\n",
       "      <td>NSA</td>\n",
       "      <td>2024-10-29 09:05:08-05:00</td>\n",
       "      <td>28</td>\n",
       "      <td>None</td>\n",
       "    </tr>\n",
       "    <tr>\n",
       "      <th>JTUJOR</th>\n",
       "      <td>JTUJOR</td>\n",
       "      <td>2024-11-15</td>\n",
       "      <td>2024-11-15</td>\n",
       "      <td>Job Openings: Total Nonfarm</td>\n",
       "      <td>2000-12-01</td>\n",
       "      <td>2024-09-01</td>\n",
       "      <td>Monthly</td>\n",
       "      <td>M</td>\n",
       "      <td>Rate</td>\n",
       "      <td>Rate</td>\n",
       "      <td>Not Seasonally Adjusted</td>\n",
       "      <td>NSA</td>\n",
       "      <td>2024-10-29 09:05:14-05:00</td>\n",
       "      <td>13</td>\n",
       "      <td>None</td>\n",
       "    </tr>\n",
       "    <tr>\n",
       "      <th>JTSLDL</th>\n",
       "      <td>JTSLDL</td>\n",
       "      <td>2024-11-15</td>\n",
       "      <td>2024-11-15</td>\n",
       "      <td>Layoffs and Discharges: Total Nonfarm</td>\n",
       "      <td>2000-12-01</td>\n",
       "      <td>2024-09-01</td>\n",
       "      <td>Monthly</td>\n",
       "      <td>M</td>\n",
       "      <td>Level in Thousands</td>\n",
       "      <td>Level in Thous.</td>\n",
       "      <td>Seasonally Adjusted</td>\n",
       "      <td>SA</td>\n",
       "      <td>2024-10-29 09:06:01-05:00</td>\n",
       "      <td>65</td>\n",
       "      <td>None</td>\n",
       "    </tr>\n",
       "  </tbody>\n",
       "</table>\n",
       "</div>"
      ],
      "text/plain": [
       "               id realtime_start realtime_end  \\\n",
       "series id                                       \n",
       "JTSJOL     JTSJOL     2024-11-15   2024-11-15   \n",
       "JTSJOR     JTSJOR     2024-11-15   2024-11-15   \n",
       "JTUJOL     JTUJOL     2024-11-15   2024-11-15   \n",
       "JTUJOR     JTUJOR     2024-11-15   2024-11-15   \n",
       "JTSLDL     JTSLDL     2024-11-15   2024-11-15   \n",
       "\n",
       "                                           title observation_start  \\\n",
       "series id                                                            \n",
       "JTSJOL               Job Openings: Total Nonfarm        2000-12-01   \n",
       "JTSJOR               Job Openings: Total Nonfarm        2000-12-01   \n",
       "JTUJOL               Job Openings: Total Nonfarm        2000-12-01   \n",
       "JTUJOR               Job Openings: Total Nonfarm        2000-12-01   \n",
       "JTSLDL     Layoffs and Discharges: Total Nonfarm        2000-12-01   \n",
       "\n",
       "          observation_end frequency frequency_short               units  \\\n",
       "series id                                                                 \n",
       "JTSJOL         2024-09-01   Monthly               M  Level in Thousands   \n",
       "JTSJOR         2024-09-01   Monthly               M                Rate   \n",
       "JTUJOL         2024-09-01   Monthly               M  Level in Thousands   \n",
       "JTUJOR         2024-09-01   Monthly               M                Rate   \n",
       "JTSLDL         2024-09-01   Monthly               M  Level in Thousands   \n",
       "\n",
       "               units_short      seasonal_adjustment seasonal_adjustment_short  \\\n",
       "series id                                                                       \n",
       "JTSJOL     Level in Thous.      Seasonally Adjusted                        SA   \n",
       "JTSJOR                Rate      Seasonally Adjusted                        SA   \n",
       "JTUJOL     Level in Thous.  Not Seasonally Adjusted                       NSA   \n",
       "JTUJOR                Rate  Not Seasonally Adjusted                       NSA   \n",
       "JTSLDL     Level in Thous.      Seasonally Adjusted                        SA   \n",
       "\n",
       "                        last_updated popularity  \\\n",
       "series id                                         \n",
       "JTSJOL     2024-10-29 09:06:01-05:00         77   \n",
       "JTSJOR     2024-10-29 09:06:03-05:00         50   \n",
       "JTUJOL     2024-10-29 09:05:08-05:00         28   \n",
       "JTUJOR     2024-10-29 09:05:14-05:00         13   \n",
       "JTSLDL     2024-10-29 09:06:01-05:00         65   \n",
       "\n",
       "                                                       notes  \n",
       "series id                                                     \n",
       "JTSJOL     Total Nonfarm Job Openings are a measure of al...  \n",
       "JTSJOR                                                  None  \n",
       "JTUJOL                                                  None  \n",
       "JTUJOR                                                  None  \n",
       "JTSLDL                                                  None  "
      ]
     },
     "execution_count": 5,
     "metadata": {},
     "output_type": "execute_result"
    }
   ],
   "source": [
    "fred.search('Job Openings').head()\n",
    "# job openings total nonfarm"
   ]
  },
  {
   "cell_type": "code",
   "execution_count": 12,
   "metadata": {},
   "outputs": [
    {
     "data": {
      "text/html": [
       "<div>\n",
       "<style scoped>\n",
       "    .dataframe tbody tr th:only-of-type {\n",
       "        vertical-align: middle;\n",
       "    }\n",
       "\n",
       "    .dataframe tbody tr th {\n",
       "        vertical-align: top;\n",
       "    }\n",
       "\n",
       "    .dataframe thead th {\n",
       "        text-align: right;\n",
       "    }\n",
       "</style>\n",
       "<table border=\"1\" class=\"dataframe\">\n",
       "  <thead>\n",
       "    <tr style=\"text-align: right;\">\n",
       "      <th></th>\n",
       "      <th>id</th>\n",
       "      <th>realtime_start</th>\n",
       "      <th>realtime_end</th>\n",
       "      <th>title</th>\n",
       "      <th>observation_start</th>\n",
       "      <th>observation_end</th>\n",
       "      <th>frequency</th>\n",
       "      <th>frequency_short</th>\n",
       "      <th>units</th>\n",
       "      <th>units_short</th>\n",
       "      <th>seasonal_adjustment</th>\n",
       "      <th>seasonal_adjustment_short</th>\n",
       "      <th>last_updated</th>\n",
       "      <th>popularity</th>\n",
       "      <th>notes</th>\n",
       "    </tr>\n",
       "    <tr>\n",
       "      <th>series id</th>\n",
       "      <th></th>\n",
       "      <th></th>\n",
       "      <th></th>\n",
       "      <th></th>\n",
       "      <th></th>\n",
       "      <th></th>\n",
       "      <th></th>\n",
       "      <th></th>\n",
       "      <th></th>\n",
       "      <th></th>\n",
       "      <th></th>\n",
       "      <th></th>\n",
       "      <th></th>\n",
       "      <th></th>\n",
       "      <th></th>\n",
       "    </tr>\n",
       "  </thead>\n",
       "  <tbody>\n",
       "    <tr>\n",
       "      <th>JTSLDL</th>\n",
       "      <td>JTSLDL</td>\n",
       "      <td>2024-11-15</td>\n",
       "      <td>2024-11-15</td>\n",
       "      <td>Layoffs and Discharges: Total Nonfarm</td>\n",
       "      <td>2000-12-01</td>\n",
       "      <td>2024-09-01</td>\n",
       "      <td>Monthly</td>\n",
       "      <td>M</td>\n",
       "      <td>Level in Thousands</td>\n",
       "      <td>Level in Thous.</td>\n",
       "      <td>Seasonally Adjusted</td>\n",
       "      <td>SA</td>\n",
       "      <td>2024-10-29 09:06:01-05:00</td>\n",
       "      <td>65</td>\n",
       "      <td>None</td>\n",
       "    </tr>\n",
       "    <tr>\n",
       "      <th>JTSLDR</th>\n",
       "      <td>JTSLDR</td>\n",
       "      <td>2024-11-15</td>\n",
       "      <td>2024-11-15</td>\n",
       "      <td>Layoffs and Discharges: Total Nonfarm</td>\n",
       "      <td>2000-12-01</td>\n",
       "      <td>2024-09-01</td>\n",
       "      <td>Monthly</td>\n",
       "      <td>M</td>\n",
       "      <td>Rate</td>\n",
       "      <td>Rate</td>\n",
       "      <td>Seasonally Adjusted</td>\n",
       "      <td>SA</td>\n",
       "      <td>2024-10-29 09:06:03-05:00</td>\n",
       "      <td>40</td>\n",
       "      <td>None</td>\n",
       "    </tr>\n",
       "    <tr>\n",
       "      <th>JTULDL</th>\n",
       "      <td>JTULDL</td>\n",
       "      <td>2024-11-15</td>\n",
       "      <td>2024-11-15</td>\n",
       "      <td>Layoffs and Discharges: Total Nonfarm</td>\n",
       "      <td>2000-12-01</td>\n",
       "      <td>2024-09-01</td>\n",
       "      <td>Monthly</td>\n",
       "      <td>M</td>\n",
       "      <td>Level in Thousands</td>\n",
       "      <td>Level in Thous.</td>\n",
       "      <td>Not Seasonally Adjusted</td>\n",
       "      <td>NSA</td>\n",
       "      <td>2024-10-29 09:05:11-05:00</td>\n",
       "      <td>15</td>\n",
       "      <td>None</td>\n",
       "    </tr>\n",
       "    <tr>\n",
       "      <th>JTULDR</th>\n",
       "      <td>JTULDR</td>\n",
       "      <td>2024-11-15</td>\n",
       "      <td>2024-11-15</td>\n",
       "      <td>Layoffs and Discharges: Total Nonfarm</td>\n",
       "      <td>2000-12-01</td>\n",
       "      <td>2024-09-01</td>\n",
       "      <td>Monthly</td>\n",
       "      <td>M</td>\n",
       "      <td>Rate</td>\n",
       "      <td>Rate</td>\n",
       "      <td>Not Seasonally Adjusted</td>\n",
       "      <td>NSA</td>\n",
       "      <td>2024-10-29 09:05:16-05:00</td>\n",
       "      <td>9</td>\n",
       "      <td>None</td>\n",
       "    </tr>\n",
       "    <tr>\n",
       "      <th>JTS1000LDL</th>\n",
       "      <td>JTS1000LDL</td>\n",
       "      <td>2024-11-15</td>\n",
       "      <td>2024-11-15</td>\n",
       "      <td>Layoffs and Discharges: Total Private</td>\n",
       "      <td>2000-12-01</td>\n",
       "      <td>2024-09-01</td>\n",
       "      <td>Monthly</td>\n",
       "      <td>M</td>\n",
       "      <td>Level in Thousands</td>\n",
       "      <td>Level in Thous.</td>\n",
       "      <td>Seasonally Adjusted</td>\n",
       "      <td>SA</td>\n",
       "      <td>2024-10-29 09:05:06-05:00</td>\n",
       "      <td>30</td>\n",
       "      <td>None</td>\n",
       "    </tr>\n",
       "  </tbody>\n",
       "</table>\n",
       "</div>"
      ],
      "text/plain": [
       "                    id realtime_start realtime_end  \\\n",
       "series id                                            \n",
       "JTSLDL          JTSLDL     2024-11-15   2024-11-15   \n",
       "JTSLDR          JTSLDR     2024-11-15   2024-11-15   \n",
       "JTULDL          JTULDL     2024-11-15   2024-11-15   \n",
       "JTULDR          JTULDR     2024-11-15   2024-11-15   \n",
       "JTS1000LDL  JTS1000LDL     2024-11-15   2024-11-15   \n",
       "\n",
       "                                            title observation_start  \\\n",
       "series id                                                             \n",
       "JTSLDL      Layoffs and Discharges: Total Nonfarm        2000-12-01   \n",
       "JTSLDR      Layoffs and Discharges: Total Nonfarm        2000-12-01   \n",
       "JTULDL      Layoffs and Discharges: Total Nonfarm        2000-12-01   \n",
       "JTULDR      Layoffs and Discharges: Total Nonfarm        2000-12-01   \n",
       "JTS1000LDL  Layoffs and Discharges: Total Private        2000-12-01   \n",
       "\n",
       "           observation_end frequency frequency_short               units  \\\n",
       "series id                                                                  \n",
       "JTSLDL          2024-09-01   Monthly               M  Level in Thousands   \n",
       "JTSLDR          2024-09-01   Monthly               M                Rate   \n",
       "JTULDL          2024-09-01   Monthly               M  Level in Thousands   \n",
       "JTULDR          2024-09-01   Monthly               M                Rate   \n",
       "JTS1000LDL      2024-09-01   Monthly               M  Level in Thousands   \n",
       "\n",
       "                units_short      seasonal_adjustment  \\\n",
       "series id                                              \n",
       "JTSLDL      Level in Thous.      Seasonally Adjusted   \n",
       "JTSLDR                 Rate      Seasonally Adjusted   \n",
       "JTULDL      Level in Thous.  Not Seasonally Adjusted   \n",
       "JTULDR                 Rate  Not Seasonally Adjusted   \n",
       "JTS1000LDL  Level in Thous.      Seasonally Adjusted   \n",
       "\n",
       "           seasonal_adjustment_short              last_updated popularity  \\\n",
       "series id                                                                   \n",
       "JTSLDL                            SA 2024-10-29 09:06:01-05:00         65   \n",
       "JTSLDR                            SA 2024-10-29 09:06:03-05:00         40   \n",
       "JTULDL                           NSA 2024-10-29 09:05:11-05:00         15   \n",
       "JTULDR                           NSA 2024-10-29 09:05:16-05:00          9   \n",
       "JTS1000LDL                        SA 2024-10-29 09:05:06-05:00         30   \n",
       "\n",
       "           notes  \n",
       "series id         \n",
       "JTSLDL      None  \n",
       "JTSLDR      None  \n",
       "JTULDL      None  \n",
       "JTULDR      None  \n",
       "JTS1000LDL  None  "
      ]
     },
     "execution_count": 12,
     "metadata": {},
     "output_type": "execute_result"
    }
   ],
   "source": [
    "fred.search('Layoffs').head()\n",
    "# layoffs total nonfarm"
   ]
  },
  {
   "cell_type": "code",
   "execution_count": 10,
   "metadata": {},
   "outputs": [
    {
     "data": {
      "text/html": [
       "<div>\n",
       "<style scoped>\n",
       "    .dataframe tbody tr th:only-of-type {\n",
       "        vertical-align: middle;\n",
       "    }\n",
       "\n",
       "    .dataframe tbody tr th {\n",
       "        vertical-align: top;\n",
       "    }\n",
       "\n",
       "    .dataframe thead th {\n",
       "        text-align: right;\n",
       "    }\n",
       "</style>\n",
       "<table border=\"1\" class=\"dataframe\">\n",
       "  <thead>\n",
       "    <tr style=\"text-align: right;\">\n",
       "      <th></th>\n",
       "      <th>Job Openings</th>\n",
       "    </tr>\n",
       "  </thead>\n",
       "  <tbody>\n",
       "    <tr>\n",
       "      <th>2019-01-01</th>\n",
       "      <td>7502.0</td>\n",
       "    </tr>\n",
       "    <tr>\n",
       "      <th>2019-02-01</th>\n",
       "      <td>7066.0</td>\n",
       "    </tr>\n",
       "    <tr>\n",
       "      <th>2019-03-01</th>\n",
       "      <td>7317.0</td>\n",
       "    </tr>\n",
       "    <tr>\n",
       "      <th>2019-04-01</th>\n",
       "      <td>7272.0</td>\n",
       "    </tr>\n",
       "    <tr>\n",
       "      <th>2019-05-01</th>\n",
       "      <td>7275.0</td>\n",
       "    </tr>\n",
       "    <tr>\n",
       "      <th>...</th>\n",
       "      <td>...</td>\n",
       "    </tr>\n",
       "    <tr>\n",
       "      <th>2024-05-01</th>\n",
       "      <td>8230.0</td>\n",
       "    </tr>\n",
       "    <tr>\n",
       "      <th>2024-06-01</th>\n",
       "      <td>7910.0</td>\n",
       "    </tr>\n",
       "    <tr>\n",
       "      <th>2024-07-01</th>\n",
       "      <td>7711.0</td>\n",
       "    </tr>\n",
       "    <tr>\n",
       "      <th>2024-08-01</th>\n",
       "      <td>7861.0</td>\n",
       "    </tr>\n",
       "    <tr>\n",
       "      <th>2024-09-01</th>\n",
       "      <td>7443.0</td>\n",
       "    </tr>\n",
       "  </tbody>\n",
       "</table>\n",
       "<p>69 rows × 1 columns</p>\n",
       "</div>"
      ],
      "text/plain": [
       "            Job Openings\n",
       "2019-01-01        7502.0\n",
       "2019-02-01        7066.0\n",
       "2019-03-01        7317.0\n",
       "2019-04-01        7272.0\n",
       "2019-05-01        7275.0\n",
       "...                  ...\n",
       "2024-05-01        8230.0\n",
       "2024-06-01        7910.0\n",
       "2024-07-01        7711.0\n",
       "2024-08-01        7861.0\n",
       "2024-09-01        7443.0\n",
       "\n",
       "[69 rows x 1 columns]"
      ]
     },
     "execution_count": 10,
     "metadata": {},
     "output_type": "execute_result"
    }
   ],
   "source": [
    "job_openings = fred.get_series('JTSJOL', observation_start='2019-01-01', observation_end='2024-10-01').to_frame(name='Job Openings')\n",
    "job_openings"
   ]
  },
  {
   "cell_type": "code",
   "execution_count": 13,
   "metadata": {},
   "outputs": [
    {
     "data": {
      "text/html": [
       "<div>\n",
       "<style scoped>\n",
       "    .dataframe tbody tr th:only-of-type {\n",
       "        vertical-align: middle;\n",
       "    }\n",
       "\n",
       "    .dataframe tbody tr th {\n",
       "        vertical-align: top;\n",
       "    }\n",
       "\n",
       "    .dataframe thead th {\n",
       "        text-align: right;\n",
       "    }\n",
       "</style>\n",
       "<table border=\"1\" class=\"dataframe\">\n",
       "  <thead>\n",
       "    <tr style=\"text-align: right;\">\n",
       "      <th></th>\n",
       "      <th>Layoffs &amp; Discharges</th>\n",
       "    </tr>\n",
       "  </thead>\n",
       "  <tbody>\n",
       "    <tr>\n",
       "      <th>2019-01-01</th>\n",
       "      <td>1705.0</td>\n",
       "    </tr>\n",
       "    <tr>\n",
       "      <th>2019-02-01</th>\n",
       "      <td>1763.0</td>\n",
       "    </tr>\n",
       "    <tr>\n",
       "      <th>2019-03-01</th>\n",
       "      <td>1690.0</td>\n",
       "    </tr>\n",
       "    <tr>\n",
       "      <th>2019-04-01</th>\n",
       "      <td>1963.0</td>\n",
       "    </tr>\n",
       "    <tr>\n",
       "      <th>2019-05-01</th>\n",
       "      <td>1775.0</td>\n",
       "    </tr>\n",
       "    <tr>\n",
       "      <th>...</th>\n",
       "      <td>...</td>\n",
       "    </tr>\n",
       "    <tr>\n",
       "      <th>2024-05-01</th>\n",
       "      <td>1678.0</td>\n",
       "    </tr>\n",
       "    <tr>\n",
       "      <th>2024-06-01</th>\n",
       "      <td>1560.0</td>\n",
       "    </tr>\n",
       "    <tr>\n",
       "      <th>2024-07-01</th>\n",
       "      <td>1713.0</td>\n",
       "    </tr>\n",
       "    <tr>\n",
       "      <th>2024-08-01</th>\n",
       "      <td>1668.0</td>\n",
       "    </tr>\n",
       "    <tr>\n",
       "      <th>2024-09-01</th>\n",
       "      <td>1833.0</td>\n",
       "    </tr>\n",
       "  </tbody>\n",
       "</table>\n",
       "<p>69 rows × 1 columns</p>\n",
       "</div>"
      ],
      "text/plain": [
       "            Layoffs & Discharges\n",
       "2019-01-01                1705.0\n",
       "2019-02-01                1763.0\n",
       "2019-03-01                1690.0\n",
       "2019-04-01                1963.0\n",
       "2019-05-01                1775.0\n",
       "...                          ...\n",
       "2024-05-01                1678.0\n",
       "2024-06-01                1560.0\n",
       "2024-07-01                1713.0\n",
       "2024-08-01                1668.0\n",
       "2024-09-01                1833.0\n",
       "\n",
       "[69 rows x 1 columns]"
      ]
     },
     "execution_count": 13,
     "metadata": {},
     "output_type": "execute_result"
    }
   ],
   "source": [
    "layoffs = fred.get_series('JTSLDL', observation_start='2019-01-01', observation_end='2024-10-01').to_frame(name='Layoffs & Discharges')\n",
    "layoffs"
   ]
  },
  {
   "cell_type": "code",
   "execution_count": 14,
   "metadata": {},
   "outputs": [
    {
     "data": {
      "text/html": [
       "<div>\n",
       "<style scoped>\n",
       "    .dataframe tbody tr th:only-of-type {\n",
       "        vertical-align: middle;\n",
       "    }\n",
       "\n",
       "    .dataframe tbody tr th {\n",
       "        vertical-align: top;\n",
       "    }\n",
       "\n",
       "    .dataframe thead th {\n",
       "        text-align: right;\n",
       "    }\n",
       "</style>\n",
       "<table border=\"1\" class=\"dataframe\">\n",
       "  <thead>\n",
       "    <tr style=\"text-align: right;\">\n",
       "      <th></th>\n",
       "      <th>Job Openings</th>\n",
       "      <th>Layoffs &amp; Discharges</th>\n",
       "    </tr>\n",
       "  </thead>\n",
       "  <tbody>\n",
       "    <tr>\n",
       "      <th>2019-01-01</th>\n",
       "      <td>7502.0</td>\n",
       "      <td>1705.0</td>\n",
       "    </tr>\n",
       "    <tr>\n",
       "      <th>2019-02-01</th>\n",
       "      <td>7066.0</td>\n",
       "      <td>1763.0</td>\n",
       "    </tr>\n",
       "    <tr>\n",
       "      <th>2019-03-01</th>\n",
       "      <td>7317.0</td>\n",
       "      <td>1690.0</td>\n",
       "    </tr>\n",
       "    <tr>\n",
       "      <th>2019-04-01</th>\n",
       "      <td>7272.0</td>\n",
       "      <td>1963.0</td>\n",
       "    </tr>\n",
       "    <tr>\n",
       "      <th>2019-05-01</th>\n",
       "      <td>7275.0</td>\n",
       "      <td>1775.0</td>\n",
       "    </tr>\n",
       "    <tr>\n",
       "      <th>...</th>\n",
       "      <td>...</td>\n",
       "      <td>...</td>\n",
       "    </tr>\n",
       "    <tr>\n",
       "      <th>2024-05-01</th>\n",
       "      <td>8230.0</td>\n",
       "      <td>1678.0</td>\n",
       "    </tr>\n",
       "    <tr>\n",
       "      <th>2024-06-01</th>\n",
       "      <td>7910.0</td>\n",
       "      <td>1560.0</td>\n",
       "    </tr>\n",
       "    <tr>\n",
       "      <th>2024-07-01</th>\n",
       "      <td>7711.0</td>\n",
       "      <td>1713.0</td>\n",
       "    </tr>\n",
       "    <tr>\n",
       "      <th>2024-08-01</th>\n",
       "      <td>7861.0</td>\n",
       "      <td>1668.0</td>\n",
       "    </tr>\n",
       "    <tr>\n",
       "      <th>2024-09-01</th>\n",
       "      <td>7443.0</td>\n",
       "      <td>1833.0</td>\n",
       "    </tr>\n",
       "  </tbody>\n",
       "</table>\n",
       "<p>69 rows × 2 columns</p>\n",
       "</div>"
      ],
      "text/plain": [
       "            Job Openings  Layoffs & Discharges\n",
       "2019-01-01        7502.0                1705.0\n",
       "2019-02-01        7066.0                1763.0\n",
       "2019-03-01        7317.0                1690.0\n",
       "2019-04-01        7272.0                1963.0\n",
       "2019-05-01        7275.0                1775.0\n",
       "...                  ...                   ...\n",
       "2024-05-01        8230.0                1678.0\n",
       "2024-06-01        7910.0                1560.0\n",
       "2024-07-01        7711.0                1713.0\n",
       "2024-08-01        7861.0                1668.0\n",
       "2024-09-01        7443.0                1833.0\n",
       "\n",
       "[69 rows x 2 columns]"
      ]
     },
     "execution_count": 14,
     "metadata": {},
     "output_type": "execute_result"
    }
   ],
   "source": [
    "merged_df = pd.concat([job_openings, layoffs], axis=1, join='inner')\n",
    "merged_df"
   ]
  },
  {
   "cell_type": "code",
   "execution_count": 31,
   "metadata": {},
   "outputs": [
    {
     "data": {
      "application/vnd.plotly.v1+json": {
       "config": {
        "plotlyServerURL": "https://plot.ly"
       },
       "data": [
        {
         "hovertemplate": "variable=Job Openings<br>index=%{x}<br>value=%{y}<extra></extra>",
         "legendgroup": "Job Openings",
         "line": {
          "color": "#636efa",
          "dash": "solid"
         },
         "marker": {
          "symbol": "circle"
         },
         "mode": "lines",
         "name": "Job Openings",
         "orientation": "v",
         "showlegend": true,
         "type": "scatter",
         "x": [
          "2019-01-01T00:00:00",
          "2019-02-01T00:00:00",
          "2019-03-01T00:00:00",
          "2019-04-01T00:00:00",
          "2019-05-01T00:00:00",
          "2019-06-01T00:00:00",
          "2019-07-01T00:00:00",
          "2019-08-01T00:00:00",
          "2019-09-01T00:00:00",
          "2019-10-01T00:00:00",
          "2019-11-01T00:00:00",
          "2019-12-01T00:00:00",
          "2020-01-01T00:00:00",
          "2020-02-01T00:00:00",
          "2020-03-01T00:00:00",
          "2020-04-01T00:00:00",
          "2020-05-01T00:00:00",
          "2020-06-01T00:00:00",
          "2020-07-01T00:00:00",
          "2020-08-01T00:00:00",
          "2020-09-01T00:00:00",
          "2020-10-01T00:00:00",
          "2020-11-01T00:00:00",
          "2020-12-01T00:00:00",
          "2021-01-01T00:00:00",
          "2021-02-01T00:00:00",
          "2021-03-01T00:00:00",
          "2021-04-01T00:00:00",
          "2021-05-01T00:00:00",
          "2021-06-01T00:00:00",
          "2021-07-01T00:00:00",
          "2021-08-01T00:00:00",
          "2021-09-01T00:00:00",
          "2021-10-01T00:00:00",
          "2021-11-01T00:00:00",
          "2021-12-01T00:00:00",
          "2022-01-01T00:00:00",
          "2022-02-01T00:00:00",
          "2022-03-01T00:00:00",
          "2022-04-01T00:00:00",
          "2022-05-01T00:00:00",
          "2022-06-01T00:00:00",
          "2022-07-01T00:00:00",
          "2022-08-01T00:00:00",
          "2022-09-01T00:00:00",
          "2022-10-01T00:00:00",
          "2022-11-01T00:00:00",
          "2022-12-01T00:00:00",
          "2023-01-01T00:00:00",
          "2023-02-01T00:00:00",
          "2023-03-01T00:00:00",
          "2023-04-01T00:00:00",
          "2023-05-01T00:00:00",
          "2023-06-01T00:00:00",
          "2023-07-01T00:00:00",
          "2023-08-01T00:00:00",
          "2023-09-01T00:00:00",
          "2023-10-01T00:00:00",
          "2023-11-01T00:00:00",
          "2023-12-01T00:00:00",
          "2024-01-01T00:00:00",
          "2024-02-01T00:00:00",
          "2024-03-01T00:00:00",
          "2024-04-01T00:00:00",
          "2024-05-01T00:00:00",
          "2024-06-01T00:00:00",
          "2024-07-01T00:00:00",
          "2024-08-01T00:00:00",
          "2024-09-01T00:00:00"
         ],
         "xaxis": "x",
         "y": [
          7502,
          7066,
          7317,
          7272,
          7275,
          7194,
          7042,
          7178,
          7124,
          7289,
          6888,
          6699,
          7170,
          6974,
          5924,
          4637,
          5593,
          6156,
          6491,
          6369,
          6505,
          6838,
          6857,
          6758,
          7185,
          7818,
          8519,
          9282,
          9905,
          10317,
          10991,
          10884,
          10875,
          11365,
          11178,
          11511,
          11243,
          11700,
          12182,
          11773,
          11473,
          11204,
          11537,
          10119,
          10784,
          10526,
          10702,
          11000,
          10425,
          9849,
          9623,
          9904,
          9311,
          9125,
          8805,
          9358,
          9307,
          8685,
          8931,
          8889,
          8748,
          8813,
          8355,
          7919,
          8230,
          7910,
          7711,
          7861,
          7443
         ],
         "yaxis": "y"
        },
        {
         "hovertemplate": "variable=Layoffs & Discharges<br>index=%{x}<br>value=%{y}<extra></extra>",
         "legendgroup": "Layoffs & Discharges",
         "line": {
          "color": "#EF553B",
          "dash": "solid"
         },
         "marker": {
          "symbol": "circle"
         },
         "mode": "lines",
         "name": "Layoffs & Discharges",
         "orientation": "v",
         "showlegend": true,
         "type": "scatter",
         "x": [
          "2019-01-01T00:00:00",
          "2019-02-01T00:00:00",
          "2019-03-01T00:00:00",
          "2019-04-01T00:00:00",
          "2019-05-01T00:00:00",
          "2019-06-01T00:00:00",
          "2019-07-01T00:00:00",
          "2019-08-01T00:00:00",
          "2019-09-01T00:00:00",
          "2019-10-01T00:00:00",
          "2019-11-01T00:00:00",
          "2019-12-01T00:00:00",
          "2020-01-01T00:00:00",
          "2020-02-01T00:00:00",
          "2020-03-01T00:00:00",
          "2020-04-01T00:00:00",
          "2020-05-01T00:00:00",
          "2020-06-01T00:00:00",
          "2020-07-01T00:00:00",
          "2020-08-01T00:00:00",
          "2020-09-01T00:00:00",
          "2020-10-01T00:00:00",
          "2020-11-01T00:00:00",
          "2020-12-01T00:00:00",
          "2021-01-01T00:00:00",
          "2021-02-01T00:00:00",
          "2021-03-01T00:00:00",
          "2021-04-01T00:00:00",
          "2021-05-01T00:00:00",
          "2021-06-01T00:00:00",
          "2021-07-01T00:00:00",
          "2021-08-01T00:00:00",
          "2021-09-01T00:00:00",
          "2021-10-01T00:00:00",
          "2021-11-01T00:00:00",
          "2021-12-01T00:00:00",
          "2022-01-01T00:00:00",
          "2022-02-01T00:00:00",
          "2022-03-01T00:00:00",
          "2022-04-01T00:00:00",
          "2022-05-01T00:00:00",
          "2022-06-01T00:00:00",
          "2022-07-01T00:00:00",
          "2022-08-01T00:00:00",
          "2022-09-01T00:00:00",
          "2022-10-01T00:00:00",
          "2022-11-01T00:00:00",
          "2022-12-01T00:00:00",
          "2023-01-01T00:00:00",
          "2023-02-01T00:00:00",
          "2023-03-01T00:00:00",
          "2023-04-01T00:00:00",
          "2023-05-01T00:00:00",
          "2023-06-01T00:00:00",
          "2023-07-01T00:00:00",
          "2023-08-01T00:00:00",
          "2023-09-01T00:00:00",
          "2023-10-01T00:00:00",
          "2023-11-01T00:00:00",
          "2023-12-01T00:00:00",
          "2024-01-01T00:00:00",
          "2024-02-01T00:00:00",
          "2024-03-01T00:00:00",
          "2024-04-01T00:00:00",
          "2024-05-01T00:00:00",
          "2024-06-01T00:00:00",
          "2024-07-01T00:00:00",
          "2024-08-01T00:00:00",
          "2024-09-01T00:00:00"
         ],
         "xaxis": "x",
         "y": [
          1705,
          1763,
          1690,
          1963,
          1775,
          1780,
          1833,
          1808,
          1970,
          1819,
          1782,
          1931,
          1795,
          1951,
          13516,
          9128,
          2156,
          2233,
          1838,
          1568,
          1572,
          1695,
          2133,
          1915,
          1638,
          1643,
          1485,
          1398,
          1368,
          1287,
          1410,
          1338,
          1443,
          1291,
          1375,
          1388,
          1406,
          1438,
          1388,
          1320,
          1530,
          1465,
          1462,
          1602,
          1463,
          1563,
          1472,
          1513,
          1868,
          1571,
          1825,
          1636,
          1531,
          1589,
          1698,
          1664,
          1595,
          1653,
          1546,
          1607,
          1596,
          1681,
          1601,
          1542,
          1678,
          1560,
          1713,
          1668,
          1833
         ],
         "yaxis": "y"
        }
       ],
       "layout": {
        "height": 500,
        "legend": {
         "title": {
          "text": ""
         },
         "tracegroupgap": 0
        },
        "margin": {
         "t": 60
        },
        "template": {
         "data": {
          "bar": [
           {
            "error_x": {
             "color": "#2a3f5f"
            },
            "error_y": {
             "color": "#2a3f5f"
            },
            "marker": {
             "line": {
              "color": "#E5ECF6",
              "width": 0.5
             },
             "pattern": {
              "fillmode": "overlay",
              "size": 10,
              "solidity": 0.2
             }
            },
            "type": "bar"
           }
          ],
          "barpolar": [
           {
            "marker": {
             "line": {
              "color": "#E5ECF6",
              "width": 0.5
             },
             "pattern": {
              "fillmode": "overlay",
              "size": 10,
              "solidity": 0.2
             }
            },
            "type": "barpolar"
           }
          ],
          "carpet": [
           {
            "aaxis": {
             "endlinecolor": "#2a3f5f",
             "gridcolor": "white",
             "linecolor": "white",
             "minorgridcolor": "white",
             "startlinecolor": "#2a3f5f"
            },
            "baxis": {
             "endlinecolor": "#2a3f5f",
             "gridcolor": "white",
             "linecolor": "white",
             "minorgridcolor": "white",
             "startlinecolor": "#2a3f5f"
            },
            "type": "carpet"
           }
          ],
          "choropleth": [
           {
            "colorbar": {
             "outlinewidth": 0,
             "ticks": ""
            },
            "type": "choropleth"
           }
          ],
          "contour": [
           {
            "colorbar": {
             "outlinewidth": 0,
             "ticks": ""
            },
            "colorscale": [
             [
              0,
              "#0d0887"
             ],
             [
              0.1111111111111111,
              "#46039f"
             ],
             [
              0.2222222222222222,
              "#7201a8"
             ],
             [
              0.3333333333333333,
              "#9c179e"
             ],
             [
              0.4444444444444444,
              "#bd3786"
             ],
             [
              0.5555555555555556,
              "#d8576b"
             ],
             [
              0.6666666666666666,
              "#ed7953"
             ],
             [
              0.7777777777777778,
              "#fb9f3a"
             ],
             [
              0.8888888888888888,
              "#fdca26"
             ],
             [
              1,
              "#f0f921"
             ]
            ],
            "type": "contour"
           }
          ],
          "contourcarpet": [
           {
            "colorbar": {
             "outlinewidth": 0,
             "ticks": ""
            },
            "type": "contourcarpet"
           }
          ],
          "heatmap": [
           {
            "colorbar": {
             "outlinewidth": 0,
             "ticks": ""
            },
            "colorscale": [
             [
              0,
              "#0d0887"
             ],
             [
              0.1111111111111111,
              "#46039f"
             ],
             [
              0.2222222222222222,
              "#7201a8"
             ],
             [
              0.3333333333333333,
              "#9c179e"
             ],
             [
              0.4444444444444444,
              "#bd3786"
             ],
             [
              0.5555555555555556,
              "#d8576b"
             ],
             [
              0.6666666666666666,
              "#ed7953"
             ],
             [
              0.7777777777777778,
              "#fb9f3a"
             ],
             [
              0.8888888888888888,
              "#fdca26"
             ],
             [
              1,
              "#f0f921"
             ]
            ],
            "type": "heatmap"
           }
          ],
          "heatmapgl": [
           {
            "colorbar": {
             "outlinewidth": 0,
             "ticks": ""
            },
            "colorscale": [
             [
              0,
              "#0d0887"
             ],
             [
              0.1111111111111111,
              "#46039f"
             ],
             [
              0.2222222222222222,
              "#7201a8"
             ],
             [
              0.3333333333333333,
              "#9c179e"
             ],
             [
              0.4444444444444444,
              "#bd3786"
             ],
             [
              0.5555555555555556,
              "#d8576b"
             ],
             [
              0.6666666666666666,
              "#ed7953"
             ],
             [
              0.7777777777777778,
              "#fb9f3a"
             ],
             [
              0.8888888888888888,
              "#fdca26"
             ],
             [
              1,
              "#f0f921"
             ]
            ],
            "type": "heatmapgl"
           }
          ],
          "histogram": [
           {
            "marker": {
             "pattern": {
              "fillmode": "overlay",
              "size": 10,
              "solidity": 0.2
             }
            },
            "type": "histogram"
           }
          ],
          "histogram2d": [
           {
            "colorbar": {
             "outlinewidth": 0,
             "ticks": ""
            },
            "colorscale": [
             [
              0,
              "#0d0887"
             ],
             [
              0.1111111111111111,
              "#46039f"
             ],
             [
              0.2222222222222222,
              "#7201a8"
             ],
             [
              0.3333333333333333,
              "#9c179e"
             ],
             [
              0.4444444444444444,
              "#bd3786"
             ],
             [
              0.5555555555555556,
              "#d8576b"
             ],
             [
              0.6666666666666666,
              "#ed7953"
             ],
             [
              0.7777777777777778,
              "#fb9f3a"
             ],
             [
              0.8888888888888888,
              "#fdca26"
             ],
             [
              1,
              "#f0f921"
             ]
            ],
            "type": "histogram2d"
           }
          ],
          "histogram2dcontour": [
           {
            "colorbar": {
             "outlinewidth": 0,
             "ticks": ""
            },
            "colorscale": [
             [
              0,
              "#0d0887"
             ],
             [
              0.1111111111111111,
              "#46039f"
             ],
             [
              0.2222222222222222,
              "#7201a8"
             ],
             [
              0.3333333333333333,
              "#9c179e"
             ],
             [
              0.4444444444444444,
              "#bd3786"
             ],
             [
              0.5555555555555556,
              "#d8576b"
             ],
             [
              0.6666666666666666,
              "#ed7953"
             ],
             [
              0.7777777777777778,
              "#fb9f3a"
             ],
             [
              0.8888888888888888,
              "#fdca26"
             ],
             [
              1,
              "#f0f921"
             ]
            ],
            "type": "histogram2dcontour"
           }
          ],
          "mesh3d": [
           {
            "colorbar": {
             "outlinewidth": 0,
             "ticks": ""
            },
            "type": "mesh3d"
           }
          ],
          "parcoords": [
           {
            "line": {
             "colorbar": {
              "outlinewidth": 0,
              "ticks": ""
             }
            },
            "type": "parcoords"
           }
          ],
          "pie": [
           {
            "automargin": true,
            "type": "pie"
           }
          ],
          "scatter": [
           {
            "fillpattern": {
             "fillmode": "overlay",
             "size": 10,
             "solidity": 0.2
            },
            "type": "scatter"
           }
          ],
          "scatter3d": [
           {
            "line": {
             "colorbar": {
              "outlinewidth": 0,
              "ticks": ""
             }
            },
            "marker": {
             "colorbar": {
              "outlinewidth": 0,
              "ticks": ""
             }
            },
            "type": "scatter3d"
           }
          ],
          "scattercarpet": [
           {
            "marker": {
             "colorbar": {
              "outlinewidth": 0,
              "ticks": ""
             }
            },
            "type": "scattercarpet"
           }
          ],
          "scattergeo": [
           {
            "marker": {
             "colorbar": {
              "outlinewidth": 0,
              "ticks": ""
             }
            },
            "type": "scattergeo"
           }
          ],
          "scattergl": [
           {
            "marker": {
             "colorbar": {
              "outlinewidth": 0,
              "ticks": ""
             }
            },
            "type": "scattergl"
           }
          ],
          "scattermapbox": [
           {
            "marker": {
             "colorbar": {
              "outlinewidth": 0,
              "ticks": ""
             }
            },
            "type": "scattermapbox"
           }
          ],
          "scatterpolar": [
           {
            "marker": {
             "colorbar": {
              "outlinewidth": 0,
              "ticks": ""
             }
            },
            "type": "scatterpolar"
           }
          ],
          "scatterpolargl": [
           {
            "marker": {
             "colorbar": {
              "outlinewidth": 0,
              "ticks": ""
             }
            },
            "type": "scatterpolargl"
           }
          ],
          "scatterternary": [
           {
            "marker": {
             "colorbar": {
              "outlinewidth": 0,
              "ticks": ""
             }
            },
            "type": "scatterternary"
           }
          ],
          "surface": [
           {
            "colorbar": {
             "outlinewidth": 0,
             "ticks": ""
            },
            "colorscale": [
             [
              0,
              "#0d0887"
             ],
             [
              0.1111111111111111,
              "#46039f"
             ],
             [
              0.2222222222222222,
              "#7201a8"
             ],
             [
              0.3333333333333333,
              "#9c179e"
             ],
             [
              0.4444444444444444,
              "#bd3786"
             ],
             [
              0.5555555555555556,
              "#d8576b"
             ],
             [
              0.6666666666666666,
              "#ed7953"
             ],
             [
              0.7777777777777778,
              "#fb9f3a"
             ],
             [
              0.8888888888888888,
              "#fdca26"
             ],
             [
              1,
              "#f0f921"
             ]
            ],
            "type": "surface"
           }
          ],
          "table": [
           {
            "cells": {
             "fill": {
              "color": "#EBF0F8"
             },
             "line": {
              "color": "white"
             }
            },
            "header": {
             "fill": {
              "color": "#C8D4E3"
             },
             "line": {
              "color": "white"
             }
            },
            "type": "table"
           }
          ]
         },
         "layout": {
          "annotationdefaults": {
           "arrowcolor": "#2a3f5f",
           "arrowhead": 0,
           "arrowwidth": 1
          },
          "autotypenumbers": "strict",
          "coloraxis": {
           "colorbar": {
            "outlinewidth": 0,
            "ticks": ""
           }
          },
          "colorscale": {
           "diverging": [
            [
             0,
             "#8e0152"
            ],
            [
             0.1,
             "#c51b7d"
            ],
            [
             0.2,
             "#de77ae"
            ],
            [
             0.3,
             "#f1b6da"
            ],
            [
             0.4,
             "#fde0ef"
            ],
            [
             0.5,
             "#f7f7f7"
            ],
            [
             0.6,
             "#e6f5d0"
            ],
            [
             0.7,
             "#b8e186"
            ],
            [
             0.8,
             "#7fbc41"
            ],
            [
             0.9,
             "#4d9221"
            ],
            [
             1,
             "#276419"
            ]
           ],
           "sequential": [
            [
             0,
             "#0d0887"
            ],
            [
             0.1111111111111111,
             "#46039f"
            ],
            [
             0.2222222222222222,
             "#7201a8"
            ],
            [
             0.3333333333333333,
             "#9c179e"
            ],
            [
             0.4444444444444444,
             "#bd3786"
            ],
            [
             0.5555555555555556,
             "#d8576b"
            ],
            [
             0.6666666666666666,
             "#ed7953"
            ],
            [
             0.7777777777777778,
             "#fb9f3a"
            ],
            [
             0.8888888888888888,
             "#fdca26"
            ],
            [
             1,
             "#f0f921"
            ]
           ],
           "sequentialminus": [
            [
             0,
             "#0d0887"
            ],
            [
             0.1111111111111111,
             "#46039f"
            ],
            [
             0.2222222222222222,
             "#7201a8"
            ],
            [
             0.3333333333333333,
             "#9c179e"
            ],
            [
             0.4444444444444444,
             "#bd3786"
            ],
            [
             0.5555555555555556,
             "#d8576b"
            ],
            [
             0.6666666666666666,
             "#ed7953"
            ],
            [
             0.7777777777777778,
             "#fb9f3a"
            ],
            [
             0.8888888888888888,
             "#fdca26"
            ],
            [
             1,
             "#f0f921"
            ]
           ]
          },
          "colorway": [
           "#636efa",
           "#EF553B",
           "#00cc96",
           "#ab63fa",
           "#FFA15A",
           "#19d3f3",
           "#FF6692",
           "#B6E880",
           "#FF97FF",
           "#FECB52"
          ],
          "font": {
           "color": "#2a3f5f"
          },
          "geo": {
           "bgcolor": "white",
           "lakecolor": "white",
           "landcolor": "#E5ECF6",
           "showlakes": true,
           "showland": true,
           "subunitcolor": "white"
          },
          "hoverlabel": {
           "align": "left"
          },
          "hovermode": "closest",
          "mapbox": {
           "style": "light"
          },
          "paper_bgcolor": "white",
          "plot_bgcolor": "#E5ECF6",
          "polar": {
           "angularaxis": {
            "gridcolor": "white",
            "linecolor": "white",
            "ticks": ""
           },
           "bgcolor": "#E5ECF6",
           "radialaxis": {
            "gridcolor": "white",
            "linecolor": "white",
            "ticks": ""
           }
          },
          "scene": {
           "xaxis": {
            "backgroundcolor": "#E5ECF6",
            "gridcolor": "white",
            "gridwidth": 2,
            "linecolor": "white",
            "showbackground": true,
            "ticks": "",
            "zerolinecolor": "white"
           },
           "yaxis": {
            "backgroundcolor": "#E5ECF6",
            "gridcolor": "white",
            "gridwidth": 2,
            "linecolor": "white",
            "showbackground": true,
            "ticks": "",
            "zerolinecolor": "white"
           },
           "zaxis": {
            "backgroundcolor": "#E5ECF6",
            "gridcolor": "white",
            "gridwidth": 2,
            "linecolor": "white",
            "showbackground": true,
            "ticks": "",
            "zerolinecolor": "white"
           }
          },
          "shapedefaults": {
           "line": {
            "color": "#2a3f5f"
           }
          },
          "ternary": {
           "aaxis": {
            "gridcolor": "white",
            "linecolor": "white",
            "ticks": ""
           },
           "baxis": {
            "gridcolor": "white",
            "linecolor": "white",
            "ticks": ""
           },
           "bgcolor": "#E5ECF6",
           "caxis": {
            "gridcolor": "white",
            "linecolor": "white",
            "ticks": ""
           }
          },
          "title": {
           "x": 0.05
          },
          "xaxis": {
           "automargin": true,
           "gridcolor": "white",
           "linecolor": "white",
           "ticks": "",
           "title": {
            "standoff": 15
           },
           "zerolinecolor": "white",
           "zerolinewidth": 2
          },
          "yaxis": {
           "automargin": true,
           "gridcolor": "white",
           "linecolor": "white",
           "ticks": "",
           "title": {
            "standoff": 15
           },
           "zerolinecolor": "white",
           "zerolinewidth": 2
          }
         }
        },
        "title": {
         "text": "Number of Job Openings vs Layoffs"
        },
        "width": 900,
        "xaxis": {
         "anchor": "y",
         "domain": [
          0,
          1
         ],
         "title": {
          "text": ""
         }
        },
        "yaxis": {
         "anchor": "x",
         "domain": [
          0,
          1
         ],
         "tickformat": ",",
         "title": {
          "text": "Level in Thousands"
         }
        }
       }
      }
     },
     "metadata": {},
     "output_type": "display_data"
    }
   ],
   "source": [
    "# merged_df.plot(figsize=(10, 6.5), kind='line')\n",
    "\n",
    "fig = px.line(merged_df)\n",
    "\n",
    "fig.update_layout(\n",
    "    title='Number of Job Openings vs Layoffs',\n",
    "    xaxis_title='',\n",
    "    yaxis_title='Level in Thousands',\n",
    "    width = 900, height=500,\n",
    "    legend_title_text = '',\n",
    "    yaxis=dict(\n",
    "        tickformat=\",\"\n",
    "    )\n",
    ")"
   ]
  },
  {
   "cell_type": "markdown",
   "metadata": {},
   "source": [
    "![Job Openings vs Layoffs](Images/job_openings_layoff.png)"
   ]
  },
  {
   "cell_type": "markdown",
   "metadata": {},
   "source": [
    "### Job Openings Trend\n",
    "\n",
    "The idea here is that the number of job openings should align with nfp data for a given sector. Would be interesting to see of there are any mismatches (high job openings, low employment number and vice versa).\n",
    "\n",
    "Note: I excluded 'Information' and 'Financial Activities' Sectors as this did not contain seasonally adjiusted data"
   ]
  },
  {
   "cell_type": "code",
   "execution_count": 45,
   "metadata": {},
   "outputs": [
    {
     "data": {
      "text/html": [
       "<div>\n",
       "<style scoped>\n",
       "    .dataframe tbody tr th:only-of-type {\n",
       "        vertical-align: middle;\n",
       "    }\n",
       "\n",
       "    .dataframe tbody tr th {\n",
       "        vertical-align: top;\n",
       "    }\n",
       "\n",
       "    .dataframe thead th {\n",
       "        text-align: right;\n",
       "    }\n",
       "</style>\n",
       "<table border=\"1\" class=\"dataframe\">\n",
       "  <thead>\n",
       "    <tr style=\"text-align: right;\">\n",
       "      <th></th>\n",
       "      <th>id</th>\n",
       "      <th>realtime_start</th>\n",
       "      <th>realtime_end</th>\n",
       "      <th>title</th>\n",
       "      <th>observation_start</th>\n",
       "      <th>observation_end</th>\n",
       "      <th>frequency</th>\n",
       "      <th>frequency_short</th>\n",
       "      <th>units</th>\n",
       "      <th>units_short</th>\n",
       "      <th>seasonal_adjustment</th>\n",
       "      <th>seasonal_adjustment_short</th>\n",
       "      <th>last_updated</th>\n",
       "      <th>popularity</th>\n",
       "      <th>notes</th>\n",
       "    </tr>\n",
       "    <tr>\n",
       "      <th>series id</th>\n",
       "      <th></th>\n",
       "      <th></th>\n",
       "      <th></th>\n",
       "      <th></th>\n",
       "      <th></th>\n",
       "      <th></th>\n",
       "      <th></th>\n",
       "      <th></th>\n",
       "      <th></th>\n",
       "      <th></th>\n",
       "      <th></th>\n",
       "      <th></th>\n",
       "      <th></th>\n",
       "      <th></th>\n",
       "      <th></th>\n",
       "    </tr>\n",
       "  </thead>\n",
       "  <tbody>\n",
       "    <tr>\n",
       "      <th>JTS2300JOL</th>\n",
       "      <td>JTS2300JOL</td>\n",
       "      <td>2024-11-16</td>\n",
       "      <td>2024-11-16</td>\n",
       "      <td>Job Openings: Construction</td>\n",
       "      <td>2000-12-01</td>\n",
       "      <td>2024-09-01</td>\n",
       "      <td>Monthly</td>\n",
       "      <td>M</td>\n",
       "      <td>Level in Thousands</td>\n",
       "      <td>Level in Thous.</td>\n",
       "      <td>Seasonally Adjusted</td>\n",
       "      <td>SA</td>\n",
       "      <td>2024-10-29 09:05:02-05:00</td>\n",
       "      <td>46</td>\n",
       "      <td>None</td>\n",
       "    </tr>\n",
       "    <tr>\n",
       "      <th>JTS3000JOL</th>\n",
       "      <td>JTS3000JOL</td>\n",
       "      <td>2024-11-16</td>\n",
       "      <td>2024-11-16</td>\n",
       "      <td>Job Openings: Manufacturing</td>\n",
       "      <td>2000-12-01</td>\n",
       "      <td>2024-09-01</td>\n",
       "      <td>Monthly</td>\n",
       "      <td>M</td>\n",
       "      <td>Level in Thousands</td>\n",
       "      <td>Level in Thous.</td>\n",
       "      <td>Seasonally Adjusted</td>\n",
       "      <td>SA</td>\n",
       "      <td>2024-10-29 09:05:04-05:00</td>\n",
       "      <td>40</td>\n",
       "      <td>None</td>\n",
       "    </tr>\n",
       "    <tr>\n",
       "      <th>JTS540099JOL</th>\n",
       "      <td>JTS540099JOL</td>\n",
       "      <td>2024-11-16</td>\n",
       "      <td>2024-11-16</td>\n",
       "      <td>Job Openings: Professional and Business Services</td>\n",
       "      <td>2000-12-01</td>\n",
       "      <td>2024-09-01</td>\n",
       "      <td>Monthly</td>\n",
       "      <td>M</td>\n",
       "      <td>Level in Thousands</td>\n",
       "      <td>Level in Thous.</td>\n",
       "      <td>Seasonally Adjusted</td>\n",
       "      <td>SA</td>\n",
       "      <td>2024-10-29 09:05:05-05:00</td>\n",
       "      <td>36</td>\n",
       "      <td>None</td>\n",
       "    </tr>\n",
       "    <tr>\n",
       "      <th>JTS7000JOL</th>\n",
       "      <td>JTS7000JOL</td>\n",
       "      <td>2024-11-16</td>\n",
       "      <td>2024-11-16</td>\n",
       "      <td>Job Openings: Leisure and Hospitality</td>\n",
       "      <td>2000-12-01</td>\n",
       "      <td>2024-09-01</td>\n",
       "      <td>Monthly</td>\n",
       "      <td>M</td>\n",
       "      <td>Level in Thousands</td>\n",
       "      <td>Level in Thous.</td>\n",
       "      <td>Seasonally Adjusted</td>\n",
       "      <td>SA</td>\n",
       "      <td>2024-10-29 09:05:06-05:00</td>\n",
       "      <td>29</td>\n",
       "      <td>None</td>\n",
       "    </tr>\n",
       "    <tr>\n",
       "      <th>JTS6000JOL</th>\n",
       "      <td>JTS6000JOL</td>\n",
       "      <td>2024-11-16</td>\n",
       "      <td>2024-11-16</td>\n",
       "      <td>Job Openings: Private Education and Health Ser...</td>\n",
       "      <td>2000-12-01</td>\n",
       "      <td>2024-09-01</td>\n",
       "      <td>Monthly</td>\n",
       "      <td>M</td>\n",
       "      <td>Level in Thousands</td>\n",
       "      <td>Level in Thous.</td>\n",
       "      <td>Seasonally Adjusted</td>\n",
       "      <td>SA</td>\n",
       "      <td>2024-10-29 09:05:14-05:00</td>\n",
       "      <td>16</td>\n",
       "      <td>None</td>\n",
       "    </tr>\n",
       "    <tr>\n",
       "      <th>JTS4000JOL</th>\n",
       "      <td>JTS4000JOL</td>\n",
       "      <td>2024-11-16</td>\n",
       "      <td>2024-11-16</td>\n",
       "      <td>Job Openings: Trade, Transportation, and Utili...</td>\n",
       "      <td>2000-12-01</td>\n",
       "      <td>2024-09-01</td>\n",
       "      <td>Monthly</td>\n",
       "      <td>M</td>\n",
       "      <td>Level in Thousands</td>\n",
       "      <td>Level in Thous.</td>\n",
       "      <td>Seasonally Adjusted</td>\n",
       "      <td>SA</td>\n",
       "      <td>2024-10-29 09:05:27-05:00</td>\n",
       "      <td>7</td>\n",
       "      <td>None</td>\n",
       "    </tr>\n",
       "  </tbody>\n",
       "</table>\n",
       "</div>"
      ],
      "text/plain": [
       "                        id realtime_start realtime_end  \\\n",
       "series id                                                \n",
       "JTS2300JOL      JTS2300JOL     2024-11-16   2024-11-16   \n",
       "JTS3000JOL      JTS3000JOL     2024-11-16   2024-11-16   \n",
       "JTS540099JOL  JTS540099JOL     2024-11-16   2024-11-16   \n",
       "JTS7000JOL      JTS7000JOL     2024-11-16   2024-11-16   \n",
       "JTS6000JOL      JTS6000JOL     2024-11-16   2024-11-16   \n",
       "JTS4000JOL      JTS4000JOL     2024-11-16   2024-11-16   \n",
       "\n",
       "                                                          title  \\\n",
       "series id                                                         \n",
       "JTS2300JOL                           Job Openings: Construction   \n",
       "JTS3000JOL                          Job Openings: Manufacturing   \n",
       "JTS540099JOL   Job Openings: Professional and Business Services   \n",
       "JTS7000JOL                Job Openings: Leisure and Hospitality   \n",
       "JTS6000JOL    Job Openings: Private Education and Health Ser...   \n",
       "JTS4000JOL    Job Openings: Trade, Transportation, and Utili...   \n",
       "\n",
       "             observation_start observation_end frequency frequency_short  \\\n",
       "series id                                                                  \n",
       "JTS2300JOL          2000-12-01      2024-09-01   Monthly               M   \n",
       "JTS3000JOL          2000-12-01      2024-09-01   Monthly               M   \n",
       "JTS540099JOL        2000-12-01      2024-09-01   Monthly               M   \n",
       "JTS7000JOL          2000-12-01      2024-09-01   Monthly               M   \n",
       "JTS6000JOL          2000-12-01      2024-09-01   Monthly               M   \n",
       "JTS4000JOL          2000-12-01      2024-09-01   Monthly               M   \n",
       "\n",
       "                           units      units_short  seasonal_adjustment  \\\n",
       "series id                                                                \n",
       "JTS2300JOL    Level in Thousands  Level in Thous.  Seasonally Adjusted   \n",
       "JTS3000JOL    Level in Thousands  Level in Thous.  Seasonally Adjusted   \n",
       "JTS540099JOL  Level in Thousands  Level in Thous.  Seasonally Adjusted   \n",
       "JTS7000JOL    Level in Thousands  Level in Thous.  Seasonally Adjusted   \n",
       "JTS6000JOL    Level in Thousands  Level in Thous.  Seasonally Adjusted   \n",
       "JTS4000JOL    Level in Thousands  Level in Thous.  Seasonally Adjusted   \n",
       "\n",
       "             seasonal_adjustment_short               last_updated popularity  \\\n",
       "series id                                                                      \n",
       "JTS2300JOL                          SA  2024-10-29 09:05:02-05:00         46   \n",
       "JTS3000JOL                          SA  2024-10-29 09:05:04-05:00         40   \n",
       "JTS540099JOL                        SA  2024-10-29 09:05:05-05:00         36   \n",
       "JTS7000JOL                          SA  2024-10-29 09:05:06-05:00         29   \n",
       "JTS6000JOL                          SA  2024-10-29 09:05:14-05:00         16   \n",
       "JTS4000JOL                          SA  2024-10-29 09:05:27-05:00          7   \n",
       "\n",
       "             notes  \n",
       "series id           \n",
       "JTS2300JOL    None  \n",
       "JTS3000JOL    None  \n",
       "JTS540099JOL  None  \n",
       "JTS7000JOL    None  \n",
       "JTS6000JOL    None  \n",
       "JTS4000JOL    None  "
      ]
     },
     "execution_count": 45,
     "metadata": {},
     "output_type": "execute_result"
    }
   ],
   "source": [
    "#Filtering for relevant data\n",
    "sector_job_openings = fred.search('Job Openings')\n",
    "sector_job_openings = sector_job_openings[sector_job_openings['seasonal_adjustment'] == 'Seasonally Adjusted']\n",
    "sector_job_openings = sector_job_openings[sector_job_openings['title'].str.contains('Job Openings')]\n",
    "sector_job_openings = sector_job_openings[sector_job_openings['units'] == 'Level in Thousands']\n",
    "sector_job_openings = sector_job_openings.iloc[[1, 3, 4, 6, 10, 13]]\n",
    "\n",
    "sector_job_openings"
   ]
  },
  {
   "cell_type": "code",
   "execution_count": 46,
   "metadata": {},
   "outputs": [],
   "source": [
    "#Creating a new list that contains all the data accessible by index\n",
    "\n",
    "all_results = []\n",
    "\n",
    "for id in sector_job_openings.index:\n",
    "    results = fred.get_series(id, observation_start='2019-01-01', observation_end='2024-10-01')\n",
    "    results = results.to_frame(name=id)\n",
    "    all_results.append(results)"
   ]
  },
  {
   "cell_type": "code",
   "execution_count": 47,
   "metadata": {},
   "outputs": [
    {
     "data": {
      "text/html": [
       "<div>\n",
       "<style scoped>\n",
       "    .dataframe tbody tr th:only-of-type {\n",
       "        vertical-align: middle;\n",
       "    }\n",
       "\n",
       "    .dataframe tbody tr th {\n",
       "        vertical-align: top;\n",
       "    }\n",
       "\n",
       "    .dataframe thead th {\n",
       "        text-align: right;\n",
       "    }\n",
       "</style>\n",
       "<table border=\"1\" class=\"dataframe\">\n",
       "  <thead>\n",
       "    <tr style=\"text-align: right;\">\n",
       "      <th></th>\n",
       "      <th>JTS2300JOL</th>\n",
       "    </tr>\n",
       "  </thead>\n",
       "  <tbody>\n",
       "    <tr>\n",
       "      <th>2019-01-01</th>\n",
       "      <td>309.0</td>\n",
       "    </tr>\n",
       "    <tr>\n",
       "      <th>2019-02-01</th>\n",
       "      <td>287.0</td>\n",
       "    </tr>\n",
       "    <tr>\n",
       "      <th>2019-03-01</th>\n",
       "      <td>359.0</td>\n",
       "    </tr>\n",
       "    <tr>\n",
       "      <th>2019-04-01</th>\n",
       "      <td>405.0</td>\n",
       "    </tr>\n",
       "    <tr>\n",
       "      <th>2019-05-01</th>\n",
       "      <td>357.0</td>\n",
       "    </tr>\n",
       "    <tr>\n",
       "      <th>...</th>\n",
       "      <td>...</td>\n",
       "    </tr>\n",
       "    <tr>\n",
       "      <th>2024-05-01</th>\n",
       "      <td>366.0</td>\n",
       "    </tr>\n",
       "    <tr>\n",
       "      <th>2024-06-01</th>\n",
       "      <td>299.0</td>\n",
       "    </tr>\n",
       "    <tr>\n",
       "      <th>2024-07-01</th>\n",
       "      <td>232.0</td>\n",
       "    </tr>\n",
       "    <tr>\n",
       "      <th>2024-08-01</th>\n",
       "      <td>328.0</td>\n",
       "    </tr>\n",
       "    <tr>\n",
       "      <th>2024-09-01</th>\n",
       "      <td>288.0</td>\n",
       "    </tr>\n",
       "  </tbody>\n",
       "</table>\n",
       "<p>69 rows × 1 columns</p>\n",
       "</div>"
      ],
      "text/plain": [
       "            JTS2300JOL\n",
       "2019-01-01       309.0\n",
       "2019-02-01       287.0\n",
       "2019-03-01       359.0\n",
       "2019-04-01       405.0\n",
       "2019-05-01       357.0\n",
       "...                ...\n",
       "2024-05-01       366.0\n",
       "2024-06-01       299.0\n",
       "2024-07-01       232.0\n",
       "2024-08-01       328.0\n",
       "2024-09-01       288.0\n",
       "\n",
       "[69 rows x 1 columns]"
      ]
     },
     "execution_count": 47,
     "metadata": {},
     "output_type": "execute_result"
    }
   ],
   "source": [
    "all_results[0]"
   ]
  },
  {
   "cell_type": "code",
   "execution_count": 48,
   "metadata": {},
   "outputs": [
    {
     "data": {
      "text/html": [
       "<div>\n",
       "<style scoped>\n",
       "    .dataframe tbody tr th:only-of-type {\n",
       "        vertical-align: middle;\n",
       "    }\n",
       "\n",
       "    .dataframe tbody tr th {\n",
       "        vertical-align: top;\n",
       "    }\n",
       "\n",
       "    .dataframe thead th {\n",
       "        text-align: right;\n",
       "    }\n",
       "</style>\n",
       "<table border=\"1\" class=\"dataframe\">\n",
       "  <thead>\n",
       "    <tr style=\"text-align: right;\">\n",
       "      <th></th>\n",
       "      <th>JTS2300JOL</th>\n",
       "      <th>JTS3000JOL</th>\n",
       "      <th>JTS540099JOL</th>\n",
       "      <th>JTS7000JOL</th>\n",
       "      <th>JTS6000JOL</th>\n",
       "      <th>JTS4000JOL</th>\n",
       "    </tr>\n",
       "  </thead>\n",
       "  <tbody>\n",
       "    <tr>\n",
       "      <th>2019-01-01</th>\n",
       "      <td>309.0</td>\n",
       "      <td>431.0</td>\n",
       "      <td>1391.0</td>\n",
       "      <td>1121.0</td>\n",
       "      <td>1360.0</td>\n",
       "      <td>1446.0</td>\n",
       "    </tr>\n",
       "    <tr>\n",
       "      <th>2019-02-01</th>\n",
       "      <td>287.0</td>\n",
       "      <td>457.0</td>\n",
       "      <td>1387.0</td>\n",
       "      <td>998.0</td>\n",
       "      <td>1215.0</td>\n",
       "      <td>1273.0</td>\n",
       "    </tr>\n",
       "    <tr>\n",
       "      <th>2019-03-01</th>\n",
       "      <td>359.0</td>\n",
       "      <td>435.0</td>\n",
       "      <td>1347.0</td>\n",
       "      <td>1005.0</td>\n",
       "      <td>1350.0</td>\n",
       "      <td>1311.0</td>\n",
       "    </tr>\n",
       "    <tr>\n",
       "      <th>2019-04-01</th>\n",
       "      <td>405.0</td>\n",
       "      <td>451.0</td>\n",
       "      <td>1169.0</td>\n",
       "      <td>1024.0</td>\n",
       "      <td>1399.0</td>\n",
       "      <td>1350.0</td>\n",
       "    </tr>\n",
       "    <tr>\n",
       "      <th>2019-05-01</th>\n",
       "      <td>357.0</td>\n",
       "      <td>471.0</td>\n",
       "      <td>1277.0</td>\n",
       "      <td>1018.0</td>\n",
       "      <td>1363.0</td>\n",
       "      <td>1312.0</td>\n",
       "    </tr>\n",
       "    <tr>\n",
       "      <th>...</th>\n",
       "      <td>...</td>\n",
       "      <td>...</td>\n",
       "      <td>...</td>\n",
       "      <td>...</td>\n",
       "      <td>...</td>\n",
       "      <td>...</td>\n",
       "    </tr>\n",
       "    <tr>\n",
       "      <th>2024-05-01</th>\n",
       "      <td>366.0</td>\n",
       "      <td>586.0</td>\n",
       "      <td>1512.0</td>\n",
       "      <td>900.0</td>\n",
       "      <td>1873.0</td>\n",
       "      <td>1047.0</td>\n",
       "    </tr>\n",
       "    <tr>\n",
       "      <th>2024-06-01</th>\n",
       "      <td>299.0</td>\n",
       "      <td>474.0</td>\n",
       "      <td>1339.0</td>\n",
       "      <td>943.0</td>\n",
       "      <td>1791.0</td>\n",
       "      <td>1185.0</td>\n",
       "    </tr>\n",
       "    <tr>\n",
       "      <th>2024-07-01</th>\n",
       "      <td>232.0</td>\n",
       "      <td>505.0</td>\n",
       "      <td>1553.0</td>\n",
       "      <td>965.0</td>\n",
       "      <td>1624.0</td>\n",
       "      <td>1038.0</td>\n",
       "    </tr>\n",
       "    <tr>\n",
       "      <th>2024-08-01</th>\n",
       "      <td>328.0</td>\n",
       "      <td>491.0</td>\n",
       "      <td>1454.0</td>\n",
       "      <td>1059.0</td>\n",
       "      <td>1636.0</td>\n",
       "      <td>1131.0</td>\n",
       "    </tr>\n",
       "    <tr>\n",
       "      <th>2024-09-01</th>\n",
       "      <td>288.0</td>\n",
       "      <td>481.0</td>\n",
       "      <td>1531.0</td>\n",
       "      <td>948.0</td>\n",
       "      <td>1461.0</td>\n",
       "      <td>997.0</td>\n",
       "    </tr>\n",
       "  </tbody>\n",
       "</table>\n",
       "<p>69 rows × 6 columns</p>\n",
       "</div>"
      ],
      "text/plain": [
       "            JTS2300JOL  JTS3000JOL  JTS540099JOL  JTS7000JOL  JTS6000JOL  \\\n",
       "2019-01-01       309.0       431.0        1391.0      1121.0      1360.0   \n",
       "2019-02-01       287.0       457.0        1387.0       998.0      1215.0   \n",
       "2019-03-01       359.0       435.0        1347.0      1005.0      1350.0   \n",
       "2019-04-01       405.0       451.0        1169.0      1024.0      1399.0   \n",
       "2019-05-01       357.0       471.0        1277.0      1018.0      1363.0   \n",
       "...                ...         ...           ...         ...         ...   \n",
       "2024-05-01       366.0       586.0        1512.0       900.0      1873.0   \n",
       "2024-06-01       299.0       474.0        1339.0       943.0      1791.0   \n",
       "2024-07-01       232.0       505.0        1553.0       965.0      1624.0   \n",
       "2024-08-01       328.0       491.0        1454.0      1059.0      1636.0   \n",
       "2024-09-01       288.0       481.0        1531.0       948.0      1461.0   \n",
       "\n",
       "            JTS4000JOL  \n",
       "2019-01-01      1446.0  \n",
       "2019-02-01      1273.0  \n",
       "2019-03-01      1311.0  \n",
       "2019-04-01      1350.0  \n",
       "2019-05-01      1312.0  \n",
       "...                ...  \n",
       "2024-05-01      1047.0  \n",
       "2024-06-01      1185.0  \n",
       "2024-07-01      1038.0  \n",
       "2024-08-01      1131.0  \n",
       "2024-09-01       997.0  \n",
       "\n",
       "[69 rows x 6 columns]"
      ]
     },
     "execution_count": 48,
     "metadata": {},
     "output_type": "execute_result"
    }
   ],
   "source": [
    "#Concatenating all dataframes in the list into a single dataframe\n",
    "sector_jo_df = pd.concat(all_results, axis=1, join='inner').dropna()\n",
    "sector_jo_df"
   ]
  },
  {
   "cell_type": "code",
   "execution_count": null,
   "metadata": {},
   "outputs": [
    {
     "data": {
      "text/plain": [
       "{'JTS2300JOL': 'Construction',\n",
       " 'JTS3000JOL': 'Manufacturing',\n",
       " 'JTS540099JOL': 'Professional and Business Services',\n",
       " 'JTS7000JOL': 'Leisure and Hospitality',\n",
       " 'JTS6000JOL': 'Private Education and Health Services',\n",
       " 'JTS4000JOL': 'Trade, Transportation, and Utilities'}"
      ]
     },
     "execution_count": 49,
     "metadata": {},
     "output_type": "execute_result"
    }
   ],
   "source": [
    "#Pairs each index ID with its corresponding title and removes 'job openings' from title\n",
    "label_names = {\n",
    "    index: title.replace('Job Openings:', '').strip()\n",
    "    for index, title in zip(sector_job_openings.index, sector_job_openings['title'])}\n",
    "label_names"
   ]
  },
  {
   "cell_type": "code",
   "execution_count": 50,
   "metadata": {},
   "outputs": [
    {
     "data": {
      "text/html": [
       "<div>\n",
       "<style scoped>\n",
       "    .dataframe tbody tr th:only-of-type {\n",
       "        vertical-align: middle;\n",
       "    }\n",
       "\n",
       "    .dataframe tbody tr th {\n",
       "        vertical-align: top;\n",
       "    }\n",
       "\n",
       "    .dataframe thead th {\n",
       "        text-align: right;\n",
       "    }\n",
       "</style>\n",
       "<table border=\"1\" class=\"dataframe\">\n",
       "  <thead>\n",
       "    <tr style=\"text-align: right;\">\n",
       "      <th></th>\n",
       "      <th>Construction</th>\n",
       "      <th>Manufacturing</th>\n",
       "      <th>Professional and Business Services</th>\n",
       "      <th>Leisure and Hospitality</th>\n",
       "      <th>Private Education and Health Services</th>\n",
       "      <th>Trade, Transportation, and Utilities</th>\n",
       "    </tr>\n",
       "  </thead>\n",
       "  <tbody>\n",
       "    <tr>\n",
       "      <th>2019-01-01</th>\n",
       "      <td>309.0</td>\n",
       "      <td>431.0</td>\n",
       "      <td>1391.0</td>\n",
       "      <td>1121.0</td>\n",
       "      <td>1360.0</td>\n",
       "      <td>1446.0</td>\n",
       "    </tr>\n",
       "    <tr>\n",
       "      <th>2019-02-01</th>\n",
       "      <td>287.0</td>\n",
       "      <td>457.0</td>\n",
       "      <td>1387.0</td>\n",
       "      <td>998.0</td>\n",
       "      <td>1215.0</td>\n",
       "      <td>1273.0</td>\n",
       "    </tr>\n",
       "    <tr>\n",
       "      <th>2019-03-01</th>\n",
       "      <td>359.0</td>\n",
       "      <td>435.0</td>\n",
       "      <td>1347.0</td>\n",
       "      <td>1005.0</td>\n",
       "      <td>1350.0</td>\n",
       "      <td>1311.0</td>\n",
       "    </tr>\n",
       "    <tr>\n",
       "      <th>2019-04-01</th>\n",
       "      <td>405.0</td>\n",
       "      <td>451.0</td>\n",
       "      <td>1169.0</td>\n",
       "      <td>1024.0</td>\n",
       "      <td>1399.0</td>\n",
       "      <td>1350.0</td>\n",
       "    </tr>\n",
       "    <tr>\n",
       "      <th>2019-05-01</th>\n",
       "      <td>357.0</td>\n",
       "      <td>471.0</td>\n",
       "      <td>1277.0</td>\n",
       "      <td>1018.0</td>\n",
       "      <td>1363.0</td>\n",
       "      <td>1312.0</td>\n",
       "    </tr>\n",
       "    <tr>\n",
       "      <th>...</th>\n",
       "      <td>...</td>\n",
       "      <td>...</td>\n",
       "      <td>...</td>\n",
       "      <td>...</td>\n",
       "      <td>...</td>\n",
       "      <td>...</td>\n",
       "    </tr>\n",
       "    <tr>\n",
       "      <th>2024-05-01</th>\n",
       "      <td>366.0</td>\n",
       "      <td>586.0</td>\n",
       "      <td>1512.0</td>\n",
       "      <td>900.0</td>\n",
       "      <td>1873.0</td>\n",
       "      <td>1047.0</td>\n",
       "    </tr>\n",
       "    <tr>\n",
       "      <th>2024-06-01</th>\n",
       "      <td>299.0</td>\n",
       "      <td>474.0</td>\n",
       "      <td>1339.0</td>\n",
       "      <td>943.0</td>\n",
       "      <td>1791.0</td>\n",
       "      <td>1185.0</td>\n",
       "    </tr>\n",
       "    <tr>\n",
       "      <th>2024-07-01</th>\n",
       "      <td>232.0</td>\n",
       "      <td>505.0</td>\n",
       "      <td>1553.0</td>\n",
       "      <td>965.0</td>\n",
       "      <td>1624.0</td>\n",
       "      <td>1038.0</td>\n",
       "    </tr>\n",
       "    <tr>\n",
       "      <th>2024-08-01</th>\n",
       "      <td>328.0</td>\n",
       "      <td>491.0</td>\n",
       "      <td>1454.0</td>\n",
       "      <td>1059.0</td>\n",
       "      <td>1636.0</td>\n",
       "      <td>1131.0</td>\n",
       "    </tr>\n",
       "    <tr>\n",
       "      <th>2024-09-01</th>\n",
       "      <td>288.0</td>\n",
       "      <td>481.0</td>\n",
       "      <td>1531.0</td>\n",
       "      <td>948.0</td>\n",
       "      <td>1461.0</td>\n",
       "      <td>997.0</td>\n",
       "    </tr>\n",
       "  </tbody>\n",
       "</table>\n",
       "<p>69 rows × 6 columns</p>\n",
       "</div>"
      ],
      "text/plain": [
       "            Construction  Manufacturing  Professional and Business Services  \\\n",
       "2019-01-01         309.0          431.0                              1391.0   \n",
       "2019-02-01         287.0          457.0                              1387.0   \n",
       "2019-03-01         359.0          435.0                              1347.0   \n",
       "2019-04-01         405.0          451.0                              1169.0   \n",
       "2019-05-01         357.0          471.0                              1277.0   \n",
       "...                  ...            ...                                 ...   \n",
       "2024-05-01         366.0          586.0                              1512.0   \n",
       "2024-06-01         299.0          474.0                              1339.0   \n",
       "2024-07-01         232.0          505.0                              1553.0   \n",
       "2024-08-01         328.0          491.0                              1454.0   \n",
       "2024-09-01         288.0          481.0                              1531.0   \n",
       "\n",
       "            Leisure and Hospitality  Private Education and Health Services  \\\n",
       "2019-01-01                   1121.0                                 1360.0   \n",
       "2019-02-01                    998.0                                 1215.0   \n",
       "2019-03-01                   1005.0                                 1350.0   \n",
       "2019-04-01                   1024.0                                 1399.0   \n",
       "2019-05-01                   1018.0                                 1363.0   \n",
       "...                             ...                                    ...   \n",
       "2024-05-01                    900.0                                 1873.0   \n",
       "2024-06-01                    943.0                                 1791.0   \n",
       "2024-07-01                    965.0                                 1624.0   \n",
       "2024-08-01                   1059.0                                 1636.0   \n",
       "2024-09-01                    948.0                                 1461.0   \n",
       "\n",
       "            Trade, Transportation, and Utilities  \n",
       "2019-01-01                                1446.0  \n",
       "2019-02-01                                1273.0  \n",
       "2019-03-01                                1311.0  \n",
       "2019-04-01                                1350.0  \n",
       "2019-05-01                                1312.0  \n",
       "...                                          ...  \n",
       "2024-05-01                                1047.0  \n",
       "2024-06-01                                1185.0  \n",
       "2024-07-01                                1038.0  \n",
       "2024-08-01                                1131.0  \n",
       "2024-09-01                                 997.0  \n",
       "\n",
       "[69 rows x 6 columns]"
      ]
     },
     "execution_count": 50,
     "metadata": {},
     "output_type": "execute_result"
    }
   ],
   "source": [
    "#Replacing series ID with corresponding title\n",
    "for i, (id, title) in enumerate(label_names.items()):\n",
    "    sector_jo_df = sector_jo_df.rename(columns={id:title})\n",
    "\n",
    "sector_jo_df"
   ]
  },
  {
   "cell_type": "code",
   "execution_count": null,
   "metadata": {},
   "outputs": [
    {
     "data": {
      "text/html": [
       "<div>\n",
       "<style scoped>\n",
       "    .dataframe tbody tr th:only-of-type {\n",
       "        vertical-align: middle;\n",
       "    }\n",
       "\n",
       "    .dataframe tbody tr th {\n",
       "        vertical-align: top;\n",
       "    }\n",
       "\n",
       "    .dataframe thead th {\n",
       "        text-align: right;\n",
       "    }\n",
       "</style>\n",
       "<table border=\"1\" class=\"dataframe\">\n",
       "  <thead>\n",
       "    <tr style=\"text-align: right;\">\n",
       "      <th></th>\n",
       "      <th>Construction</th>\n",
       "      <th>Manufacturing</th>\n",
       "      <th>Professional and Business Services</th>\n",
       "      <th>Leisure and Hospitality</th>\n",
       "      <th>Private Education and Health Services</th>\n",
       "      <th>Trade, Transportation, and Utilities</th>\n",
       "    </tr>\n",
       "  </thead>\n",
       "  <tbody>\n",
       "    <tr>\n",
       "      <th>2019-01-01</th>\n",
       "      <td>309.0</td>\n",
       "      <td>431.0</td>\n",
       "      <td>1391.0</td>\n",
       "      <td>1121.0</td>\n",
       "      <td>1360.0</td>\n",
       "      <td>1446.0</td>\n",
       "    </tr>\n",
       "    <tr>\n",
       "      <th>2019-02-01</th>\n",
       "      <td>287.0</td>\n",
       "      <td>457.0</td>\n",
       "      <td>1387.0</td>\n",
       "      <td>998.0</td>\n",
       "      <td>1215.0</td>\n",
       "      <td>1273.0</td>\n",
       "    </tr>\n",
       "    <tr>\n",
       "      <th>2019-03-01</th>\n",
       "      <td>359.0</td>\n",
       "      <td>435.0</td>\n",
       "      <td>1347.0</td>\n",
       "      <td>1005.0</td>\n",
       "      <td>1350.0</td>\n",
       "      <td>1311.0</td>\n",
       "    </tr>\n",
       "    <tr>\n",
       "      <th>2019-04-01</th>\n",
       "      <td>405.0</td>\n",
       "      <td>451.0</td>\n",
       "      <td>1169.0</td>\n",
       "      <td>1024.0</td>\n",
       "      <td>1399.0</td>\n",
       "      <td>1350.0</td>\n",
       "    </tr>\n",
       "    <tr>\n",
       "      <th>2019-05-01</th>\n",
       "      <td>357.0</td>\n",
       "      <td>471.0</td>\n",
       "      <td>1277.0</td>\n",
       "      <td>1018.0</td>\n",
       "      <td>1363.0</td>\n",
       "      <td>1312.0</td>\n",
       "    </tr>\n",
       "    <tr>\n",
       "      <th>...</th>\n",
       "      <td>...</td>\n",
       "      <td>...</td>\n",
       "      <td>...</td>\n",
       "      <td>...</td>\n",
       "      <td>...</td>\n",
       "      <td>...</td>\n",
       "    </tr>\n",
       "    <tr>\n",
       "      <th>2024-05-01</th>\n",
       "      <td>366.0</td>\n",
       "      <td>586.0</td>\n",
       "      <td>1512.0</td>\n",
       "      <td>900.0</td>\n",
       "      <td>1873.0</td>\n",
       "      <td>1047.0</td>\n",
       "    </tr>\n",
       "    <tr>\n",
       "      <th>2024-06-01</th>\n",
       "      <td>299.0</td>\n",
       "      <td>474.0</td>\n",
       "      <td>1339.0</td>\n",
       "      <td>943.0</td>\n",
       "      <td>1791.0</td>\n",
       "      <td>1185.0</td>\n",
       "    </tr>\n",
       "    <tr>\n",
       "      <th>2024-07-01</th>\n",
       "      <td>232.0</td>\n",
       "      <td>505.0</td>\n",
       "      <td>1553.0</td>\n",
       "      <td>965.0</td>\n",
       "      <td>1624.0</td>\n",
       "      <td>1038.0</td>\n",
       "    </tr>\n",
       "    <tr>\n",
       "      <th>2024-08-01</th>\n",
       "      <td>328.0</td>\n",
       "      <td>491.0</td>\n",
       "      <td>1454.0</td>\n",
       "      <td>1059.0</td>\n",
       "      <td>1636.0</td>\n",
       "      <td>1131.0</td>\n",
       "    </tr>\n",
       "    <tr>\n",
       "      <th>2024-09-01</th>\n",
       "      <td>288.0</td>\n",
       "      <td>481.0</td>\n",
       "      <td>1531.0</td>\n",
       "      <td>948.0</td>\n",
       "      <td>1461.0</td>\n",
       "      <td>997.0</td>\n",
       "    </tr>\n",
       "  </tbody>\n",
       "</table>\n",
       "<p>69 rows × 6 columns</p>\n",
       "</div>"
      ],
      "text/plain": [
       "            Construction  Manufacturing  Professional and Business Services  \\\n",
       "2019-01-01         309.0          431.0                              1391.0   \n",
       "2019-02-01         287.0          457.0                              1387.0   \n",
       "2019-03-01         359.0          435.0                              1347.0   \n",
       "2019-04-01         405.0          451.0                              1169.0   \n",
       "2019-05-01         357.0          471.0                              1277.0   \n",
       "...                  ...            ...                                 ...   \n",
       "2024-05-01         366.0          586.0                              1512.0   \n",
       "2024-06-01         299.0          474.0                              1339.0   \n",
       "2024-07-01         232.0          505.0                              1553.0   \n",
       "2024-08-01         328.0          491.0                              1454.0   \n",
       "2024-09-01         288.0          481.0                              1531.0   \n",
       "\n",
       "            Leisure and Hospitality  Private Education and Health Services  \\\n",
       "2019-01-01                   1121.0                                 1360.0   \n",
       "2019-02-01                    998.0                                 1215.0   \n",
       "2019-03-01                   1005.0                                 1350.0   \n",
       "2019-04-01                   1024.0                                 1399.0   \n",
       "2019-05-01                   1018.0                                 1363.0   \n",
       "...                             ...                                    ...   \n",
       "2024-05-01                    900.0                                 1873.0   \n",
       "2024-06-01                    943.0                                 1791.0   \n",
       "2024-07-01                    965.0                                 1624.0   \n",
       "2024-08-01                   1059.0                                 1636.0   \n",
       "2024-09-01                    948.0                                 1461.0   \n",
       "\n",
       "            Trade, Transportation, and Utilities  \n",
       "2019-01-01                                1446.0  \n",
       "2019-02-01                                1273.0  \n",
       "2019-03-01                                1311.0  \n",
       "2019-04-01                                1350.0  \n",
       "2019-05-01                                1312.0  \n",
       "...                                          ...  \n",
       "2024-05-01                                1047.0  \n",
       "2024-06-01                                1185.0  \n",
       "2024-07-01                                1038.0  \n",
       "2024-08-01                                1131.0  \n",
       "2024-09-01                                 997.0  \n",
       "\n",
       "[69 rows x 6 columns]"
      ]
     },
     "execution_count": 40,
     "metadata": {},
     "output_type": "execute_result"
    }
   ],
   "source": [
    "#Remove 'Job Openings:' from the column titles\n",
    "# sector_jo_df.columns = sector_jo_df.columns.str.replace('Job Openings:', '', regex=False).str.strip()\n",
    "# sector_jo_df"
   ]
  },
  {
   "cell_type": "code",
   "execution_count": 88,
   "metadata": {},
   "outputs": [
    {
     "data": {
      "image/png": "[encoded data removed]",
      "text/plain": [
       "<Figure size 1070x800 with 1 Axes>"
      ]
     },
     "metadata": {},
     "output_type": "display_data"
    }
   ],
   "source": [
    "plt.figure(figsize=(10.7, 8))\n",
    "sns.lineplot(data=sector_jo_df, dashes=False)\n",
    "sns.set_theme(style='ticks')\n",
    "sns.despine()\n",
    "\n",
    "plt.title('Job Openings Trend by Sector, 2019-2024', fontsize=19, y=1.02)\n",
    "plt.ylabel('Level in Thousands')\n",
    "\n",
    "ax= plt.gca()\n",
    "ax.yaxis.set_major_formatter(plt.FuncFormatter(lambda y, pos: f'{int(y):,}'))\n",
    "\n",
    "\n",
    "for i, (id, title) in enumerate(label_names.items()):\n",
    "    offset=0  \n",
    "    y_val = sector_jo_df.iloc[-1, i]\n",
    "    x_val = sector_jo_df.index[-1] \n",
    "    x_pos= x_val + pd.Timedelta(days=32)  \n",
    "\n",
    "    if i == 3 or i == 4: \n",
    "        offset = 100\n",
    "        y_val = sector_jo_df.iloc[-1, i] - offset\n",
    "    elif i == 2 or i == 5:\n",
    "        offset =30\n",
    "        y_val = sector_jo_df.iloc[-1, i] + offset\n",
    "\n",
    "    plt.text(x_pos, y_val, label_names[id], fontsize=12)"
   ]
  },
  {
   "cell_type": "code",
   "execution_count": 53,
   "metadata": {},
   "outputs": [
    {
     "name": "stdout",
     "output_type": "stream",
     "text": [
      "0 JTS2300JOL Construction\n",
      "1 JTS3000JOL Manufacturing\n",
      "2 JTS540099JOL Professional and Business Services\n",
      "3 JTS7000JOL Leisure and Hospitality\n",
      "4 JTS6000JOL Private Education and Health Services\n",
      "5 JTS4000JOL Trade, Transportation, and Utilities\n"
     ]
    }
   ],
   "source": [
    "for i, (label, items) in enumerate(label_names.items()):\n",
    "    print(i, label, items)"
   ]
  }
 ],
 "metadata": {
  "kernelspec": {
   "display_name": "python_course",
   "language": "python",
   "name": "python3"
  },
  "language_info": {
   "codemirror_mode": {
    "name": "ipython",
    "version": 3
   },
   "file_extension": ".py",
   "mimetype": "text/x-python",
   "name": "python",
   "nbconvert_exporter": "python",
   "pygments_lexer": "ipython3",
   "version": "3.11.10"
  }
 },
 "nbformat": 4,
 "nbformat_minor": 2
}
