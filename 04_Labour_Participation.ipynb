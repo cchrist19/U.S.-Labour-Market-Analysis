{
 "cells": [
  {
   "cell_type": "code",
   "execution_count": null,
   "metadata": {},
   "outputs": [],
   "source": [
    "#importing libraries\n",
    "import pandas as pd \n",
    "import numpy as np\n",
    "import matplotlib.pyplot as plt\n",
    "import plotly.express as px\n",
    "import seaborn as sns \n",
    "from plotly.subplots import make_subplots"
   ]
  },
  {
   "cell_type": "code",
   "execution_count": null,
   "metadata": {},
   "outputs": [],
   "source": [
    "#import fredapi key\n",
    "from fredapi import Fred\n",
    "\n",
    "from dotenv import load_dotenv\n",
    "import os\n",
    "\n",
    "#Load variables from .env\n",
    "load_dotenv() \n",
    "fred_key = os.getenv(\"FRED_API_KEY\")\n",
    "\n",
    "#create fred object\n",
    "fred = Fred(api_key=fred_key)"
   ]
  },
  {
   "cell_type": "markdown",
   "metadata": {},
   "source": [
    "- Plot uneployment rate alongside labor force participation rate to see how both correlate with each other."
   ]
  },
  {
   "cell_type": "code",
   "execution_count": 4,
   "metadata": {},
   "outputs": [
    {
     "data": {
      "text/html": [
       "<div>\n",
       "<style scoped>\n",
       "    .dataframe tbody tr th:only-of-type {\n",
       "        vertical-align: middle;\n",
       "    }\n",
       "\n",
       "    .dataframe tbody tr th {\n",
       "        vertical-align: top;\n",
       "    }\n",
       "\n",
       "    .dataframe thead th {\n",
       "        text-align: right;\n",
       "    }\n",
       "</style>\n",
       "<table border=\"1\" class=\"dataframe\">\n",
       "  <thead>\n",
       "    <tr style=\"text-align: right;\">\n",
       "      <th></th>\n",
       "      <th>id</th>\n",
       "      <th>realtime_start</th>\n",
       "      <th>realtime_end</th>\n",
       "      <th>title</th>\n",
       "      <th>observation_start</th>\n",
       "      <th>observation_end</th>\n",
       "      <th>frequency</th>\n",
       "      <th>frequency_short</th>\n",
       "      <th>units</th>\n",
       "      <th>units_short</th>\n",
       "      <th>seasonal_adjustment</th>\n",
       "      <th>seasonal_adjustment_short</th>\n",
       "      <th>last_updated</th>\n",
       "      <th>popularity</th>\n",
       "      <th>notes</th>\n",
       "    </tr>\n",
       "    <tr>\n",
       "      <th>series id</th>\n",
       "      <th></th>\n",
       "      <th></th>\n",
       "      <th></th>\n",
       "      <th></th>\n",
       "      <th></th>\n",
       "      <th></th>\n",
       "      <th></th>\n",
       "      <th></th>\n",
       "      <th></th>\n",
       "      <th></th>\n",
       "      <th></th>\n",
       "      <th></th>\n",
       "      <th></th>\n",
       "      <th></th>\n",
       "      <th></th>\n",
       "    </tr>\n",
       "  </thead>\n",
       "  <tbody>\n",
       "    <tr>\n",
       "      <th>UNRATE</th>\n",
       "      <td>UNRATE</td>\n",
       "      <td>2024-11-15</td>\n",
       "      <td>2024-11-15</td>\n",
       "      <td>Unemployment Rate</td>\n",
       "      <td>1948-01-01</td>\n",
       "      <td>2024-10-01</td>\n",
       "      <td>Monthly</td>\n",
       "      <td>M</td>\n",
       "      <td>Percent</td>\n",
       "      <td>%</td>\n",
       "      <td>Seasonally Adjusted</td>\n",
       "      <td>SA</td>\n",
       "      <td>2024-11-01 07:47:02-05:00</td>\n",
       "      <td>95</td>\n",
       "      <td>The unemployment rate represents the number of...</td>\n",
       "    </tr>\n",
       "    <tr>\n",
       "      <th>UNRATENSA</th>\n",
       "      <td>UNRATENSA</td>\n",
       "      <td>2024-11-15</td>\n",
       "      <td>2024-11-15</td>\n",
       "      <td>Unemployment Rate</td>\n",
       "      <td>1948-01-01</td>\n",
       "      <td>2024-10-01</td>\n",
       "      <td>Monthly</td>\n",
       "      <td>M</td>\n",
       "      <td>Percent</td>\n",
       "      <td>%</td>\n",
       "      <td>Not Seasonally Adjusted</td>\n",
       "      <td>NSA</td>\n",
       "      <td>2024-11-01 07:46:03-05:00</td>\n",
       "      <td>58</td>\n",
       "      <td>The unemployment rate represents the number of...</td>\n",
       "    </tr>\n",
       "    <tr>\n",
       "      <th>LNS14000006</th>\n",
       "      <td>LNS14000006</td>\n",
       "      <td>2024-11-15</td>\n",
       "      <td>2024-11-15</td>\n",
       "      <td>Unemployment Rate - Black or African American</td>\n",
       "      <td>1972-01-01</td>\n",
       "      <td>2024-10-01</td>\n",
       "      <td>Monthly</td>\n",
       "      <td>M</td>\n",
       "      <td>Percent</td>\n",
       "      <td>%</td>\n",
       "      <td>Seasonally Adjusted</td>\n",
       "      <td>SA</td>\n",
       "      <td>2024-11-01 07:47:04-05:00</td>\n",
       "      <td>72</td>\n",
       "      <td>The series comes from the 'Current Population ...</td>\n",
       "    </tr>\n",
       "    <tr>\n",
       "      <th>LNU04000006</th>\n",
       "      <td>LNU04000006</td>\n",
       "      <td>2024-11-15</td>\n",
       "      <td>2024-11-15</td>\n",
       "      <td>Unemployment Rate - Black or African American</td>\n",
       "      <td>1972-01-01</td>\n",
       "      <td>2024-10-01</td>\n",
       "      <td>Monthly</td>\n",
       "      <td>M</td>\n",
       "      <td>Percent</td>\n",
       "      <td>%</td>\n",
       "      <td>Not Seasonally Adjusted</td>\n",
       "      <td>NSA</td>\n",
       "      <td>2024-11-01 07:46:20-05:00</td>\n",
       "      <td>23</td>\n",
       "      <td>The series comes from the 'Current Population ...</td>\n",
       "    </tr>\n",
       "    <tr>\n",
       "      <th>NROU</th>\n",
       "      <td>NROU</td>\n",
       "      <td>2024-11-15</td>\n",
       "      <td>2024-11-15</td>\n",
       "      <td>Noncyclical Rate of Unemployment</td>\n",
       "      <td>1949-01-01</td>\n",
       "      <td>2034-10-01</td>\n",
       "      <td>Quarterly</td>\n",
       "      <td>Q</td>\n",
       "      <td>Percent</td>\n",
       "      <td>%</td>\n",
       "      <td>Not Seasonally Adjusted</td>\n",
       "      <td>NSA</td>\n",
       "      <td>2024-07-01 12:01:04-05:00</td>\n",
       "      <td>69</td>\n",
       "      <td>Starting with the July, 2021 report: An Update...</td>\n",
       "    </tr>\n",
       "    <tr>\n",
       "      <th>...</th>\n",
       "      <td>...</td>\n",
       "      <td>...</td>\n",
       "      <td>...</td>\n",
       "      <td>...</td>\n",
       "      <td>...</td>\n",
       "      <td>...</td>\n",
       "      <td>...</td>\n",
       "      <td>...</td>\n",
       "      <td>...</td>\n",
       "      <td>...</td>\n",
       "      <td>...</td>\n",
       "      <td>...</td>\n",
       "      <td>...</td>\n",
       "      <td>...</td>\n",
       "      <td>...</td>\n",
       "    </tr>\n",
       "    <tr>\n",
       "      <th>LRUN74TTDKQ156N</th>\n",
       "      <td>LRUN74TTDKQ156N</td>\n",
       "      <td>2024-11-15</td>\n",
       "      <td>2024-11-15</td>\n",
       "      <td>Infra-Annual Labor Statistics: Unemployment Ra...</td>\n",
       "      <td>1995-01-01</td>\n",
       "      <td>2024-04-01</td>\n",
       "      <td>Quarterly</td>\n",
       "      <td>Q</td>\n",
       "      <td>Percent</td>\n",
       "      <td>%</td>\n",
       "      <td>Not Seasonally Adjusted</td>\n",
       "      <td>NSA</td>\n",
       "      <td>2024-10-15 13:55:09-05:00</td>\n",
       "      <td>5</td>\n",
       "      <td>OECD Data Filters:  REF_AREA: DNK MEASURE: UNE...</td>\n",
       "    </tr>\n",
       "    <tr>\n",
       "      <th>WICH620UR</th>\n",
       "      <td>WICH620UR</td>\n",
       "      <td>2024-11-15</td>\n",
       "      <td>2024-11-15</td>\n",
       "      <td>Unemployment Rate in Wichita, KS (MSA)</td>\n",
       "      <td>1990-01-01</td>\n",
       "      <td>2024-09-01</td>\n",
       "      <td>Monthly</td>\n",
       "      <td>M</td>\n",
       "      <td>Percent</td>\n",
       "      <td>%</td>\n",
       "      <td>Smoothed Seasonally Adjusted</td>\n",
       "      <td>SSA</td>\n",
       "      <td>2024-10-30 13:31:06-05:00</td>\n",
       "      <td>5</td>\n",
       "      <td>None</td>\n",
       "    </tr>\n",
       "    <tr>\n",
       "      <th>CNERURN</th>\n",
       "      <td>CNERURN</td>\n",
       "      <td>2024-11-15</td>\n",
       "      <td>2024-11-15</td>\n",
       "      <td>Unemployment Rate in Northeast Census Region</td>\n",
       "      <td>1976-01-01</td>\n",
       "      <td>2024-09-01</td>\n",
       "      <td>Monthly</td>\n",
       "      <td>M</td>\n",
       "      <td>Percent</td>\n",
       "      <td>%</td>\n",
       "      <td>Not Seasonally Adjusted</td>\n",
       "      <td>NSA</td>\n",
       "      <td>2024-10-23 21:54:21-05:00</td>\n",
       "      <td>5</td>\n",
       "      <td>None</td>\n",
       "    </tr>\n",
       "    <tr>\n",
       "      <th>FASUR</th>\n",
       "      <td>FASUR</td>\n",
       "      <td>2024-11-15</td>\n",
       "      <td>2024-11-15</td>\n",
       "      <td>Unemployment Rate in Fayetteville-Springdale-R...</td>\n",
       "      <td>1990-01-01</td>\n",
       "      <td>2024-09-01</td>\n",
       "      <td>Monthly</td>\n",
       "      <td>M</td>\n",
       "      <td>Percent</td>\n",
       "      <td>%</td>\n",
       "      <td>Smoothed Seasonally Adjusted</td>\n",
       "      <td>SSA</td>\n",
       "      <td>2024-10-30 13:32:06-05:00</td>\n",
       "      <td>5</td>\n",
       "      <td>None</td>\n",
       "    </tr>\n",
       "    <tr>\n",
       "      <th>LAUMT552458000000003A</th>\n",
       "      <td>LAUMT552458000000003A</td>\n",
       "      <td>2024-11-15</td>\n",
       "      <td>2024-11-15</td>\n",
       "      <td>Unemployment Rate in Green Bay, WI (MSA)</td>\n",
       "      <td>1990-01-01</td>\n",
       "      <td>2023-01-01</td>\n",
       "      <td>Annual</td>\n",
       "      <td>A</td>\n",
       "      <td>Percent</td>\n",
       "      <td>%</td>\n",
       "      <td>Not Seasonally Adjusted</td>\n",
       "      <td>NSA</td>\n",
       "      <td>2024-05-01 10:24:03-05:00</td>\n",
       "      <td>5</td>\n",
       "      <td>None</td>\n",
       "    </tr>\n",
       "  </tbody>\n",
       "</table>\n",
       "<p>1000 rows × 15 columns</p>\n",
       "</div>"
      ],
      "text/plain": [
       "                                          id realtime_start realtime_end  \\\n",
       "series id                                                                  \n",
       "UNRATE                                UNRATE     2024-11-15   2024-11-15   \n",
       "UNRATENSA                          UNRATENSA     2024-11-15   2024-11-15   \n",
       "LNS14000006                      LNS14000006     2024-11-15   2024-11-15   \n",
       "LNU04000006                      LNU04000006     2024-11-15   2024-11-15   \n",
       "NROU                                    NROU     2024-11-15   2024-11-15   \n",
       "...                                      ...            ...          ...   \n",
       "LRUN74TTDKQ156N              LRUN74TTDKQ156N     2024-11-15   2024-11-15   \n",
       "WICH620UR                          WICH620UR     2024-11-15   2024-11-15   \n",
       "CNERURN                              CNERURN     2024-11-15   2024-11-15   \n",
       "FASUR                                  FASUR     2024-11-15   2024-11-15   \n",
       "LAUMT552458000000003A  LAUMT552458000000003A     2024-11-15   2024-11-15   \n",
       "\n",
       "                                                                   title  \\\n",
       "series id                                                                  \n",
       "UNRATE                                                 Unemployment Rate   \n",
       "UNRATENSA                                              Unemployment Rate   \n",
       "LNS14000006                Unemployment Rate - Black or African American   \n",
       "LNU04000006                Unemployment Rate - Black or African American   \n",
       "NROU                                    Noncyclical Rate of Unemployment   \n",
       "...                                                                  ...   \n",
       "LRUN74TTDKQ156N        Infra-Annual Labor Statistics: Unemployment Ra...   \n",
       "WICH620UR                         Unemployment Rate in Wichita, KS (MSA)   \n",
       "CNERURN                     Unemployment Rate in Northeast Census Region   \n",
       "FASUR                  Unemployment Rate in Fayetteville-Springdale-R...   \n",
       "LAUMT552458000000003A           Unemployment Rate in Green Bay, WI (MSA)   \n",
       "\n",
       "                      observation_start observation_end  frequency  \\\n",
       "series id                                                            \n",
       "UNRATE                       1948-01-01      2024-10-01    Monthly   \n",
       "UNRATENSA                    1948-01-01      2024-10-01    Monthly   \n",
       "LNS14000006                  1972-01-01      2024-10-01    Monthly   \n",
       "LNU04000006                  1972-01-01      2024-10-01    Monthly   \n",
       "NROU                         1949-01-01      2034-10-01  Quarterly   \n",
       "...                                 ...             ...        ...   \n",
       "LRUN74TTDKQ156N              1995-01-01      2024-04-01  Quarterly   \n",
       "WICH620UR                    1990-01-01      2024-09-01    Monthly   \n",
       "CNERURN                      1976-01-01      2024-09-01    Monthly   \n",
       "FASUR                        1990-01-01      2024-09-01    Monthly   \n",
       "LAUMT552458000000003A        1990-01-01      2023-01-01     Annual   \n",
       "\n",
       "                      frequency_short    units units_short  \\\n",
       "series id                                                    \n",
       "UNRATE                              M  Percent           %   \n",
       "UNRATENSA                           M  Percent           %   \n",
       "LNS14000006                         M  Percent           %   \n",
       "LNU04000006                         M  Percent           %   \n",
       "NROU                                Q  Percent           %   \n",
       "...                               ...      ...         ...   \n",
       "LRUN74TTDKQ156N                     Q  Percent           %   \n",
       "WICH620UR                           M  Percent           %   \n",
       "CNERURN                             M  Percent           %   \n",
       "FASUR                               M  Percent           %   \n",
       "LAUMT552458000000003A               A  Percent           %   \n",
       "\n",
       "                                seasonal_adjustment seasonal_adjustment_short  \\\n",
       "series id                                                                       \n",
       "UNRATE                          Seasonally Adjusted                        SA   \n",
       "UNRATENSA                   Not Seasonally Adjusted                       NSA   \n",
       "LNS14000006                     Seasonally Adjusted                        SA   \n",
       "LNU04000006                 Not Seasonally Adjusted                       NSA   \n",
       "NROU                        Not Seasonally Adjusted                       NSA   \n",
       "...                                             ...                       ...   \n",
       "LRUN74TTDKQ156N             Not Seasonally Adjusted                       NSA   \n",
       "WICH620UR              Smoothed Seasonally Adjusted                       SSA   \n",
       "CNERURN                     Not Seasonally Adjusted                       NSA   \n",
       "FASUR                  Smoothed Seasonally Adjusted                       SSA   \n",
       "LAUMT552458000000003A       Not Seasonally Adjusted                       NSA   \n",
       "\n",
       "                                    last_updated popularity  \\\n",
       "series id                                                     \n",
       "UNRATE                 2024-11-01 07:47:02-05:00         95   \n",
       "UNRATENSA              2024-11-01 07:46:03-05:00         58   \n",
       "LNS14000006            2024-11-01 07:47:04-05:00         72   \n",
       "LNU04000006            2024-11-01 07:46:20-05:00         23   \n",
       "NROU                   2024-07-01 12:01:04-05:00         69   \n",
       "...                                          ...        ...   \n",
       "LRUN74TTDKQ156N        2024-10-15 13:55:09-05:00          5   \n",
       "WICH620UR              2024-10-30 13:31:06-05:00          5   \n",
       "CNERURN                2024-10-23 21:54:21-05:00          5   \n",
       "FASUR                  2024-10-30 13:32:06-05:00          5   \n",
       "LAUMT552458000000003A  2024-05-01 10:24:03-05:00          5   \n",
       "\n",
       "                                                                   notes  \n",
       "series id                                                                 \n",
       "UNRATE                 The unemployment rate represents the number of...  \n",
       "UNRATENSA              The unemployment rate represents the number of...  \n",
       "LNS14000006            The series comes from the 'Current Population ...  \n",
       "LNU04000006            The series comes from the 'Current Population ...  \n",
       "NROU                   Starting with the July, 2021 report: An Update...  \n",
       "...                                                                  ...  \n",
       "LRUN74TTDKQ156N        OECD Data Filters:  REF_AREA: DNK MEASURE: UNE...  \n",
       "WICH620UR                                                           None  \n",
       "CNERURN                                                             None  \n",
       "FASUR                                                               None  \n",
       "LAUMT552458000000003A                                               None  \n",
       "\n",
       "[1000 rows x 15 columns]"
      ]
     },
     "execution_count": 4,
     "metadata": {},
     "output_type": "execute_result"
    }
   ],
   "source": [
    "fred.search('unemployment rate')"
   ]
  },
  {
   "cell_type": "code",
   "execution_count": 5,
   "metadata": {},
   "outputs": [
    {
     "data": {
      "text/plain": [
       "2019-01-01    4.0\n",
       "2019-02-01    3.8\n",
       "2019-03-01    3.8\n",
       "2019-04-01    3.7\n",
       "2019-05-01    3.6\n",
       "             ... \n",
       "2024-06-01    4.1\n",
       "2024-07-01    4.3\n",
       "2024-08-01    4.2\n",
       "2024-09-01    4.1\n",
       "2024-10-01    4.1\n",
       "Length: 70, dtype: float64"
      ]
     },
     "execution_count": 5,
     "metadata": {},
     "output_type": "execute_result"
    }
   ],
   "source": [
    "unemp = fred.get_series('UNRATE', observation_start='2019-01-01', observation_end='2024-10-01')\n",
    "unemp"
   ]
  },
  {
   "cell_type": "code",
   "execution_count": 6,
   "metadata": {},
   "outputs": [
    {
     "data": {
      "text/plain": [
       "2019-01-01    63.1\n",
       "2019-02-01    63.1\n",
       "2019-03-01    63.0\n",
       "2019-04-01    62.8\n",
       "2019-05-01    62.9\n",
       "              ... \n",
       "2024-06-01    62.6\n",
       "2024-07-01    62.7\n",
       "2024-08-01    62.7\n",
       "2024-09-01    62.7\n",
       "2024-10-01    62.6\n",
       "Length: 70, dtype: float64"
      ]
     },
     "execution_count": 6,
     "metadata": {},
     "output_type": "execute_result"
    }
   ],
   "source": [
    "part_rate = fred.get_series('CIVPART', observation_start='2019-01-01', observation_end='2024-10-01')\n",
    "part_rate"
   ]
  },
  {
   "cell_type": "code",
   "execution_count": 7,
   "metadata": {},
   "outputs": [
    {
     "data": {
      "text/html": [
       "<div>\n",
       "<style scoped>\n",
       "    .dataframe tbody tr th:only-of-type {\n",
       "        vertical-align: middle;\n",
       "    }\n",
       "\n",
       "    .dataframe tbody tr th {\n",
       "        vertical-align: top;\n",
       "    }\n",
       "\n",
       "    .dataframe thead th {\n",
       "        text-align: right;\n",
       "    }\n",
       "</style>\n",
       "<table border=\"1\" class=\"dataframe\">\n",
       "  <thead>\n",
       "    <tr style=\"text-align: right;\">\n",
       "      <th></th>\n",
       "      <th>0</th>\n",
       "      <th>1</th>\n",
       "    </tr>\n",
       "  </thead>\n",
       "  <tbody>\n",
       "    <tr>\n",
       "      <th>2019-01-01</th>\n",
       "      <td>4.0</td>\n",
       "      <td>63.1</td>\n",
       "    </tr>\n",
       "    <tr>\n",
       "      <th>2019-02-01</th>\n",
       "      <td>3.8</td>\n",
       "      <td>63.1</td>\n",
       "    </tr>\n",
       "    <tr>\n",
       "      <th>2019-03-01</th>\n",
       "      <td>3.8</td>\n",
       "      <td>63.0</td>\n",
       "    </tr>\n",
       "    <tr>\n",
       "      <th>2019-04-01</th>\n",
       "      <td>3.7</td>\n",
       "      <td>62.8</td>\n",
       "    </tr>\n",
       "    <tr>\n",
       "      <th>2019-05-01</th>\n",
       "      <td>3.6</td>\n",
       "      <td>62.9</td>\n",
       "    </tr>\n",
       "    <tr>\n",
       "      <th>...</th>\n",
       "      <td>...</td>\n",
       "      <td>...</td>\n",
       "    </tr>\n",
       "    <tr>\n",
       "      <th>2024-06-01</th>\n",
       "      <td>4.1</td>\n",
       "      <td>62.6</td>\n",
       "    </tr>\n",
       "    <tr>\n",
       "      <th>2024-07-01</th>\n",
       "      <td>4.3</td>\n",
       "      <td>62.7</td>\n",
       "    </tr>\n",
       "    <tr>\n",
       "      <th>2024-08-01</th>\n",
       "      <td>4.2</td>\n",
       "      <td>62.7</td>\n",
       "    </tr>\n",
       "    <tr>\n",
       "      <th>2024-09-01</th>\n",
       "      <td>4.1</td>\n",
       "      <td>62.7</td>\n",
       "    </tr>\n",
       "    <tr>\n",
       "      <th>2024-10-01</th>\n",
       "      <td>4.1</td>\n",
       "      <td>62.6</td>\n",
       "    </tr>\n",
       "  </tbody>\n",
       "</table>\n",
       "<p>70 rows × 2 columns</p>\n",
       "</div>"
      ],
      "text/plain": [
       "              0     1\n",
       "2019-01-01  4.0  63.1\n",
       "2019-02-01  3.8  63.1\n",
       "2019-03-01  3.8  63.0\n",
       "2019-04-01  3.7  62.8\n",
       "2019-05-01  3.6  62.9\n",
       "...         ...   ...\n",
       "2024-06-01  4.1  62.6\n",
       "2024-07-01  4.3  62.7\n",
       "2024-08-01  4.2  62.7\n",
       "2024-09-01  4.1  62.7\n",
       "2024-10-01  4.1  62.6\n",
       "\n",
       "[70 rows x 2 columns]"
      ]
     },
     "execution_count": 7,
     "metadata": {},
     "output_type": "execute_result"
    }
   ],
   "source": [
    "merged_df = pd.concat([unemp, part_rate], axis=1, join='inner')\n",
    "merged_df"
   ]
  },
  {
   "cell_type": "code",
   "execution_count": 8,
   "metadata": {},
   "outputs": [
    {
     "data": {
      "text/html": [
       "<div>\n",
       "<style scoped>\n",
       "    .dataframe tbody tr th:only-of-type {\n",
       "        vertical-align: middle;\n",
       "    }\n",
       "\n",
       "    .dataframe tbody tr th {\n",
       "        vertical-align: top;\n",
       "    }\n",
       "\n",
       "    .dataframe thead th {\n",
       "        text-align: right;\n",
       "    }\n",
       "</style>\n",
       "<table border=\"1\" class=\"dataframe\">\n",
       "  <thead>\n",
       "    <tr style=\"text-align: right;\">\n",
       "      <th></th>\n",
       "      <th>Unemployment</th>\n",
       "      <th>LFPR</th>\n",
       "    </tr>\n",
       "  </thead>\n",
       "  <tbody>\n",
       "    <tr>\n",
       "      <th>2019-01-01</th>\n",
       "      <td>4.0</td>\n",
       "      <td>63.1</td>\n",
       "    </tr>\n",
       "    <tr>\n",
       "      <th>2019-02-01</th>\n",
       "      <td>3.8</td>\n",
       "      <td>63.1</td>\n",
       "    </tr>\n",
       "    <tr>\n",
       "      <th>2019-03-01</th>\n",
       "      <td>3.8</td>\n",
       "      <td>63.0</td>\n",
       "    </tr>\n",
       "    <tr>\n",
       "      <th>2019-04-01</th>\n",
       "      <td>3.7</td>\n",
       "      <td>62.8</td>\n",
       "    </tr>\n",
       "    <tr>\n",
       "      <th>2019-05-01</th>\n",
       "      <td>3.6</td>\n",
       "      <td>62.9</td>\n",
       "    </tr>\n",
       "    <tr>\n",
       "      <th>...</th>\n",
       "      <td>...</td>\n",
       "      <td>...</td>\n",
       "    </tr>\n",
       "    <tr>\n",
       "      <th>2024-06-01</th>\n",
       "      <td>4.1</td>\n",
       "      <td>62.6</td>\n",
       "    </tr>\n",
       "    <tr>\n",
       "      <th>2024-07-01</th>\n",
       "      <td>4.3</td>\n",
       "      <td>62.7</td>\n",
       "    </tr>\n",
       "    <tr>\n",
       "      <th>2024-08-01</th>\n",
       "      <td>4.2</td>\n",
       "      <td>62.7</td>\n",
       "    </tr>\n",
       "    <tr>\n",
       "      <th>2024-09-01</th>\n",
       "      <td>4.1</td>\n",
       "      <td>62.7</td>\n",
       "    </tr>\n",
       "    <tr>\n",
       "      <th>2024-10-01</th>\n",
       "      <td>4.1</td>\n",
       "      <td>62.6</td>\n",
       "    </tr>\n",
       "  </tbody>\n",
       "</table>\n",
       "<p>70 rows × 2 columns</p>\n",
       "</div>"
      ],
      "text/plain": [
       "            Unemployment  LFPR\n",
       "2019-01-01           4.0  63.1\n",
       "2019-02-01           3.8  63.1\n",
       "2019-03-01           3.8  63.0\n",
       "2019-04-01           3.7  62.8\n",
       "2019-05-01           3.6  62.9\n",
       "...                  ...   ...\n",
       "2024-06-01           4.1  62.6\n",
       "2024-07-01           4.3  62.7\n",
       "2024-08-01           4.2  62.7\n",
       "2024-09-01           4.1  62.7\n",
       "2024-10-01           4.1  62.6\n",
       "\n",
       "[70 rows x 2 columns]"
      ]
     },
     "execution_count": 8,
     "metadata": {},
     "output_type": "execute_result"
    }
   ],
   "source": [
    "merged_df = merged_df.rename(columns={0:'Unemployment', 1: 'LFPR'})\n",
    "merged_df\n"
   ]
  },
  {
   "cell_type": "code",
   "execution_count": 30,
   "metadata": {},
   "outputs": [
    {
     "data": {
      "application/vnd.plotly.v1+json": {
       "config": {
        "plotlyServerURL": "https://plot.ly"
       },
       "data": [
        {
         "hovertemplate": "index=%{x}<br>LFPR=%{y}<extra></extra>",
         "legendgroup": "",
         "line": {
          "color": "#636efa",
          "dash": "solid"
         },
         "marker": {
          "symbol": "circle"
         },
         "mode": "lines",
         "name": "",
         "orientation": "v",
         "showlegend": false,
         "type": "scatter",
         "x": [
          "2019-01-01T00:00:00",
          "2019-02-01T00:00:00",
          "2019-03-01T00:00:00",
          "2019-04-01T00:00:00",
          "2019-05-01T00:00:00",
          "2019-06-01T00:00:00",
          "2019-07-01T00:00:00",
          "2019-08-01T00:00:00",
          "2019-09-01T00:00:00",
          "2019-10-01T00:00:00",
          "2019-11-01T00:00:00",
          "2019-12-01T00:00:00",
          "2020-01-01T00:00:00",
          "2020-02-01T00:00:00",
          "2020-03-01T00:00:00",
          "2020-04-01T00:00:00",
          "2020-05-01T00:00:00",
          "2020-06-01T00:00:00",
          "2020-07-01T00:00:00",
          "2020-08-01T00:00:00",
          "2020-09-01T00:00:00",
          "2020-10-01T00:00:00",
          "2020-11-01T00:00:00",
          "2020-12-01T00:00:00",
          "2021-01-01T00:00:00",
          "2021-02-01T00:00:00",
          "2021-03-01T00:00:00",
          "2021-04-01T00:00:00",
          "2021-05-01T00:00:00",
          "2021-06-01T00:00:00",
          "2021-07-01T00:00:00",
          "2021-08-01T00:00:00",
          "2021-09-01T00:00:00",
          "2021-10-01T00:00:00",
          "2021-11-01T00:00:00",
          "2021-12-01T00:00:00",
          "2022-01-01T00:00:00",
          "2022-02-01T00:00:00",
          "2022-03-01T00:00:00",
          "2022-04-01T00:00:00",
          "2022-05-01T00:00:00",
          "2022-06-01T00:00:00",
          "2022-07-01T00:00:00",
          "2022-08-01T00:00:00",
          "2022-09-01T00:00:00",
          "2022-10-01T00:00:00",
          "2022-11-01T00:00:00",
          "2022-12-01T00:00:00",
          "2023-01-01T00:00:00",
          "2023-02-01T00:00:00",
          "2023-03-01T00:00:00",
          "2023-04-01T00:00:00",
          "2023-05-01T00:00:00",
          "2023-06-01T00:00:00",
          "2023-07-01T00:00:00",
          "2023-08-01T00:00:00",
          "2023-09-01T00:00:00",
          "2023-10-01T00:00:00",
          "2023-11-01T00:00:00",
          "2023-12-01T00:00:00",
          "2024-01-01T00:00:00",
          "2024-02-01T00:00:00",
          "2024-03-01T00:00:00",
          "2024-04-01T00:00:00",
          "2024-05-01T00:00:00",
          "2024-06-01T00:00:00",
          "2024-07-01T00:00:00",
          "2024-08-01T00:00:00",
          "2024-09-01T00:00:00",
          "2024-10-01T00:00:00"
         ],
         "xaxis": "x",
         "y": [
          63.1,
          63.1,
          63,
          62.8,
          62.9,
          63,
          63.1,
          63.1,
          63.2,
          63.3,
          63.3,
          63.3,
          63.3,
          63.3,
          62.6,
          60.1,
          60.8,
          61.5,
          61.5,
          61.7,
          61.5,
          61.7,
          61.5,
          61.5,
          61.3,
          61.4,
          61.5,
          61.6,
          61.5,
          61.7,
          61.8,
          61.8,
          61.7,
          61.8,
          61.9,
          62,
          62.2,
          62.2,
          62.3,
          62.2,
          62.3,
          62.2,
          62.1,
          62.4,
          62.3,
          62.3,
          62.1,
          62.3,
          62.4,
          62.5,
          62.6,
          62.6,
          62.6,
          62.6,
          62.6,
          62.8,
          62.8,
          62.7,
          62.8,
          62.5,
          62.5,
          62.5,
          62.7,
          62.7,
          62.5,
          62.6,
          62.7,
          62.7,
          62.7,
          62.6
         ],
         "yaxis": "y"
        },
        {
         "hovertemplate": "index=%{x}<br>Unemployment=%{y}<extra></extra>",
         "legendgroup": "",
         "line": {
          "color": "#636efa",
          "dash": "solid"
         },
         "marker": {
          "symbol": "circle"
         },
         "mode": "lines",
         "name": "",
         "orientation": "v",
         "showlegend": false,
         "type": "scatter",
         "x": [
          "2019-01-01T00:00:00",
          "2019-02-01T00:00:00",
          "2019-03-01T00:00:00",
          "2019-04-01T00:00:00",
          "2019-05-01T00:00:00",
          "2019-06-01T00:00:00",
          "2019-07-01T00:00:00",
          "2019-08-01T00:00:00",
          "2019-09-01T00:00:00",
          "2019-10-01T00:00:00",
          "2019-11-01T00:00:00",
          "2019-12-01T00:00:00",
          "2020-01-01T00:00:00",
          "2020-02-01T00:00:00",
          "2020-03-01T00:00:00",
          "2020-04-01T00:00:00",
          "2020-05-01T00:00:00",
          "2020-06-01T00:00:00",
          "2020-07-01T00:00:00",
          "2020-08-01T00:00:00",
          "2020-09-01T00:00:00",
          "2020-10-01T00:00:00",
          "2020-11-01T00:00:00",
          "2020-12-01T00:00:00",
          "2021-01-01T00:00:00",
          "2021-02-01T00:00:00",
          "2021-03-01T00:00:00",
          "2021-04-01T00:00:00",
          "2021-05-01T00:00:00",
          "2021-06-01T00:00:00",
          "2021-07-01T00:00:00",
          "2021-08-01T00:00:00",
          "2021-09-01T00:00:00",
          "2021-10-01T00:00:00",
          "2021-11-01T00:00:00",
          "2021-12-01T00:00:00",
          "2022-01-01T00:00:00",
          "2022-02-01T00:00:00",
          "2022-03-01T00:00:00",
          "2022-04-01T00:00:00",
          "2022-05-01T00:00:00",
          "2022-06-01T00:00:00",
          "2022-07-01T00:00:00",
          "2022-08-01T00:00:00",
          "2022-09-01T00:00:00",
          "2022-10-01T00:00:00",
          "2022-11-01T00:00:00",
          "2022-12-01T00:00:00",
          "2023-01-01T00:00:00",
          "2023-02-01T00:00:00",
          "2023-03-01T00:00:00",
          "2023-04-01T00:00:00",
          "2023-05-01T00:00:00",
          "2023-06-01T00:00:00",
          "2023-07-01T00:00:00",
          "2023-08-01T00:00:00",
          "2023-09-01T00:00:00",
          "2023-10-01T00:00:00",
          "2023-11-01T00:00:00",
          "2023-12-01T00:00:00",
          "2024-01-01T00:00:00",
          "2024-02-01T00:00:00",
          "2024-03-01T00:00:00",
          "2024-04-01T00:00:00",
          "2024-05-01T00:00:00",
          "2024-06-01T00:00:00",
          "2024-07-01T00:00:00",
          "2024-08-01T00:00:00",
          "2024-09-01T00:00:00",
          "2024-10-01T00:00:00"
         ],
         "xaxis": "x2",
         "y": [
          4,
          3.8,
          3.8,
          3.7,
          3.6,
          3.6,
          3.7,
          3.6,
          3.5,
          3.6,
          3.6,
          3.6,
          3.6,
          3.5,
          4.4,
          14.8,
          13.2,
          11,
          10.2,
          8.4,
          7.8,
          6.8,
          6.7,
          6.7,
          6.4,
          6.2,
          6.1,
          6.1,
          5.8,
          5.9,
          5.4,
          5.1,
          4.7,
          4.5,
          4.1,
          3.9,
          4,
          3.8,
          3.6,
          3.7,
          3.6,
          3.6,
          3.5,
          3.6,
          3.5,
          3.6,
          3.6,
          3.5,
          3.4,
          3.6,
          3.5,
          3.4,
          3.7,
          3.6,
          3.5,
          3.8,
          3.8,
          3.8,
          3.7,
          3.7,
          3.7,
          3.9,
          3.8,
          3.9,
          4,
          4.1,
          4.3,
          4.2,
          4.1,
          4.1
         ],
         "yaxis": "y2"
        }
       ],
       "layout": {
        "annotations": [
         {
          "font": {
           "size": 16
          },
          "showarrow": false,
          "text": "Labour Force Participation Rate",
          "x": 0.5,
          "xanchor": "center",
          "xref": "paper",
          "y": 1,
          "yanchor": "bottom",
          "yref": "paper"
         },
         {
          "font": {
           "size": 16
          },
          "showarrow": false,
          "text": "Unemployment Rate",
          "x": 0.5,
          "xanchor": "center",
          "xref": "paper",
          "y": 0.425,
          "yanchor": "bottom",
          "yref": "paper"
         }
        ],
        "height": 800,
        "template": {
         "data": {
          "bar": [
           {
            "error_x": {
             "color": "#2a3f5f"
            },
            "error_y": {
             "color": "#2a3f5f"
            },
            "marker": {
             "line": {
              "color": "#E5ECF6",
              "width": 0.5
             },
             "pattern": {
              "fillmode": "overlay",
              "size": 10,
              "solidity": 0.2
             }
            },
            "type": "bar"
           }
          ],
          "barpolar": [
           {
            "marker": {
             "line": {
              "color": "#E5ECF6",
              "width": 0.5
             },
             "pattern": {
              "fillmode": "overlay",
              "size": 10,
              "solidity": 0.2
             }
            },
            "type": "barpolar"
           }
          ],
          "carpet": [
           {
            "aaxis": {
             "endlinecolor": "#2a3f5f",
             "gridcolor": "white",
             "linecolor": "white",
             "minorgridcolor": "white",
             "startlinecolor": "#2a3f5f"
            },
            "baxis": {
             "endlinecolor": "#2a3f5f",
             "gridcolor": "white",
             "linecolor": "white",
             "minorgridcolor": "white",
             "startlinecolor": "#2a3f5f"
            },
            "type": "carpet"
           }
          ],
          "choropleth": [
           {
            "colorbar": {
             "outlinewidth": 0,
             "ticks": ""
            },
            "type": "choropleth"
           }
          ],
          "contour": [
           {
            "colorbar": {
             "outlinewidth": 0,
             "ticks": ""
            },
            "colorscale": [
             [
              0,
              "#0d0887"
             ],
             [
              0.1111111111111111,
              "#46039f"
             ],
             [
              0.2222222222222222,
              "#7201a8"
             ],
             [
              0.3333333333333333,
              "#9c179e"
             ],
             [
              0.4444444444444444,
              "#bd3786"
             ],
             [
              0.5555555555555556,
              "#d8576b"
             ],
             [
              0.6666666666666666,
              "#ed7953"
             ],
             [
              0.7777777777777778,
              "#fb9f3a"
             ],
             [
              0.8888888888888888,
              "#fdca26"
             ],
             [
              1,
              "#f0f921"
             ]
            ],
            "type": "contour"
           }
          ],
          "contourcarpet": [
           {
            "colorbar": {
             "outlinewidth": 0,
             "ticks": ""
            },
            "type": "contourcarpet"
           }
          ],
          "heatmap": [
           {
            "colorbar": {
             "outlinewidth": 0,
             "ticks": ""
            },
            "colorscale": [
             [
              0,
              "#0d0887"
             ],
             [
              0.1111111111111111,
              "#46039f"
             ],
             [
              0.2222222222222222,
              "#7201a8"
             ],
             [
              0.3333333333333333,
              "#9c179e"
             ],
             [
              0.4444444444444444,
              "#bd3786"
             ],
             [
              0.5555555555555556,
              "#d8576b"
             ],
             [
              0.6666666666666666,
              "#ed7953"
             ],
             [
              0.7777777777777778,
              "#fb9f3a"
             ],
             [
              0.8888888888888888,
              "#fdca26"
             ],
             [
              1,
              "#f0f921"
             ]
            ],
            "type": "heatmap"
           }
          ],
          "heatmapgl": [
           {
            "colorbar": {
             "outlinewidth": 0,
             "ticks": ""
            },
            "colorscale": [
             [
              0,
              "#0d0887"
             ],
             [
              0.1111111111111111,
              "#46039f"
             ],
             [
              0.2222222222222222,
              "#7201a8"
             ],
             [
              0.3333333333333333,
              "#9c179e"
             ],
             [
              0.4444444444444444,
              "#bd3786"
             ],
             [
              0.5555555555555556,
              "#d8576b"
             ],
             [
              0.6666666666666666,
              "#ed7953"
             ],
             [
              0.7777777777777778,
              "#fb9f3a"
             ],
             [
              0.8888888888888888,
              "#fdca26"
             ],
             [
              1,
              "#f0f921"
             ]
            ],
            "type": "heatmapgl"
           }
          ],
          "histogram": [
           {
            "marker": {
             "pattern": {
              "fillmode": "overlay",
              "size": 10,
              "solidity": 0.2
             }
            },
            "type": "histogram"
           }
          ],
          "histogram2d": [
           {
            "colorbar": {
             "outlinewidth": 0,
             "ticks": ""
            },
            "colorscale": [
             [
              0,
              "#0d0887"
             ],
             [
              0.1111111111111111,
              "#46039f"
             ],
             [
              0.2222222222222222,
              "#7201a8"
             ],
             [
              0.3333333333333333,
              "#9c179e"
             ],
             [
              0.4444444444444444,
              "#bd3786"
             ],
             [
              0.5555555555555556,
              "#d8576b"
             ],
             [
              0.6666666666666666,
              "#ed7953"
             ],
             [
              0.7777777777777778,
              "#fb9f3a"
             ],
             [
              0.8888888888888888,
              "#fdca26"
             ],
             [
              1,
              "#f0f921"
             ]
            ],
            "type": "histogram2d"
           }
          ],
          "histogram2dcontour": [
           {
            "colorbar": {
             "outlinewidth": 0,
             "ticks": ""
            },
            "colorscale": [
             [
              0,
              "#0d0887"
             ],
             [
              0.1111111111111111,
              "#46039f"
             ],
             [
              0.2222222222222222,
              "#7201a8"
             ],
             [
              0.3333333333333333,
              "#9c179e"
             ],
             [
              0.4444444444444444,
              "#bd3786"
             ],
             [
              0.5555555555555556,
              "#d8576b"
             ],
             [
              0.6666666666666666,
              "#ed7953"
             ],
             [
              0.7777777777777778,
              "#fb9f3a"
             ],
             [
              0.8888888888888888,
              "#fdca26"
             ],
             [
              1,
              "#f0f921"
             ]
            ],
            "type": "histogram2dcontour"
           }
          ],
          "mesh3d": [
           {
            "colorbar": {
             "outlinewidth": 0,
             "ticks": ""
            },
            "type": "mesh3d"
           }
          ],
          "parcoords": [
           {
            "line": {
             "colorbar": {
              "outlinewidth": 0,
              "ticks": ""
             }
            },
            "type": "parcoords"
           }
          ],
          "pie": [
           {
            "automargin": true,
            "type": "pie"
           }
          ],
          "scatter": [
           {
            "fillpattern": {
             "fillmode": "overlay",
             "size": 10,
             "solidity": 0.2
            },
            "type": "scatter"
           }
          ],
          "scatter3d": [
           {
            "line": {
             "colorbar": {
              "outlinewidth": 0,
              "ticks": ""
             }
            },
            "marker": {
             "colorbar": {
              "outlinewidth": 0,
              "ticks": ""
             }
            },
            "type": "scatter3d"
           }
          ],
          "scattercarpet": [
           {
            "marker": {
             "colorbar": {
              "outlinewidth": 0,
              "ticks": ""
             }
            },
            "type": "scattercarpet"
           }
          ],
          "scattergeo": [
           {
            "marker": {
             "colorbar": {
              "outlinewidth": 0,
              "ticks": ""
             }
            },
            "type": "scattergeo"
           }
          ],
          "scattergl": [
           {
            "marker": {
             "colorbar": {
              "outlinewidth": 0,
              "ticks": ""
             }
            },
            "type": "scattergl"
           }
          ],
          "scattermapbox": [
           {
            "marker": {
             "colorbar": {
              "outlinewidth": 0,
              "ticks": ""
             }
            },
            "type": "scattermapbox"
           }
          ],
          "scatterpolar": [
           {
            "marker": {
             "colorbar": {
              "outlinewidth": 0,
              "ticks": ""
             }
            },
            "type": "scatterpolar"
           }
          ],
          "scatterpolargl": [
           {
            "marker": {
             "colorbar": {
              "outlinewidth": 0,
              "ticks": ""
             }
            },
            "type": "scatterpolargl"
           }
          ],
          "scatterternary": [
           {
            "marker": {
             "colorbar": {
              "outlinewidth": 0,
              "ticks": ""
             }
            },
            "type": "scatterternary"
           }
          ],
          "surface": [
           {
            "colorbar": {
             "outlinewidth": 0,
             "ticks": ""
            },
            "colorscale": [
             [
              0,
              "#0d0887"
             ],
             [
              0.1111111111111111,
              "#46039f"
             ],
             [
              0.2222222222222222,
              "#7201a8"
             ],
             [
              0.3333333333333333,
              "#9c179e"
             ],
             [
              0.4444444444444444,
              "#bd3786"
             ],
             [
              0.5555555555555556,
              "#d8576b"
             ],
             [
              0.6666666666666666,
              "#ed7953"
             ],
             [
              0.7777777777777778,
              "#fb9f3a"
             ],
             [
              0.8888888888888888,
              "#fdca26"
             ],
             [
              1,
              "#f0f921"
             ]
            ],
            "type": "surface"
           }
          ],
          "table": [
           {
            "cells": {
             "fill": {
              "color": "#EBF0F8"
             },
             "line": {
              "color": "white"
             }
            },
            "header": {
             "fill": {
              "color": "#C8D4E3"
             },
             "line": {
              "color": "white"
             }
            },
            "type": "table"
           }
          ]
         },
         "layout": {
          "annotationdefaults": {
           "arrowcolor": "#2a3f5f",
           "arrowhead": 0,
           "arrowwidth": 1
          },
          "autotypenumbers": "strict",
          "coloraxis": {
           "colorbar": {
            "outlinewidth": 0,
            "ticks": ""
           }
          },
          "colorscale": {
           "diverging": [
            [
             0,
             "#8e0152"
            ],
            [
             0.1,
             "#c51b7d"
            ],
            [
             0.2,
             "#de77ae"
            ],
            [
             0.3,
             "#f1b6da"
            ],
            [
             0.4,
             "#fde0ef"
            ],
            [
             0.5,
             "#f7f7f7"
            ],
            [
             0.6,
             "#e6f5d0"
            ],
            [
             0.7,
             "#b8e186"
            ],
            [
             0.8,
             "#7fbc41"
            ],
            [
             0.9,
             "#4d9221"
            ],
            [
             1,
             "#276419"
            ]
           ],
           "sequential": [
            [
             0,
             "#0d0887"
            ],
            [
             0.1111111111111111,
             "#46039f"
            ],
            [
             0.2222222222222222,
             "#7201a8"
            ],
            [
             0.3333333333333333,
             "#9c179e"
            ],
            [
             0.4444444444444444,
             "#bd3786"
            ],
            [
             0.5555555555555556,
             "#d8576b"
            ],
            [
             0.6666666666666666,
             "#ed7953"
            ],
            [
             0.7777777777777778,
             "#fb9f3a"
            ],
            [
             0.8888888888888888,
             "#fdca26"
            ],
            [
             1,
             "#f0f921"
            ]
           ],
           "sequentialminus": [
            [
             0,
             "#0d0887"
            ],
            [
             0.1111111111111111,
             "#46039f"
            ],
            [
             0.2222222222222222,
             "#7201a8"
            ],
            [
             0.3333333333333333,
             "#9c179e"
            ],
            [
             0.4444444444444444,
             "#bd3786"
            ],
            [
             0.5555555555555556,
             "#d8576b"
            ],
            [
             0.6666666666666666,
             "#ed7953"
            ],
            [
             0.7777777777777778,
             "#fb9f3a"
            ],
            [
             0.8888888888888888,
             "#fdca26"
            ],
            [
             1,
             "#f0f921"
            ]
           ]
          },
          "colorway": [
           "#636efa",
           "#EF553B",
           "#00cc96",
           "#ab63fa",
           "#FFA15A",
           "#19d3f3",
           "#FF6692",
           "#B6E880",
           "#FF97FF",
           "#FECB52"
          ],
          "font": {
           "color": "#2a3f5f"
          },
          "geo": {
           "bgcolor": "white",
           "lakecolor": "white",
           "landcolor": "#E5ECF6",
           "showlakes": true,
           "showland": true,
           "subunitcolor": "white"
          },
          "hoverlabel": {
           "align": "left"
          },
          "hovermode": "closest",
          "mapbox": {
           "style": "light"
          },
          "paper_bgcolor": "white",
          "plot_bgcolor": "#E5ECF6",
          "polar": {
           "angularaxis": {
            "gridcolor": "white",
            "linecolor": "white",
            "ticks": ""
           },
           "bgcolor": "#E5ECF6",
           "radialaxis": {
            "gridcolor": "white",
            "linecolor": "white",
            "ticks": ""
           }
          },
          "scene": {
           "xaxis": {
            "backgroundcolor": "#E5ECF6",
            "gridcolor": "white",
            "gridwidth": 2,
            "linecolor": "white",
            "showbackground": true,
            "ticks": "",
            "zerolinecolor": "white"
           },
           "yaxis": {
            "backgroundcolor": "#E5ECF6",
            "gridcolor": "white",
            "gridwidth": 2,
            "linecolor": "white",
            "showbackground": true,
            "ticks": "",
            "zerolinecolor": "white"
           },
           "zaxis": {
            "backgroundcolor": "#E5ECF6",
            "gridcolor": "white",
            "gridwidth": 2,
            "linecolor": "white",
            "showbackground": true,
            "ticks": "",
            "zerolinecolor": "white"
           }
          },
          "shapedefaults": {
           "line": {
            "color": "#2a3f5f"
           }
          },
          "ternary": {
           "aaxis": {
            "gridcolor": "white",
            "linecolor": "white",
            "ticks": ""
           },
           "baxis": {
            "gridcolor": "white",
            "linecolor": "white",
            "ticks": ""
           },
           "bgcolor": "#E5ECF6",
           "caxis": {
            "gridcolor": "white",
            "linecolor": "white",
            "ticks": ""
           }
          },
          "title": {
           "x": 0.05
          },
          "xaxis": {
           "automargin": true,
           "gridcolor": "white",
           "linecolor": "white",
           "ticks": "",
           "title": {
            "standoff": 15
           },
           "zerolinecolor": "white",
           "zerolinewidth": 2
          },
          "yaxis": {
           "automargin": true,
           "gridcolor": "white",
           "linecolor": "white",
           "ticks": "",
           "title": {
            "standoff": 15
           },
           "zerolinecolor": "white",
           "zerolinewidth": 2
          }
         }
        },
        "title": {
         "text": "Labour Force Participation Rate vs Unemployment Rate"
        },
        "width": 850,
        "xaxis": {
         "anchor": "y",
         "domain": [
          0,
          1
         ],
         "matches": "x2",
         "showticklabels": false
        },
        "xaxis2": {
         "anchor": "y2",
         "domain": [
          0,
          1
         ]
        },
        "yaxis": {
         "anchor": "x",
         "domain": [
          0.575,
          1
         ],
         "tickformat": "",
         "ticksuffix": "%"
        },
        "yaxis2": {
         "anchor": "x2",
         "domain": [
          0,
          0.425
         ],
         "ticksuffix": "%"
        }
       }
      }
     },
     "metadata": {},
     "output_type": "display_data"
    }
   ],
   "source": [
    "fig = make_subplots(rows=2, cols=1, shared_xaxes=True, subplot_titles=(\"Labour Force Participation Rate\", \"Unemployment Rate\"), vertical_spacing=0.15)\n",
    "\n",
    "plot1 = px.line(merged_df, x=merged_df.index, y='LFPR')\n",
    "fig.add_trace(plot1['data'][0], row=1, col=1)\n",
    "\n",
    "\n",
    "plot2 = px.line(merged_df, x=merged_df.index, y='Unemployment')\n",
    "fig.add_trace(plot2['data'][0], row=2, col=1)\n",
    "\n",
    "fig.update_layout(\n",
    "    height=800,  # Adjust the height\n",
    "    width=850,   # Adjust the width\n",
    "    title_text=\"Labour Force Participation Rate vs Unemployment Rate\",\n",
    "    yaxis_tickformat=''\n",
    ")\n",
    "\n",
    "fig.update_yaxes(ticksuffix=\"%\", row=1, col=1)  # Set percentage format for both y-axes\n",
    "fig.update_yaxes(ticksuffix=\"%\", row=2, col=1) \n",
    "\n",
    "fig.show()\n",
    "\n",
    "#plot1 is a Plotly Express figure object created using px.line, px.bar, etc.\n",
    "#The ['data'] property of a Plotly figure contains a list of all the traces (or individual plots) within that figure.\n",
    "#[0] selects the first trace from plot1 (since most Plotly Express figures contain only one trace by default). \n",
    "\n",
    "#plot1['data'][0] extracts the first trace from plot1.\n",
    "#add_trace adds that trace to a specific position in the subplot grid (row=1, col=1 in this case).\n",
    "\n"
   ]
  },
  {
   "cell_type": "markdown",
   "metadata": {},
   "source": [
    "![Labour participation rate vs unemployment](Images/lfpr_unemp.png)"
   ]
  },
  {
   "cell_type": "markdown",
   "metadata": {},
   "source": [
    "## Are there notable demographic shifts in labor force participation (e.g., aging workforce, gender disparities)?"
   ]
  },
  {
   "cell_type": "code",
   "execution_count": 56,
   "metadata": {},
   "outputs": [
    {
     "data": {
      "text/html": [
       "<div>\n",
       "<style scoped>\n",
       "    .dataframe tbody tr th:only-of-type {\n",
       "        vertical-align: middle;\n",
       "    }\n",
       "\n",
       "    .dataframe tbody tr th {\n",
       "        vertical-align: top;\n",
       "    }\n",
       "\n",
       "    .dataframe thead th {\n",
       "        text-align: right;\n",
       "    }\n",
       "</style>\n",
       "<table border=\"1\" class=\"dataframe\">\n",
       "  <thead>\n",
       "    <tr style=\"text-align: right;\">\n",
       "      <th></th>\n",
       "      <th>id</th>\n",
       "      <th>realtime_start</th>\n",
       "      <th>realtime_end</th>\n",
       "      <th>title</th>\n",
       "      <th>observation_start</th>\n",
       "      <th>observation_end</th>\n",
       "      <th>frequency</th>\n",
       "      <th>frequency_short</th>\n",
       "      <th>units</th>\n",
       "      <th>units_short</th>\n",
       "      <th>seasonal_adjustment</th>\n",
       "      <th>seasonal_adjustment_short</th>\n",
       "      <th>last_updated</th>\n",
       "      <th>popularity</th>\n",
       "      <th>notes</th>\n",
       "    </tr>\n",
       "    <tr>\n",
       "      <th>series id</th>\n",
       "      <th></th>\n",
       "      <th></th>\n",
       "      <th></th>\n",
       "      <th></th>\n",
       "      <th></th>\n",
       "      <th></th>\n",
       "      <th></th>\n",
       "      <th></th>\n",
       "      <th></th>\n",
       "      <th></th>\n",
       "      <th></th>\n",
       "      <th></th>\n",
       "      <th></th>\n",
       "      <th></th>\n",
       "      <th></th>\n",
       "    </tr>\n",
       "  </thead>\n",
       "  <tbody>\n",
       "    <tr>\n",
       "      <th>CIVPART</th>\n",
       "      <td>CIVPART</td>\n",
       "      <td>2024-11-14</td>\n",
       "      <td>2024-11-14</td>\n",
       "      <td>Labor Force Participation Rate</td>\n",
       "      <td>1948-01-01</td>\n",
       "      <td>2024-10-01</td>\n",
       "      <td>Monthly</td>\n",
       "      <td>M</td>\n",
       "      <td>Percent</td>\n",
       "      <td>%</td>\n",
       "      <td>Seasonally Adjusted</td>\n",
       "      <td>SA</td>\n",
       "      <td>2024-11-01 07:47:02-05:00</td>\n",
       "      <td>84</td>\n",
       "      <td>The series comes from the 'Current Population ...</td>\n",
       "    </tr>\n",
       "    <tr>\n",
       "      <th>LNU01300000</th>\n",
       "      <td>LNU01300000</td>\n",
       "      <td>2024-11-14</td>\n",
       "      <td>2024-11-14</td>\n",
       "      <td>Labor Force Participation Rate</td>\n",
       "      <td>1948-01-01</td>\n",
       "      <td>2024-10-01</td>\n",
       "      <td>Monthly</td>\n",
       "      <td>M</td>\n",
       "      <td>Percent</td>\n",
       "      <td>%</td>\n",
       "      <td>Not Seasonally Adjusted</td>\n",
       "      <td>NSA</td>\n",
       "      <td>2024-11-01 07:46:16-05:00</td>\n",
       "      <td>27</td>\n",
       "      <td>The series comes from the 'Current Population ...</td>\n",
       "    </tr>\n",
       "    <tr>\n",
       "      <th>LNS11300060</th>\n",
       "      <td>LNS11300060</td>\n",
       "      <td>2024-11-14</td>\n",
       "      <td>2024-11-14</td>\n",
       "      <td>Labor Force Participation Rate - 25-54 Yrs.</td>\n",
       "      <td>1948-01-01</td>\n",
       "      <td>2024-10-01</td>\n",
       "      <td>Monthly</td>\n",
       "      <td>M</td>\n",
       "      <td>Percent</td>\n",
       "      <td>%</td>\n",
       "      <td>Seasonally Adjusted</td>\n",
       "      <td>SA</td>\n",
       "      <td>2024-11-01 07:47:07-05:00</td>\n",
       "      <td>70</td>\n",
       "      <td>The series comes from the 'Current Population ...</td>\n",
       "    </tr>\n",
       "    <tr>\n",
       "      <th>LNU01300060</th>\n",
       "      <td>LNU01300060</td>\n",
       "      <td>2024-11-14</td>\n",
       "      <td>2024-11-14</td>\n",
       "      <td>Labor Force Participation Rate - 25-54 Yrs.</td>\n",
       "      <td>1948-01-01</td>\n",
       "      <td>2024-10-01</td>\n",
       "      <td>Monthly</td>\n",
       "      <td>M</td>\n",
       "      <td>Percent</td>\n",
       "      <td>%</td>\n",
       "      <td>Not Seasonally Adjusted</td>\n",
       "      <td>NSA</td>\n",
       "      <td>2024-11-01 07:46:06-05:00</td>\n",
       "      <td>41</td>\n",
       "      <td>The series comes from the 'Current Population ...</td>\n",
       "    </tr>\n",
       "    <tr>\n",
       "      <th>LNS11300002</th>\n",
       "      <td>LNS11300002</td>\n",
       "      <td>2024-11-14</td>\n",
       "      <td>2024-11-14</td>\n",
       "      <td>Labor Force Participation Rate - Women</td>\n",
       "      <td>1948-01-01</td>\n",
       "      <td>2024-10-01</td>\n",
       "      <td>Monthly</td>\n",
       "      <td>M</td>\n",
       "      <td>Percent</td>\n",
       "      <td>%</td>\n",
       "      <td>Seasonally Adjusted</td>\n",
       "      <td>SA</td>\n",
       "      <td>2024-11-01 07:47:11-05:00</td>\n",
       "      <td>66</td>\n",
       "      <td>To obtain estimates of women worker employment...</td>\n",
       "    </tr>\n",
       "    <tr>\n",
       "      <th>...</th>\n",
       "      <td>...</td>\n",
       "      <td>...</td>\n",
       "      <td>...</td>\n",
       "      <td>...</td>\n",
       "      <td>...</td>\n",
       "      <td>...</td>\n",
       "      <td>...</td>\n",
       "      <td>...</td>\n",
       "      <td>...</td>\n",
       "      <td>...</td>\n",
       "      <td>...</td>\n",
       "      <td>...</td>\n",
       "      <td>...</td>\n",
       "      <td>...</td>\n",
       "      <td>...</td>\n",
       "    </tr>\n",
       "    <tr>\n",
       "      <th>LRAC24TTPLQ156S</th>\n",
       "      <td>LRAC24TTPLQ156S</td>\n",
       "      <td>2024-11-14</td>\n",
       "      <td>2024-11-14</td>\n",
       "      <td>Infra-Annual Labor Statistics: Labor Force Par...</td>\n",
       "      <td>2000-01-01</td>\n",
       "      <td>2024-04-01</td>\n",
       "      <td>Quarterly</td>\n",
       "      <td>Q</td>\n",
       "      <td>Percent</td>\n",
       "      <td>%</td>\n",
       "      <td>Seasonally Adjusted</td>\n",
       "      <td>SA</td>\n",
       "      <td>2024-10-15 13:53:59-05:00</td>\n",
       "      <td>1</td>\n",
       "      <td>OECD Data Filters:  REF_AREA: POL MEASURE: LF_...</td>\n",
       "    </tr>\n",
       "    <tr>\n",
       "      <th>LRAC24TTPLA156N</th>\n",
       "      <td>LRAC24TTPLA156N</td>\n",
       "      <td>2024-11-14</td>\n",
       "      <td>2024-11-14</td>\n",
       "      <td>Infra-Annual Labor Statistics: Labor Force Par...</td>\n",
       "      <td>2000-01-01</td>\n",
       "      <td>2023-01-01</td>\n",
       "      <td>Annual</td>\n",
       "      <td>A</td>\n",
       "      <td>Percent</td>\n",
       "      <td>%</td>\n",
       "      <td>Not Seasonally Adjusted</td>\n",
       "      <td>NSA</td>\n",
       "      <td>2024-07-15 14:04:36-05:00</td>\n",
       "      <td>1</td>\n",
       "      <td>OECD Data Filters:  REF_AREA: POL MEASURE: LF_...</td>\n",
       "    </tr>\n",
       "    <tr>\n",
       "      <th>LRIN24MANLQ156S</th>\n",
       "      <td>LRIN24MANLQ156S</td>\n",
       "      <td>2024-11-14</td>\n",
       "      <td>2024-11-14</td>\n",
       "      <td>Infra-Annual Labor Statistics: Inactivity Rate...</td>\n",
       "      <td>2000-01-01</td>\n",
       "      <td>2024-04-01</td>\n",
       "      <td>Quarterly</td>\n",
       "      <td>Q</td>\n",
       "      <td>Percent</td>\n",
       "      <td>%</td>\n",
       "      <td>Seasonally Adjusted</td>\n",
       "      <td>SA</td>\n",
       "      <td>2024-10-15 13:53:29-05:00</td>\n",
       "      <td>1</td>\n",
       "      <td>OECD Data Filters:  REF_AREA: NLD MEASURE: OLF...</td>\n",
       "    </tr>\n",
       "    <tr>\n",
       "      <th>LRIN74MAFIA156N</th>\n",
       "      <td>LRIN74MAFIA156N</td>\n",
       "      <td>2024-11-14</td>\n",
       "      <td>2024-11-14</td>\n",
       "      <td>Infra-Annual Labor Statistics: Inactivity Rate...</td>\n",
       "      <td>1998-01-01</td>\n",
       "      <td>2023-01-01</td>\n",
       "      <td>Annual</td>\n",
       "      <td>A</td>\n",
       "      <td>Percent</td>\n",
       "      <td>%</td>\n",
       "      <td>Not Seasonally Adjusted</td>\n",
       "      <td>NSA</td>\n",
       "      <td>2024-04-10 11:43:49-05:00</td>\n",
       "      <td>1</td>\n",
       "      <td>OECD Data Filters:  REF_AREA: FIN MEASURE: OLF...</td>\n",
       "    </tr>\n",
       "    <tr>\n",
       "      <th>LRIN55FECHQ156N</th>\n",
       "      <td>LRIN55FECHQ156N</td>\n",
       "      <td>2024-11-14</td>\n",
       "      <td>2024-11-14</td>\n",
       "      <td>Infra-Annual Labor Statistics: Inactivity Rate...</td>\n",
       "      <td>1998-04-01</td>\n",
       "      <td>2024-04-01</td>\n",
       "      <td>Quarterly</td>\n",
       "      <td>Q</td>\n",
       "      <td>Percent</td>\n",
       "      <td>%</td>\n",
       "      <td>Not Seasonally Adjusted</td>\n",
       "      <td>NSA</td>\n",
       "      <td>2024-10-15 14:00:16-05:00</td>\n",
       "      <td>1</td>\n",
       "      <td>OECD Data Filters:  REF_AREA: CHE MEASURE: OLF...</td>\n",
       "    </tr>\n",
       "  </tbody>\n",
       "</table>\n",
       "<p>1000 rows × 15 columns</p>\n",
       "</div>"
      ],
      "text/plain": [
       "                              id realtime_start realtime_end  \\\n",
       "series id                                                      \n",
       "CIVPART                  CIVPART     2024-11-14   2024-11-14   \n",
       "LNU01300000          LNU01300000     2024-11-14   2024-11-14   \n",
       "LNS11300060          LNS11300060     2024-11-14   2024-11-14   \n",
       "LNU01300060          LNU01300060     2024-11-14   2024-11-14   \n",
       "LNS11300002          LNS11300002     2024-11-14   2024-11-14   \n",
       "...                          ...            ...          ...   \n",
       "LRAC24TTPLQ156S  LRAC24TTPLQ156S     2024-11-14   2024-11-14   \n",
       "LRAC24TTPLA156N  LRAC24TTPLA156N     2024-11-14   2024-11-14   \n",
       "LRIN24MANLQ156S  LRIN24MANLQ156S     2024-11-14   2024-11-14   \n",
       "LRIN74MAFIA156N  LRIN74MAFIA156N     2024-11-14   2024-11-14   \n",
       "LRIN55FECHQ156N  LRIN55FECHQ156N     2024-11-14   2024-11-14   \n",
       "\n",
       "                                                             title  \\\n",
       "series id                                                            \n",
       "CIVPART                             Labor Force Participation Rate   \n",
       "LNU01300000                         Labor Force Participation Rate   \n",
       "LNS11300060            Labor Force Participation Rate - 25-54 Yrs.   \n",
       "LNU01300060            Labor Force Participation Rate - 25-54 Yrs.   \n",
       "LNS11300002                 Labor Force Participation Rate - Women   \n",
       "...                                                            ...   \n",
       "LRAC24TTPLQ156S  Infra-Annual Labor Statistics: Labor Force Par...   \n",
       "LRAC24TTPLA156N  Infra-Annual Labor Statistics: Labor Force Par...   \n",
       "LRIN24MANLQ156S  Infra-Annual Labor Statistics: Inactivity Rate...   \n",
       "LRIN74MAFIA156N  Infra-Annual Labor Statistics: Inactivity Rate...   \n",
       "LRIN55FECHQ156N  Infra-Annual Labor Statistics: Inactivity Rate...   \n",
       "\n",
       "                observation_start observation_end  frequency frequency_short  \\\n",
       "series id                                                                      \n",
       "CIVPART                1948-01-01      2024-10-01    Monthly               M   \n",
       "LNU01300000            1948-01-01      2024-10-01    Monthly               M   \n",
       "LNS11300060            1948-01-01      2024-10-01    Monthly               M   \n",
       "LNU01300060            1948-01-01      2024-10-01    Monthly               M   \n",
       "LNS11300002            1948-01-01      2024-10-01    Monthly               M   \n",
       "...                           ...             ...        ...             ...   \n",
       "LRAC24TTPLQ156S        2000-01-01      2024-04-01  Quarterly               Q   \n",
       "LRAC24TTPLA156N        2000-01-01      2023-01-01     Annual               A   \n",
       "LRIN24MANLQ156S        2000-01-01      2024-04-01  Quarterly               Q   \n",
       "LRIN74MAFIA156N        1998-01-01      2023-01-01     Annual               A   \n",
       "LRIN55FECHQ156N        1998-04-01      2024-04-01  Quarterly               Q   \n",
       "\n",
       "                   units units_short      seasonal_adjustment  \\\n",
       "series id                                                       \n",
       "CIVPART          Percent           %      Seasonally Adjusted   \n",
       "LNU01300000      Percent           %  Not Seasonally Adjusted   \n",
       "LNS11300060      Percent           %      Seasonally Adjusted   \n",
       "LNU01300060      Percent           %  Not Seasonally Adjusted   \n",
       "LNS11300002      Percent           %      Seasonally Adjusted   \n",
       "...                  ...         ...                      ...   \n",
       "LRAC24TTPLQ156S  Percent           %      Seasonally Adjusted   \n",
       "LRAC24TTPLA156N  Percent           %  Not Seasonally Adjusted   \n",
       "LRIN24MANLQ156S  Percent           %      Seasonally Adjusted   \n",
       "LRIN74MAFIA156N  Percent           %  Not Seasonally Adjusted   \n",
       "LRIN55FECHQ156N  Percent           %  Not Seasonally Adjusted   \n",
       "\n",
       "                seasonal_adjustment_short               last_updated  \\\n",
       "series id                                                              \n",
       "CIVPART                                SA  2024-11-01 07:47:02-05:00   \n",
       "LNU01300000                           NSA  2024-11-01 07:46:16-05:00   \n",
       "LNS11300060                            SA  2024-11-01 07:47:07-05:00   \n",
       "LNU01300060                           NSA  2024-11-01 07:46:06-05:00   \n",
       "LNS11300002                            SA  2024-11-01 07:47:11-05:00   \n",
       "...                                   ...                        ...   \n",
       "LRAC24TTPLQ156S                        SA  2024-10-15 13:53:59-05:00   \n",
       "LRAC24TTPLA156N                       NSA  2024-07-15 14:04:36-05:00   \n",
       "LRIN24MANLQ156S                        SA  2024-10-15 13:53:29-05:00   \n",
       "LRIN74MAFIA156N                       NSA  2024-04-10 11:43:49-05:00   \n",
       "LRIN55FECHQ156N                       NSA  2024-10-15 14:00:16-05:00   \n",
       "\n",
       "                popularity                                              notes  \n",
       "series id                                                                      \n",
       "CIVPART                 84  The series comes from the 'Current Population ...  \n",
       "LNU01300000             27  The series comes from the 'Current Population ...  \n",
       "LNS11300060             70  The series comes from the 'Current Population ...  \n",
       "LNU01300060             41  The series comes from the 'Current Population ...  \n",
       "LNS11300002             66  To obtain estimates of women worker employment...  \n",
       "...                    ...                                                ...  \n",
       "LRAC24TTPLQ156S          1  OECD Data Filters:  REF_AREA: POL MEASURE: LF_...  \n",
       "LRAC24TTPLA156N          1  OECD Data Filters:  REF_AREA: POL MEASURE: LF_...  \n",
       "LRIN24MANLQ156S          1  OECD Data Filters:  REF_AREA: NLD MEASURE: OLF...  \n",
       "LRIN74MAFIA156N          1  OECD Data Filters:  REF_AREA: FIN MEASURE: OLF...  \n",
       "LRIN55FECHQ156N          1  OECD Data Filters:  REF_AREA: CHE MEASURE: OLF...  \n",
       "\n",
       "[1000 rows x 15 columns]"
      ]
     },
     "execution_count": 56,
     "metadata": {},
     "output_type": "execute_result"
    }
   ],
   "source": [
    "LFPR_results = fred.search('Labour Force Participation Rate')\n",
    "LFPR_results"
   ]
  },
  {
   "cell_type": "code",
   "execution_count": 64,
   "metadata": {},
   "outputs": [],
   "source": [
    "titles = ['Labor Force Participation Rate - 16-19 Yrs.', 'Labor Force Participation Rate - 20-24 Yrs.', 'Labor Force Participation Rate - 25-54 Yrs.', 'Labor Force Participation Rate - 55 Yrs. & over' ]"
   ]
  },
  {
   "cell_type": "code",
   "execution_count": 67,
   "metadata": {},
   "outputs": [
    {
     "data": {
      "text/html": [
       "<div>\n",
       "<style scoped>\n",
       "    .dataframe tbody tr th:only-of-type {\n",
       "        vertical-align: middle;\n",
       "    }\n",
       "\n",
       "    .dataframe tbody tr th {\n",
       "        vertical-align: top;\n",
       "    }\n",
       "\n",
       "    .dataframe thead th {\n",
       "        text-align: right;\n",
       "    }\n",
       "</style>\n",
       "<table border=\"1\" class=\"dataframe\">\n",
       "  <thead>\n",
       "    <tr style=\"text-align: right;\">\n",
       "      <th></th>\n",
       "      <th>id</th>\n",
       "      <th>realtime_start</th>\n",
       "      <th>realtime_end</th>\n",
       "      <th>title</th>\n",
       "      <th>observation_start</th>\n",
       "      <th>observation_end</th>\n",
       "      <th>frequency</th>\n",
       "      <th>frequency_short</th>\n",
       "      <th>units</th>\n",
       "      <th>units_short</th>\n",
       "      <th>seasonal_adjustment</th>\n",
       "      <th>seasonal_adjustment_short</th>\n",
       "      <th>last_updated</th>\n",
       "      <th>popularity</th>\n",
       "      <th>notes</th>\n",
       "    </tr>\n",
       "    <tr>\n",
       "      <th>series id</th>\n",
       "      <th></th>\n",
       "      <th></th>\n",
       "      <th></th>\n",
       "      <th></th>\n",
       "      <th></th>\n",
       "      <th></th>\n",
       "      <th></th>\n",
       "      <th></th>\n",
       "      <th></th>\n",
       "      <th></th>\n",
       "      <th></th>\n",
       "      <th></th>\n",
       "      <th></th>\n",
       "      <th></th>\n",
       "      <th></th>\n",
       "    </tr>\n",
       "  </thead>\n",
       "  <tbody>\n",
       "    <tr>\n",
       "      <th>LNS11300060</th>\n",
       "      <td>LNS11300060</td>\n",
       "      <td>2024-11-14</td>\n",
       "      <td>2024-11-14</td>\n",
       "      <td>Labor Force Participation Rate - 25-54 Yrs.</td>\n",
       "      <td>1948-01-01</td>\n",
       "      <td>2024-10-01</td>\n",
       "      <td>Monthly</td>\n",
       "      <td>M</td>\n",
       "      <td>Percent</td>\n",
       "      <td>%</td>\n",
       "      <td>Seasonally Adjusted</td>\n",
       "      <td>SA</td>\n",
       "      <td>2024-11-01 07:47:07-05:00</td>\n",
       "      <td>70</td>\n",
       "      <td>The series comes from the 'Current Population ...</td>\n",
       "    </tr>\n",
       "    <tr>\n",
       "      <th>LNS11324230</th>\n",
       "      <td>LNS11324230</td>\n",
       "      <td>2024-11-14</td>\n",
       "      <td>2024-11-14</td>\n",
       "      <td>Labor Force Participation Rate - 55 Yrs. &amp; over</td>\n",
       "      <td>1948-01-01</td>\n",
       "      <td>2024-10-01</td>\n",
       "      <td>Monthly</td>\n",
       "      <td>M</td>\n",
       "      <td>Percent</td>\n",
       "      <td>%</td>\n",
       "      <td>Seasonally Adjusted</td>\n",
       "      <td>SA</td>\n",
       "      <td>2024-11-01 07:47:14-05:00</td>\n",
       "      <td>54</td>\n",
       "      <td>The series comes from the 'Current Population ...</td>\n",
       "    </tr>\n",
       "    <tr>\n",
       "      <th>LNS11300012</th>\n",
       "      <td>LNS11300012</td>\n",
       "      <td>2024-11-14</td>\n",
       "      <td>2024-11-14</td>\n",
       "      <td>Labor Force Participation Rate - 16-19 Yrs.</td>\n",
       "      <td>1948-01-01</td>\n",
       "      <td>2024-10-01</td>\n",
       "      <td>Monthly</td>\n",
       "      <td>M</td>\n",
       "      <td>Percent</td>\n",
       "      <td>%</td>\n",
       "      <td>Seasonally Adjusted</td>\n",
       "      <td>SA</td>\n",
       "      <td>2024-11-01 07:47:15-05:00</td>\n",
       "      <td>49</td>\n",
       "      <td>The series comes from the 'Current Population ...</td>\n",
       "    </tr>\n",
       "    <tr>\n",
       "      <th>LNS11300036</th>\n",
       "      <td>LNS11300036</td>\n",
       "      <td>2024-11-14</td>\n",
       "      <td>2024-11-14</td>\n",
       "      <td>Labor Force Participation Rate - 20-24 Yrs.</td>\n",
       "      <td>1948-01-01</td>\n",
       "      <td>2024-10-01</td>\n",
       "      <td>Monthly</td>\n",
       "      <td>M</td>\n",
       "      <td>Percent</td>\n",
       "      <td>%</td>\n",
       "      <td>Seasonally Adjusted</td>\n",
       "      <td>SA</td>\n",
       "      <td>2024-11-01 07:47:18-05:00</td>\n",
       "      <td>39</td>\n",
       "      <td>The series comes from the 'Current Population ...</td>\n",
       "    </tr>\n",
       "  </tbody>\n",
       "</table>\n",
       "</div>"
      ],
      "text/plain": [
       "                      id realtime_start realtime_end  \\\n",
       "series id                                              \n",
       "LNS11300060  LNS11300060     2024-11-14   2024-11-14   \n",
       "LNS11324230  LNS11324230     2024-11-14   2024-11-14   \n",
       "LNS11300012  LNS11300012     2024-11-14   2024-11-14   \n",
       "LNS11300036  LNS11300036     2024-11-14   2024-11-14   \n",
       "\n",
       "                                                       title  \\\n",
       "series id                                                      \n",
       "LNS11300060      Labor Force Participation Rate - 25-54 Yrs.   \n",
       "LNS11324230  Labor Force Participation Rate - 55 Yrs. & over   \n",
       "LNS11300012      Labor Force Participation Rate - 16-19 Yrs.   \n",
       "LNS11300036      Labor Force Participation Rate - 20-24 Yrs.   \n",
       "\n",
       "            observation_start observation_end frequency frequency_short  \\\n",
       "series id                                                                 \n",
       "LNS11300060        1948-01-01      2024-10-01   Monthly               M   \n",
       "LNS11324230        1948-01-01      2024-10-01   Monthly               M   \n",
       "LNS11300012        1948-01-01      2024-10-01   Monthly               M   \n",
       "LNS11300036        1948-01-01      2024-10-01   Monthly               M   \n",
       "\n",
       "               units units_short  seasonal_adjustment  \\\n",
       "series id                                               \n",
       "LNS11300060  Percent           %  Seasonally Adjusted   \n",
       "LNS11324230  Percent           %  Seasonally Adjusted   \n",
       "LNS11300012  Percent           %  Seasonally Adjusted   \n",
       "LNS11300036  Percent           %  Seasonally Adjusted   \n",
       "\n",
       "            seasonal_adjustment_short               last_updated popularity  \\\n",
       "series id                                                                     \n",
       "LNS11300060                        SA  2024-11-01 07:47:07-05:00         70   \n",
       "LNS11324230                        SA  2024-11-01 07:47:14-05:00         54   \n",
       "LNS11300012                        SA  2024-11-01 07:47:15-05:00         49   \n",
       "LNS11300036                        SA  2024-11-01 07:47:18-05:00         39   \n",
       "\n",
       "                                                         notes  \n",
       "series id                                                       \n",
       "LNS11300060  The series comes from the 'Current Population ...  \n",
       "LNS11324230  The series comes from the 'Current Population ...  \n",
       "LNS11300012  The series comes from the 'Current Population ...  \n",
       "LNS11300036  The series comes from the 'Current Population ...  "
      ]
     },
     "execution_count": 67,
     "metadata": {},
     "output_type": "execute_result"
    }
   ],
   "source": [
    "filtered_results = LFPR_results[(LFPR_results['title'].isin(titles)) & (LFPR_results['seasonal_adjustment'] == 'Seasonally Adjusted')]\n",
    "filtered_results"
   ]
  },
  {
   "cell_type": "code",
   "execution_count": 103,
   "metadata": {},
   "outputs": [],
   "source": [
    "indices= {\n",
    "    'LNS11300060': 'Labor Force Participation Rate - 25-54 Yrs.',\n",
    "    'LNS11324230': 'Labor Force Participation Rate - 55 Yrs. & over',\n",
    "    'LNS11300012': 'Labor Force Participation Rate - 16-19 Yrs.',\n",
    "    'LNS11300036': 'Labor Force Participation Rate - 20-24 Yrs.' \n",
    "}"
   ]
  },
  {
   "cell_type": "code",
   "execution_count": 129,
   "metadata": {},
   "outputs": [],
   "source": [
    "series_list=[]\n",
    "\n",
    "for i, (code, label) in enumerate(indices.items()):\n",
    "    results = fred.get_series(code, observation_start='2019-01-01', observation_end='2024-10-01')\n",
    "    results = results.to_frame(name=label)\n",
    "    series_list.append(results)"
   ]
  },
  {
   "cell_type": "code",
   "execution_count": 130,
   "metadata": {},
   "outputs": [
    {
     "data": {
      "text/html": [
       "<div>\n",
       "<style scoped>\n",
       "    .dataframe tbody tr th:only-of-type {\n",
       "        vertical-align: middle;\n",
       "    }\n",
       "\n",
       "    .dataframe tbody tr th {\n",
       "        vertical-align: top;\n",
       "    }\n",
       "\n",
       "    .dataframe thead th {\n",
       "        text-align: right;\n",
       "    }\n",
       "</style>\n",
       "<table border=\"1\" class=\"dataframe\">\n",
       "  <thead>\n",
       "    <tr style=\"text-align: right;\">\n",
       "      <th></th>\n",
       "      <th>Labor Force Participation Rate - 55 Yrs. &amp; over</th>\n",
       "    </tr>\n",
       "  </thead>\n",
       "  <tbody>\n",
       "    <tr>\n",
       "      <th>2019-01-01</th>\n",
       "      <td>40.2</td>\n",
       "    </tr>\n",
       "    <tr>\n",
       "      <th>2019-02-01</th>\n",
       "      <td>40.4</td>\n",
       "    </tr>\n",
       "    <tr>\n",
       "      <th>2019-03-01</th>\n",
       "      <td>40.0</td>\n",
       "    </tr>\n",
       "    <tr>\n",
       "      <th>2019-04-01</th>\n",
       "      <td>40.0</td>\n",
       "    </tr>\n",
       "    <tr>\n",
       "      <th>2019-05-01</th>\n",
       "      <td>40.0</td>\n",
       "    </tr>\n",
       "    <tr>\n",
       "      <th>...</th>\n",
       "      <td>...</td>\n",
       "    </tr>\n",
       "    <tr>\n",
       "      <th>2024-06-01</th>\n",
       "      <td>38.2</td>\n",
       "    </tr>\n",
       "    <tr>\n",
       "      <th>2024-07-01</th>\n",
       "      <td>38.3</td>\n",
       "    </tr>\n",
       "    <tr>\n",
       "      <th>2024-08-01</th>\n",
       "      <td>38.6</td>\n",
       "    </tr>\n",
       "    <tr>\n",
       "      <th>2024-09-01</th>\n",
       "      <td>38.6</td>\n",
       "    </tr>\n",
       "    <tr>\n",
       "      <th>2024-10-01</th>\n",
       "      <td>38.6</td>\n",
       "    </tr>\n",
       "  </tbody>\n",
       "</table>\n",
       "<p>70 rows × 1 columns</p>\n",
       "</div>"
      ],
      "text/plain": [
       "            Labor Force Participation Rate - 55 Yrs. & over\n",
       "2019-01-01                                             40.2\n",
       "2019-02-01                                             40.4\n",
       "2019-03-01                                             40.0\n",
       "2019-04-01                                             40.0\n",
       "2019-05-01                                             40.0\n",
       "...                                                     ...\n",
       "2024-06-01                                             38.2\n",
       "2024-07-01                                             38.3\n",
       "2024-08-01                                             38.6\n",
       "2024-09-01                                             38.6\n",
       "2024-10-01                                             38.6\n",
       "\n",
       "[70 rows x 1 columns]"
      ]
     },
     "execution_count": 130,
     "metadata": {},
     "output_type": "execute_result"
    }
   ],
   "source": [
    "series_list[1]"
   ]
  },
  {
   "cell_type": "code",
   "execution_count": 132,
   "metadata": {},
   "outputs": [
    {
     "data": {
      "text/html": [
       "<div>\n",
       "<style scoped>\n",
       "    .dataframe tbody tr th:only-of-type {\n",
       "        vertical-align: middle;\n",
       "    }\n",
       "\n",
       "    .dataframe tbody tr th {\n",
       "        vertical-align: top;\n",
       "    }\n",
       "\n",
       "    .dataframe thead th {\n",
       "        text-align: right;\n",
       "    }\n",
       "</style>\n",
       "<table border=\"1\" class=\"dataframe\">\n",
       "  <thead>\n",
       "    <tr style=\"text-align: right;\">\n",
       "      <th></th>\n",
       "      <th>Labor Force Participation Rate - 25-54 Yrs.</th>\n",
       "      <th>Labor Force Participation Rate - 55 Yrs. &amp; over</th>\n",
       "      <th>Labor Force Participation Rate - 16-19 Yrs.</th>\n",
       "      <th>Labor Force Participation Rate - 20-24 Yrs.</th>\n",
       "    </tr>\n",
       "  </thead>\n",
       "  <tbody>\n",
       "    <tr>\n",
       "      <th>2019-01-01</th>\n",
       "      <td>82.5</td>\n",
       "      <td>40.2</td>\n",
       "      <td>35.5</td>\n",
       "      <td>71.6</td>\n",
       "    </tr>\n",
       "    <tr>\n",
       "      <th>2019-02-01</th>\n",
       "      <td>82.5</td>\n",
       "      <td>40.4</td>\n",
       "      <td>34.8</td>\n",
       "      <td>71.6</td>\n",
       "    </tr>\n",
       "    <tr>\n",
       "      <th>2019-03-01</th>\n",
       "      <td>82.4</td>\n",
       "      <td>40.0</td>\n",
       "      <td>35.4</td>\n",
       "      <td>71.8</td>\n",
       "    </tr>\n",
       "    <tr>\n",
       "      <th>2019-04-01</th>\n",
       "      <td>82.2</td>\n",
       "      <td>40.0</td>\n",
       "      <td>33.9</td>\n",
       "      <td>72.2</td>\n",
       "    </tr>\n",
       "    <tr>\n",
       "      <th>2019-05-01</th>\n",
       "      <td>82.2</td>\n",
       "      <td>40.0</td>\n",
       "      <td>34.3</td>\n",
       "      <td>73.3</td>\n",
       "    </tr>\n",
       "    <tr>\n",
       "      <th>...</th>\n",
       "      <td>...</td>\n",
       "      <td>...</td>\n",
       "      <td>...</td>\n",
       "      <td>...</td>\n",
       "    </tr>\n",
       "    <tr>\n",
       "      <th>2024-06-01</th>\n",
       "      <td>83.7</td>\n",
       "      <td>38.2</td>\n",
       "      <td>37.4</td>\n",
       "      <td>71.0</td>\n",
       "    </tr>\n",
       "    <tr>\n",
       "      <th>2024-07-01</th>\n",
       "      <td>84.0</td>\n",
       "      <td>38.3</td>\n",
       "      <td>36.4</td>\n",
       "      <td>71.3</td>\n",
       "    </tr>\n",
       "    <tr>\n",
       "      <th>2024-08-01</th>\n",
       "      <td>83.9</td>\n",
       "      <td>38.6</td>\n",
       "      <td>35.7</td>\n",
       "      <td>70.5</td>\n",
       "    </tr>\n",
       "    <tr>\n",
       "      <th>2024-09-01</th>\n",
       "      <td>83.8</td>\n",
       "      <td>38.6</td>\n",
       "      <td>37.2</td>\n",
       "      <td>70.6</td>\n",
       "    </tr>\n",
       "    <tr>\n",
       "      <th>2024-10-01</th>\n",
       "      <td>83.5</td>\n",
       "      <td>38.6</td>\n",
       "      <td>35.8</td>\n",
       "      <td>71.8</td>\n",
       "    </tr>\n",
       "  </tbody>\n",
       "</table>\n",
       "<p>70 rows × 4 columns</p>\n",
       "</div>"
      ],
      "text/plain": [
       "            Labor Force Participation Rate - 25-54 Yrs.  \\\n",
       "2019-01-01                                         82.5   \n",
       "2019-02-01                                         82.5   \n",
       "2019-03-01                                         82.4   \n",
       "2019-04-01                                         82.2   \n",
       "2019-05-01                                         82.2   \n",
       "...                                                 ...   \n",
       "2024-06-01                                         83.7   \n",
       "2024-07-01                                         84.0   \n",
       "2024-08-01                                         83.9   \n",
       "2024-09-01                                         83.8   \n",
       "2024-10-01                                         83.5   \n",
       "\n",
       "            Labor Force Participation Rate - 55 Yrs. & over  \\\n",
       "2019-01-01                                             40.2   \n",
       "2019-02-01                                             40.4   \n",
       "2019-03-01                                             40.0   \n",
       "2019-04-01                                             40.0   \n",
       "2019-05-01                                             40.0   \n",
       "...                                                     ...   \n",
       "2024-06-01                                             38.2   \n",
       "2024-07-01                                             38.3   \n",
       "2024-08-01                                             38.6   \n",
       "2024-09-01                                             38.6   \n",
       "2024-10-01                                             38.6   \n",
       "\n",
       "            Labor Force Participation Rate - 16-19 Yrs.  \\\n",
       "2019-01-01                                         35.5   \n",
       "2019-02-01                                         34.8   \n",
       "2019-03-01                                         35.4   \n",
       "2019-04-01                                         33.9   \n",
       "2019-05-01                                         34.3   \n",
       "...                                                 ...   \n",
       "2024-06-01                                         37.4   \n",
       "2024-07-01                                         36.4   \n",
       "2024-08-01                                         35.7   \n",
       "2024-09-01                                         37.2   \n",
       "2024-10-01                                         35.8   \n",
       "\n",
       "            Labor Force Participation Rate - 20-24 Yrs.  \n",
       "2019-01-01                                         71.6  \n",
       "2019-02-01                                         71.6  \n",
       "2019-03-01                                         71.8  \n",
       "2019-04-01                                         72.2  \n",
       "2019-05-01                                         73.3  \n",
       "...                                                 ...  \n",
       "2024-06-01                                         71.0  \n",
       "2024-07-01                                         71.3  \n",
       "2024-08-01                                         70.5  \n",
       "2024-09-01                                         70.6  \n",
       "2024-10-01                                         71.8  \n",
       "\n",
       "[70 rows x 4 columns]"
      ]
     },
     "execution_count": 132,
     "metadata": {},
     "output_type": "execute_result"
    }
   ],
   "source": [
    "final_df = pd.concat(series_list, axis=1).copy()\n",
    "final_df\n",
    "# concatenated the list of different series data"
   ]
  },
  {
   "cell_type": "code",
   "execution_count": 133,
   "metadata": {},
   "outputs": [
    {
     "data": {
      "text/html": [
       "<div>\n",
       "<style scoped>\n",
       "    .dataframe tbody tr th:only-of-type {\n",
       "        vertical-align: middle;\n",
       "    }\n",
       "\n",
       "    .dataframe tbody tr th {\n",
       "        vertical-align: top;\n",
       "    }\n",
       "\n",
       "    .dataframe thead th {\n",
       "        text-align: right;\n",
       "    }\n",
       "</style>\n",
       "<table border=\"1\" class=\"dataframe\">\n",
       "  <thead>\n",
       "    <tr style=\"text-align: right;\">\n",
       "      <th></th>\n",
       "      <th>Labor Force Participation Rate - 25-54 Yrs.</th>\n",
       "      <th>Labor Force Participation Rate - 55 Yrs. &amp; over</th>\n",
       "      <th>Labor Force Participation Rate - 16-19 Yrs.</th>\n",
       "      <th>Labor Force Participation Rate - 20-24 Yrs.</th>\n",
       "    </tr>\n",
       "  </thead>\n",
       "  <tbody>\n",
       "    <tr>\n",
       "      <th>2019-01-01</th>\n",
       "      <td>82.5</td>\n",
       "      <td>40.2</td>\n",
       "      <td>35.5</td>\n",
       "      <td>71.6</td>\n",
       "    </tr>\n",
       "    <tr>\n",
       "      <th>2019-02-01</th>\n",
       "      <td>82.5</td>\n",
       "      <td>40.4</td>\n",
       "      <td>34.8</td>\n",
       "      <td>71.6</td>\n",
       "    </tr>\n",
       "    <tr>\n",
       "      <th>2019-03-01</th>\n",
       "      <td>82.4</td>\n",
       "      <td>40.0</td>\n",
       "      <td>35.4</td>\n",
       "      <td>71.8</td>\n",
       "    </tr>\n",
       "    <tr>\n",
       "      <th>2019-04-01</th>\n",
       "      <td>82.2</td>\n",
       "      <td>40.0</td>\n",
       "      <td>33.9</td>\n",
       "      <td>72.2</td>\n",
       "    </tr>\n",
       "    <tr>\n",
       "      <th>2019-05-01</th>\n",
       "      <td>82.2</td>\n",
       "      <td>40.0</td>\n",
       "      <td>34.3</td>\n",
       "      <td>73.3</td>\n",
       "    </tr>\n",
       "    <tr>\n",
       "      <th>...</th>\n",
       "      <td>...</td>\n",
       "      <td>...</td>\n",
       "      <td>...</td>\n",
       "      <td>...</td>\n",
       "    </tr>\n",
       "    <tr>\n",
       "      <th>2024-06-01</th>\n",
       "      <td>83.7</td>\n",
       "      <td>38.2</td>\n",
       "      <td>37.4</td>\n",
       "      <td>71.0</td>\n",
       "    </tr>\n",
       "    <tr>\n",
       "      <th>2024-07-01</th>\n",
       "      <td>84.0</td>\n",
       "      <td>38.3</td>\n",
       "      <td>36.4</td>\n",
       "      <td>71.3</td>\n",
       "    </tr>\n",
       "    <tr>\n",
       "      <th>2024-08-01</th>\n",
       "      <td>83.9</td>\n",
       "      <td>38.6</td>\n",
       "      <td>35.7</td>\n",
       "      <td>70.5</td>\n",
       "    </tr>\n",
       "    <tr>\n",
       "      <th>2024-09-01</th>\n",
       "      <td>83.8</td>\n",
       "      <td>38.6</td>\n",
       "      <td>37.2</td>\n",
       "      <td>70.6</td>\n",
       "    </tr>\n",
       "    <tr>\n",
       "      <th>2024-10-01</th>\n",
       "      <td>83.5</td>\n",
       "      <td>38.6</td>\n",
       "      <td>35.8</td>\n",
       "      <td>71.8</td>\n",
       "    </tr>\n",
       "  </tbody>\n",
       "</table>\n",
       "<p>70 rows × 4 columns</p>\n",
       "</div>"
      ],
      "text/plain": [
       "            Labor Force Participation Rate - 25-54 Yrs.  \\\n",
       "2019-01-01                                         82.5   \n",
       "2019-02-01                                         82.5   \n",
       "2019-03-01                                         82.4   \n",
       "2019-04-01                                         82.2   \n",
       "2019-05-01                                         82.2   \n",
       "...                                                 ...   \n",
       "2024-06-01                                         83.7   \n",
       "2024-07-01                                         84.0   \n",
       "2024-08-01                                         83.9   \n",
       "2024-09-01                                         83.8   \n",
       "2024-10-01                                         83.5   \n",
       "\n",
       "            Labor Force Participation Rate - 55 Yrs. & over  \\\n",
       "2019-01-01                                             40.2   \n",
       "2019-02-01                                             40.4   \n",
       "2019-03-01                                             40.0   \n",
       "2019-04-01                                             40.0   \n",
       "2019-05-01                                             40.0   \n",
       "...                                                     ...   \n",
       "2024-06-01                                             38.2   \n",
       "2024-07-01                                             38.3   \n",
       "2024-08-01                                             38.6   \n",
       "2024-09-01                                             38.6   \n",
       "2024-10-01                                             38.6   \n",
       "\n",
       "            Labor Force Participation Rate - 16-19 Yrs.  \\\n",
       "2019-01-01                                         35.5   \n",
       "2019-02-01                                         34.8   \n",
       "2019-03-01                                         35.4   \n",
       "2019-04-01                                         33.9   \n",
       "2019-05-01                                         34.3   \n",
       "...                                                 ...   \n",
       "2024-06-01                                         37.4   \n",
       "2024-07-01                                         36.4   \n",
       "2024-08-01                                         35.7   \n",
       "2024-09-01                                         37.2   \n",
       "2024-10-01                                         35.8   \n",
       "\n",
       "            Labor Force Participation Rate - 20-24 Yrs.  \n",
       "2019-01-01                                         71.6  \n",
       "2019-02-01                                         71.6  \n",
       "2019-03-01                                         71.8  \n",
       "2019-04-01                                         72.2  \n",
       "2019-05-01                                         73.3  \n",
       "...                                                 ...  \n",
       "2024-06-01                                         71.0  \n",
       "2024-07-01                                         71.3  \n",
       "2024-08-01                                         70.5  \n",
       "2024-09-01                                         70.6  \n",
       "2024-10-01                                         71.8  \n",
       "\n",
       "[70 rows x 4 columns]"
      ]
     },
     "execution_count": 133,
     "metadata": {},
     "output_type": "execute_result"
    }
   ],
   "source": [
    "final_df.dropna(inplace=True)\n",
    "final_df"
   ]
  },
  {
   "cell_type": "code",
   "execution_count": 136,
   "metadata": {},
   "outputs": [
    {
     "data": {
      "text/html": [
       "<div>\n",
       "<style scoped>\n",
       "    .dataframe tbody tr th:only-of-type {\n",
       "        vertical-align: middle;\n",
       "    }\n",
       "\n",
       "    .dataframe tbody tr th {\n",
       "        vertical-align: top;\n",
       "    }\n",
       "\n",
       "    .dataframe thead th {\n",
       "        text-align: right;\n",
       "    }\n",
       "</style>\n",
       "<table border=\"1\" class=\"dataframe\">\n",
       "  <thead>\n",
       "    <tr style=\"text-align: right;\">\n",
       "      <th></th>\n",
       "      <th>Labor Force Participation Rate - 16-19 Yrs.</th>\n",
       "      <th>Labor Force Participation Rate - 20-24 Yrs.</th>\n",
       "      <th>Labor Force Participation Rate - 25-54 Yrs.</th>\n",
       "      <th>Labor Force Participation Rate - 55 Yrs. &amp; over</th>\n",
       "    </tr>\n",
       "  </thead>\n",
       "  <tbody>\n",
       "    <tr>\n",
       "      <th>2019-01-01</th>\n",
       "      <td>35.5</td>\n",
       "      <td>71.6</td>\n",
       "      <td>82.5</td>\n",
       "      <td>40.2</td>\n",
       "    </tr>\n",
       "    <tr>\n",
       "      <th>2019-02-01</th>\n",
       "      <td>34.8</td>\n",
       "      <td>71.6</td>\n",
       "      <td>82.5</td>\n",
       "      <td>40.4</td>\n",
       "    </tr>\n",
       "    <tr>\n",
       "      <th>2019-03-01</th>\n",
       "      <td>35.4</td>\n",
       "      <td>71.8</td>\n",
       "      <td>82.4</td>\n",
       "      <td>40.0</td>\n",
       "    </tr>\n",
       "    <tr>\n",
       "      <th>2019-04-01</th>\n",
       "      <td>33.9</td>\n",
       "      <td>72.2</td>\n",
       "      <td>82.2</td>\n",
       "      <td>40.0</td>\n",
       "    </tr>\n",
       "    <tr>\n",
       "      <th>2019-05-01</th>\n",
       "      <td>34.3</td>\n",
       "      <td>73.3</td>\n",
       "      <td>82.2</td>\n",
       "      <td>40.0</td>\n",
       "    </tr>\n",
       "    <tr>\n",
       "      <th>...</th>\n",
       "      <td>...</td>\n",
       "      <td>...</td>\n",
       "      <td>...</td>\n",
       "      <td>...</td>\n",
       "    </tr>\n",
       "    <tr>\n",
       "      <th>2024-06-01</th>\n",
       "      <td>37.4</td>\n",
       "      <td>71.0</td>\n",
       "      <td>83.7</td>\n",
       "      <td>38.2</td>\n",
       "    </tr>\n",
       "    <tr>\n",
       "      <th>2024-07-01</th>\n",
       "      <td>36.4</td>\n",
       "      <td>71.3</td>\n",
       "      <td>84.0</td>\n",
       "      <td>38.3</td>\n",
       "    </tr>\n",
       "    <tr>\n",
       "      <th>2024-08-01</th>\n",
       "      <td>35.7</td>\n",
       "      <td>70.5</td>\n",
       "      <td>83.9</td>\n",
       "      <td>38.6</td>\n",
       "    </tr>\n",
       "    <tr>\n",
       "      <th>2024-09-01</th>\n",
       "      <td>37.2</td>\n",
       "      <td>70.6</td>\n",
       "      <td>83.8</td>\n",
       "      <td>38.6</td>\n",
       "    </tr>\n",
       "    <tr>\n",
       "      <th>2024-10-01</th>\n",
       "      <td>35.8</td>\n",
       "      <td>71.8</td>\n",
       "      <td>83.5</td>\n",
       "      <td>38.6</td>\n",
       "    </tr>\n",
       "  </tbody>\n",
       "</table>\n",
       "<p>70 rows × 4 columns</p>\n",
       "</div>"
      ],
      "text/plain": [
       "            Labor Force Participation Rate - 16-19 Yrs.  \\\n",
       "2019-01-01                                         35.5   \n",
       "2019-02-01                                         34.8   \n",
       "2019-03-01                                         35.4   \n",
       "2019-04-01                                         33.9   \n",
       "2019-05-01                                         34.3   \n",
       "...                                                 ...   \n",
       "2024-06-01                                         37.4   \n",
       "2024-07-01                                         36.4   \n",
       "2024-08-01                                         35.7   \n",
       "2024-09-01                                         37.2   \n",
       "2024-10-01                                         35.8   \n",
       "\n",
       "            Labor Force Participation Rate - 20-24 Yrs.  \\\n",
       "2019-01-01                                         71.6   \n",
       "2019-02-01                                         71.6   \n",
       "2019-03-01                                         71.8   \n",
       "2019-04-01                                         72.2   \n",
       "2019-05-01                                         73.3   \n",
       "...                                                 ...   \n",
       "2024-06-01                                         71.0   \n",
       "2024-07-01                                         71.3   \n",
       "2024-08-01                                         70.5   \n",
       "2024-09-01                                         70.6   \n",
       "2024-10-01                                         71.8   \n",
       "\n",
       "            Labor Force Participation Rate - 25-54 Yrs.  \\\n",
       "2019-01-01                                         82.5   \n",
       "2019-02-01                                         82.5   \n",
       "2019-03-01                                         82.4   \n",
       "2019-04-01                                         82.2   \n",
       "2019-05-01                                         82.2   \n",
       "...                                                 ...   \n",
       "2024-06-01                                         83.7   \n",
       "2024-07-01                                         84.0   \n",
       "2024-08-01                                         83.9   \n",
       "2024-09-01                                         83.8   \n",
       "2024-10-01                                         83.5   \n",
       "\n",
       "            Labor Force Participation Rate - 55 Yrs. & over  \n",
       "2019-01-01                                             40.2  \n",
       "2019-02-01                                             40.4  \n",
       "2019-03-01                                             40.0  \n",
       "2019-04-01                                             40.0  \n",
       "2019-05-01                                             40.0  \n",
       "...                                                     ...  \n",
       "2024-06-01                                             38.2  \n",
       "2024-07-01                                             38.3  \n",
       "2024-08-01                                             38.6  \n",
       "2024-09-01                                             38.6  \n",
       "2024-10-01                                             38.6  \n",
       "\n",
       "[70 rows x 4 columns]"
      ]
     },
     "execution_count": 136,
     "metadata": {},
     "output_type": "execute_result"
    }
   ],
   "source": [
    "custom_order = ['Labor Force Participation Rate - 16-19 Yrs.', 'Labor Force Participation Rate - 20-24 Yrs.', 'Labor Force Participation Rate - 25-54 Yrs.', 'Labor Force Participation Rate - 55 Yrs. & over']\n",
    "\n",
    "final_df = final_df[custom_order]\n",
    "final_df"
   ]
  },
  {
   "cell_type": "code",
   "execution_count": 154,
   "metadata": {},
   "outputs": [
    {
     "data": {
      "image/png": "[encoded data removed]",
      "text/plain": [
       "<Figure size 1200x800 with 1 Axes>"
      ]
     },
     "metadata": {},
     "output_type": "display_data"
    }
   ],
   "source": [
    "final_df.plot(kind='line', figsize=(12, 8))\n",
    "plt.title('Labour Force Participation Rate for Different Age Groups Over the Past 5 Years', fontsize=16, y=1.02)\n",
    "plt.ylabel('Percentage')\n",
    "\n",
    "ax = plt.gca()\n",
    "ax.legend(bbox_to_anchor=(1.05, 0.5), loc='center left', borderaxespad=0., title=\"Age Group\")\n",
    "\n",
    "plt.tight_layout()"
   ]
  }
 ],
 "metadata": {
  "kernelspec": {
   "display_name": "python_course",
   "language": "python",
   "name": "python3"
  },
  "language_info": {
   "codemirror_mode": {
    "name": "ipython",
    "version": 3
   },
   "file_extension": ".py",
   "mimetype": "text/x-python",
   "name": "python",
   "nbconvert_exporter": "python",
   "pygments_lexer": "ipython3",
   "version": "3.11.10"
  }
 },
 "nbformat": 4,
 "nbformat_minor": 2
}
