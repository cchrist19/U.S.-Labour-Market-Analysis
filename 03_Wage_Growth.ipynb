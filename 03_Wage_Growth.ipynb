{
 "cells": [
  {
   "cell_type": "code",
   "execution_count": null,
   "metadata": {},
   "outputs": [],
   "source": [
    "#importing libraries\n",
    "import pandas as pd \n",
    "import numpy as np\n",
    "import matplotlib.pyplot as plt\n",
    "import plotly.express as px\n",
    "import seaborn as sns \n",
    "from plotly.subplots import make_subplots"
   ]
  },
  {
   "cell_type": "code",
   "execution_count": null,
   "metadata": {},
   "outputs": [],
   "source": [
    "#import fredapi key\n",
    "from fredapi import Fred\n",
    "\n",
    "from dotenv import load_dotenv\n",
    "import os\n",
    "\n",
    "#Load variables from .env\n",
    "load_dotenv() \n",
    "fred_key = os.getenv(\"FRED_API_KEY\")\n",
    "\n",
    "#create fred object\n",
    "fred = Fred(api_key=fred_key)"
   ]
  },
  {
   "cell_type": "markdown",
   "metadata": {},
   "source": [
    "## Key Questions\n",
    "\n",
    "- Plot a horizontal bar graph showing the average hourly earnings for each sector, ordered from largest to smallest (trends in wage growth)\n",
    "\n",
    "- Then, to determine whether wage growth is keeping pace with inflation, I need to calculate real wags first (nominal wage) by dividing average hourly earnings by the CPI. Then i calculate wage growth rate and inflation rate year on year, and plot these two on a line graph and see whether sector specific wage growth is keeping up with inflation\n"
   ]
  },
  {
   "cell_type": "code",
   "execution_count": 41,
   "metadata": {},
   "outputs": [],
   "source": [
    "hourly_wage_list = ['CES2000000003','CES6500000003', 'CES5500000003', 'CES5000000003', 'CES7000000003', 'CES3000000003', 'CES6000000003', 'CES4000000003']"
   ]
  },
  {
   "cell_type": "code",
   "execution_count": 42,
   "metadata": {},
   "outputs": [
    {
     "data": {
      "text/html": [
       "<div>\n",
       "<style scoped>\n",
       "    .dataframe tbody tr th:only-of-type {\n",
       "        vertical-align: middle;\n",
       "    }\n",
       "\n",
       "    .dataframe tbody tr th {\n",
       "        vertical-align: top;\n",
       "    }\n",
       "\n",
       "    .dataframe thead th {\n",
       "        text-align: right;\n",
       "    }\n",
       "</style>\n",
       "<table border=\"1\" class=\"dataframe\">\n",
       "  <thead>\n",
       "    <tr style=\"text-align: right;\">\n",
       "      <th></th>\n",
       "      <th>id</th>\n",
       "      <th>realtime_start</th>\n",
       "      <th>realtime_end</th>\n",
       "      <th>title</th>\n",
       "      <th>observation_start</th>\n",
       "      <th>observation_end</th>\n",
       "      <th>frequency</th>\n",
       "      <th>frequency_short</th>\n",
       "      <th>units</th>\n",
       "      <th>units_short</th>\n",
       "      <th>seasonal_adjustment</th>\n",
       "      <th>seasonal_adjustment_short</th>\n",
       "      <th>last_updated</th>\n",
       "      <th>popularity</th>\n",
       "      <th>notes</th>\n",
       "    </tr>\n",
       "    <tr>\n",
       "      <th>series id</th>\n",
       "      <th></th>\n",
       "      <th></th>\n",
       "      <th></th>\n",
       "      <th></th>\n",
       "      <th></th>\n",
       "      <th></th>\n",
       "      <th></th>\n",
       "      <th></th>\n",
       "      <th></th>\n",
       "      <th></th>\n",
       "      <th></th>\n",
       "      <th></th>\n",
       "      <th></th>\n",
       "      <th></th>\n",
       "      <th></th>\n",
       "    </tr>\n",
       "  </thead>\n",
       "  <tbody>\n",
       "    <tr>\n",
       "      <th>CES2000000003</th>\n",
       "      <td>CES2000000003</td>\n",
       "      <td>2024-11-15</td>\n",
       "      <td>2024-11-15</td>\n",
       "      <td>Average Hourly Earnings of All Employees, Cons...</td>\n",
       "      <td>2006-03-01</td>\n",
       "      <td>2024-10-01</td>\n",
       "      <td>Monthly</td>\n",
       "      <td>M</td>\n",
       "      <td>Dollars per Hour</td>\n",
       "      <td>$ per Hour</td>\n",
       "      <td>Seasonally Adjusted</td>\n",
       "      <td>SA</td>\n",
       "      <td>2024-11-01 07:48:07-05:00</td>\n",
       "      <td>57</td>\n",
       "      <td>Construction employees in the construction sec...</td>\n",
       "    </tr>\n",
       "    <tr>\n",
       "      <th>CES3000000003</th>\n",
       "      <td>CES3000000003</td>\n",
       "      <td>2024-11-15</td>\n",
       "      <td>2024-11-15</td>\n",
       "      <td>Average Hourly Earnings of All Employees, Manu...</td>\n",
       "      <td>2006-03-01</td>\n",
       "      <td>2024-10-01</td>\n",
       "      <td>Monthly</td>\n",
       "      <td>M</td>\n",
       "      <td>Dollars per Hour</td>\n",
       "      <td>$ per Hour</td>\n",
       "      <td>Seasonally Adjusted</td>\n",
       "      <td>SA</td>\n",
       "      <td>2024-11-01 07:48:07-05:00</td>\n",
       "      <td>57</td>\n",
       "      <td>The series comes from the 'Current Employment ...</td>\n",
       "    </tr>\n",
       "    <tr>\n",
       "      <th>CES7000000003</th>\n",
       "      <td>CES7000000003</td>\n",
       "      <td>2024-11-15</td>\n",
       "      <td>2024-11-15</td>\n",
       "      <td>Average Hourly Earnings of All Employees, Leis...</td>\n",
       "      <td>2006-03-01</td>\n",
       "      <td>2024-10-01</td>\n",
       "      <td>Monthly</td>\n",
       "      <td>M</td>\n",
       "      <td>Dollars per Hour</td>\n",
       "      <td>$ per Hour</td>\n",
       "      <td>Seasonally Adjusted</td>\n",
       "      <td>SA</td>\n",
       "      <td>2024-11-01 07:48:07-05:00</td>\n",
       "      <td>53</td>\n",
       "      <td>The series comes from the 'Current Employment ...</td>\n",
       "    </tr>\n",
       "    <tr>\n",
       "      <th>CES6000000003</th>\n",
       "      <td>CES6000000003</td>\n",
       "      <td>2024-11-15</td>\n",
       "      <td>2024-11-15</td>\n",
       "      <td>Average Hourly Earnings of All Employees, Prof...</td>\n",
       "      <td>2006-03-01</td>\n",
       "      <td>2024-10-01</td>\n",
       "      <td>Monthly</td>\n",
       "      <td>M</td>\n",
       "      <td>Dollars per Hour</td>\n",
       "      <td>$ per Hour</td>\n",
       "      <td>Seasonally Adjusted</td>\n",
       "      <td>SA</td>\n",
       "      <td>2024-11-01 07:48:08-05:00</td>\n",
       "      <td>51</td>\n",
       "      <td>The series comes from the 'Current Employment ...</td>\n",
       "    </tr>\n",
       "    <tr>\n",
       "      <th>CES6500000003</th>\n",
       "      <td>CES6500000003</td>\n",
       "      <td>2024-11-15</td>\n",
       "      <td>2024-11-15</td>\n",
       "      <td>Average Hourly Earnings of All Employees, Priv...</td>\n",
       "      <td>2006-03-01</td>\n",
       "      <td>2024-10-01</td>\n",
       "      <td>Monthly</td>\n",
       "      <td>M</td>\n",
       "      <td>Dollars per Hour</td>\n",
       "      <td>$ per Hour</td>\n",
       "      <td>Seasonally Adjusted</td>\n",
       "      <td>SA</td>\n",
       "      <td>2024-11-01 07:48:08-05:00</td>\n",
       "      <td>50</td>\n",
       "      <td>The series comes from the 'Current Employment ...</td>\n",
       "    </tr>\n",
       "    <tr>\n",
       "      <th>CES5000000003</th>\n",
       "      <td>CES5000000003</td>\n",
       "      <td>2024-11-15</td>\n",
       "      <td>2024-11-15</td>\n",
       "      <td>Average Hourly Earnings of All Employees, Info...</td>\n",
       "      <td>2006-03-01</td>\n",
       "      <td>2024-10-01</td>\n",
       "      <td>Monthly</td>\n",
       "      <td>M</td>\n",
       "      <td>Dollars per Hour</td>\n",
       "      <td>$ per Hour</td>\n",
       "      <td>Seasonally Adjusted</td>\n",
       "      <td>SA</td>\n",
       "      <td>2024-11-01 07:48:08-05:00</td>\n",
       "      <td>50</td>\n",
       "      <td>The series comes from the 'Current Employment ...</td>\n",
       "    </tr>\n",
       "    <tr>\n",
       "      <th>CES5500000003</th>\n",
       "      <td>CES5500000003</td>\n",
       "      <td>2024-11-15</td>\n",
       "      <td>2024-11-15</td>\n",
       "      <td>Average Hourly Earnings of All Employees, Fina...</td>\n",
       "      <td>2006-03-01</td>\n",
       "      <td>2024-10-01</td>\n",
       "      <td>Monthly</td>\n",
       "      <td>M</td>\n",
       "      <td>Dollars per Hour</td>\n",
       "      <td>$ per Hour</td>\n",
       "      <td>Seasonally Adjusted</td>\n",
       "      <td>SA</td>\n",
       "      <td>2024-11-01 07:48:08-05:00</td>\n",
       "      <td>50</td>\n",
       "      <td>The series comes from the 'Current Employment ...</td>\n",
       "    </tr>\n",
       "    <tr>\n",
       "      <th>CES4000000003</th>\n",
       "      <td>CES4000000003</td>\n",
       "      <td>2024-11-15</td>\n",
       "      <td>2024-11-15</td>\n",
       "      <td>Average Hourly Earnings of All Employees, Trad...</td>\n",
       "      <td>2006-03-01</td>\n",
       "      <td>2024-10-01</td>\n",
       "      <td>Monthly</td>\n",
       "      <td>M</td>\n",
       "      <td>Dollars per Hour</td>\n",
       "      <td>$ per Hour</td>\n",
       "      <td>Seasonally Adjusted</td>\n",
       "      <td>SA</td>\n",
       "      <td>2024-11-01 07:48:17-05:00</td>\n",
       "      <td>4</td>\n",
       "      <td>The series comes from the 'Current Employment ...</td>\n",
       "    </tr>\n",
       "  </tbody>\n",
       "</table>\n",
       "</div>"
      ],
      "text/plain": [
       "                          id realtime_start realtime_end  \\\n",
       "series id                                                  \n",
       "CES2000000003  CES2000000003     2024-11-15   2024-11-15   \n",
       "CES3000000003  CES3000000003     2024-11-15   2024-11-15   \n",
       "CES7000000003  CES7000000003     2024-11-15   2024-11-15   \n",
       "CES6000000003  CES6000000003     2024-11-15   2024-11-15   \n",
       "CES6500000003  CES6500000003     2024-11-15   2024-11-15   \n",
       "CES5000000003  CES5000000003     2024-11-15   2024-11-15   \n",
       "CES5500000003  CES5500000003     2024-11-15   2024-11-15   \n",
       "CES4000000003  CES4000000003     2024-11-15   2024-11-15   \n",
       "\n",
       "                                                           title  \\\n",
       "series id                                                          \n",
       "CES2000000003  Average Hourly Earnings of All Employees, Cons...   \n",
       "CES3000000003  Average Hourly Earnings of All Employees, Manu...   \n",
       "CES7000000003  Average Hourly Earnings of All Employees, Leis...   \n",
       "CES6000000003  Average Hourly Earnings of All Employees, Prof...   \n",
       "CES6500000003  Average Hourly Earnings of All Employees, Priv...   \n",
       "CES5000000003  Average Hourly Earnings of All Employees, Info...   \n",
       "CES5500000003  Average Hourly Earnings of All Employees, Fina...   \n",
       "CES4000000003  Average Hourly Earnings of All Employees, Trad...   \n",
       "\n",
       "              observation_start observation_end frequency frequency_short  \\\n",
       "series id                                                                   \n",
       "CES2000000003        2006-03-01      2024-10-01   Monthly               M   \n",
       "CES3000000003        2006-03-01      2024-10-01   Monthly               M   \n",
       "CES7000000003        2006-03-01      2024-10-01   Monthly               M   \n",
       "CES6000000003        2006-03-01      2024-10-01   Monthly               M   \n",
       "CES6500000003        2006-03-01      2024-10-01   Monthly               M   \n",
       "CES5000000003        2006-03-01      2024-10-01   Monthly               M   \n",
       "CES5500000003        2006-03-01      2024-10-01   Monthly               M   \n",
       "CES4000000003        2006-03-01      2024-10-01   Monthly               M   \n",
       "\n",
       "                          units units_short  seasonal_adjustment  \\\n",
       "series id                                                          \n",
       "CES2000000003  Dollars per Hour  $ per Hour  Seasonally Adjusted   \n",
       "CES3000000003  Dollars per Hour  $ per Hour  Seasonally Adjusted   \n",
       "CES7000000003  Dollars per Hour  $ per Hour  Seasonally Adjusted   \n",
       "CES6000000003  Dollars per Hour  $ per Hour  Seasonally Adjusted   \n",
       "CES6500000003  Dollars per Hour  $ per Hour  Seasonally Adjusted   \n",
       "CES5000000003  Dollars per Hour  $ per Hour  Seasonally Adjusted   \n",
       "CES5500000003  Dollars per Hour  $ per Hour  Seasonally Adjusted   \n",
       "CES4000000003  Dollars per Hour  $ per Hour  Seasonally Adjusted   \n",
       "\n",
       "              seasonal_adjustment_short               last_updated popularity  \\\n",
       "series id                                                                       \n",
       "CES2000000003                        SA  2024-11-01 07:48:07-05:00         57   \n",
       "CES3000000003                        SA  2024-11-01 07:48:07-05:00         57   \n",
       "CES7000000003                        SA  2024-11-01 07:48:07-05:00         53   \n",
       "CES6000000003                        SA  2024-11-01 07:48:08-05:00         51   \n",
       "CES6500000003                        SA  2024-11-01 07:48:08-05:00         50   \n",
       "CES5000000003                        SA  2024-11-01 07:48:08-05:00         50   \n",
       "CES5500000003                        SA  2024-11-01 07:48:08-05:00         50   \n",
       "CES4000000003                        SA  2024-11-01 07:48:17-05:00          4   \n",
       "\n",
       "                                                           notes  \n",
       "series id                                                         \n",
       "CES2000000003  Construction employees in the construction sec...  \n",
       "CES3000000003  The series comes from the 'Current Employment ...  \n",
       "CES7000000003  The series comes from the 'Current Employment ...  \n",
       "CES6000000003  The series comes from the 'Current Employment ...  \n",
       "CES6500000003  The series comes from the 'Current Employment ...  \n",
       "CES5000000003  The series comes from the 'Current Employment ...  \n",
       "CES5500000003  The series comes from the 'Current Employment ...  \n",
       "CES4000000003  The series comes from the 'Current Employment ...  "
      ]
     },
     "execution_count": 42,
     "metadata": {},
     "output_type": "execute_result"
    }
   ],
   "source": [
    "hourly_earnings = fred.search('Average Hourly Earnings')\n",
    "hourly_earnings = hourly_earnings[hourly_earnings['frequency'] == 'Monthly']\n",
    "hourly_earnings = hourly_earnings[hourly_earnings['id'].isin(hourly_wage_list)]\n",
    "\n",
    "hourly_earnings\n",
    "\n",
    "# here, we have all the average hourly earning data for major job sectors of interest"
   ]
  },
  {
   "cell_type": "code",
   "execution_count": 43,
   "metadata": {},
   "outputs": [
    {
     "data": {
      "text/plain": [
       "Index(['CES2000000003', 'CES3000000003', 'CES7000000003', 'CES6000000003',\n",
       "       'CES6500000003', 'CES5000000003', 'CES5500000003', 'CES4000000003'],\n",
       "      dtype='object', name='series id')"
      ]
     },
     "execution_count": 43,
     "metadata": {},
     "output_type": "execute_result"
    }
   ],
   "source": [
    "hourly_earnings.index"
   ]
  },
  {
   "cell_type": "code",
   "execution_count": 44,
   "metadata": {},
   "outputs": [],
   "source": [
    "all_results = []\n",
    "\n",
    "for id in hourly_earnings.index:\n",
    "    results = fred.get_series(id, observation_start='2019-01-01', observation_end='2024-10-01')\n",
    "    results = results.to_frame(name=id)\n",
    "    all_results.append(results)\n",
    "\n",
    "# here, it goes through the list of series IDs and retreives the corresponding series and stores it in 'results'.\n",
    "# This is converted into a dataframe and the newly created dataframe is now appended to the 'all_results' list.\n",
    "# The loop continues, moving onto the nex id to retrieve series and store in 'results'. At the end of the loop,\n",
    "# all_results will contain a list of DataFrames, each corresponding to a different series from hourly_earnings"
   ]
  },
  {
   "cell_type": "code",
   "execution_count": null,
   "metadata": {},
   "outputs": [
    {
     "data": {
      "text/html": [
       "<div>\n",
       "<style scoped>\n",
       "    .dataframe tbody tr th:only-of-type {\n",
       "        vertical-align: middle;\n",
       "    }\n",
       "\n",
       "    .dataframe tbody tr th {\n",
       "        vertical-align: top;\n",
       "    }\n",
       "\n",
       "    .dataframe thead th {\n",
       "        text-align: right;\n",
       "    }\n",
       "</style>\n",
       "<table border=\"1\" class=\"dataframe\">\n",
       "  <thead>\n",
       "    <tr style=\"text-align: right;\">\n",
       "      <th></th>\n",
       "      <th>CES6000000003</th>\n",
       "    </tr>\n",
       "  </thead>\n",
       "  <tbody>\n",
       "    <tr>\n",
       "      <th>2019-01-01</th>\n",
       "      <td>33.07</td>\n",
       "    </tr>\n",
       "    <tr>\n",
       "      <th>2019-02-01</th>\n",
       "      <td>33.25</td>\n",
       "    </tr>\n",
       "    <tr>\n",
       "      <th>2019-03-01</th>\n",
       "      <td>33.36</td>\n",
       "    </tr>\n",
       "    <tr>\n",
       "      <th>2019-04-01</th>\n",
       "      <td>33.41</td>\n",
       "    </tr>\n",
       "    <tr>\n",
       "      <th>2019-05-01</th>\n",
       "      <td>33.50</td>\n",
       "    </tr>\n",
       "    <tr>\n",
       "      <th>...</th>\n",
       "      <td>...</td>\n",
       "    </tr>\n",
       "    <tr>\n",
       "      <th>2024-06-01</th>\n",
       "      <td>42.15</td>\n",
       "    </tr>\n",
       "    <tr>\n",
       "      <th>2024-07-01</th>\n",
       "      <td>42.25</td>\n",
       "    </tr>\n",
       "    <tr>\n",
       "      <th>2024-08-01</th>\n",
       "      <td>42.49</td>\n",
       "    </tr>\n",
       "    <tr>\n",
       "      <th>2024-09-01</th>\n",
       "      <td>42.77</td>\n",
       "    </tr>\n",
       "    <tr>\n",
       "      <th>2024-10-01</th>\n",
       "      <td>43.01</td>\n",
       "    </tr>\n",
       "  </tbody>\n",
       "</table>\n",
       "<p>70 rows × 1 columns</p>\n",
       "</div>"
      ],
      "text/plain": [
       "            CES6000000003\n",
       "2019-01-01          33.07\n",
       "2019-02-01          33.25\n",
       "2019-03-01          33.36\n",
       "2019-04-01          33.41\n",
       "2019-05-01          33.50\n",
       "...                   ...\n",
       "2024-06-01          42.15\n",
       "2024-07-01          42.25\n",
       "2024-08-01          42.49\n",
       "2024-09-01          42.77\n",
       "2024-10-01          43.01\n",
       "\n",
       "[70 rows x 1 columns]"
      ]
     },
     "execution_count": 45,
     "metadata": {},
     "output_type": "execute_result"
    }
   ],
   "source": [
    "all_results[3]\n",
    "# series data can be accessed by specifying the index of the list"
   ]
  },
  {
   "cell_type": "code",
   "execution_count": 46,
   "metadata": {},
   "outputs": [
    {
     "data": {
      "text/html": [
       "<div>\n",
       "<style scoped>\n",
       "    .dataframe tbody tr th:only-of-type {\n",
       "        vertical-align: middle;\n",
       "    }\n",
       "\n",
       "    .dataframe tbody tr th {\n",
       "        vertical-align: top;\n",
       "    }\n",
       "\n",
       "    .dataframe thead th {\n",
       "        text-align: right;\n",
       "    }\n",
       "</style>\n",
       "<table border=\"1\" class=\"dataframe\">\n",
       "  <thead>\n",
       "    <tr style=\"text-align: right;\">\n",
       "      <th></th>\n",
       "      <th>CES2000000003</th>\n",
       "      <th>CES3000000003</th>\n",
       "      <th>CES7000000003</th>\n",
       "      <th>CES6000000003</th>\n",
       "      <th>CES6500000003</th>\n",
       "      <th>CES5000000003</th>\n",
       "      <th>CES5500000003</th>\n",
       "      <th>CES4000000003</th>\n",
       "    </tr>\n",
       "  </thead>\n",
       "  <tbody>\n",
       "    <tr>\n",
       "      <th>2019-01-01</th>\n",
       "      <td>30.34</td>\n",
       "      <td>27.28</td>\n",
       "      <td>16.28</td>\n",
       "      <td>33.07</td>\n",
       "      <td>27.44</td>\n",
       "      <td>41.71</td>\n",
       "      <td>35.42</td>\n",
       "      <td>23.81</td>\n",
       "    </tr>\n",
       "    <tr>\n",
       "      <th>2019-02-01</th>\n",
       "      <td>30.43</td>\n",
       "      <td>27.46</td>\n",
       "      <td>16.40</td>\n",
       "      <td>33.25</td>\n",
       "      <td>27.52</td>\n",
       "      <td>41.73</td>\n",
       "      <td>35.49</td>\n",
       "      <td>23.93</td>\n",
       "    </tr>\n",
       "    <tr>\n",
       "      <th>2019-03-01</th>\n",
       "      <td>30.53</td>\n",
       "      <td>27.50</td>\n",
       "      <td>16.43</td>\n",
       "      <td>33.36</td>\n",
       "      <td>27.60</td>\n",
       "      <td>42.08</td>\n",
       "      <td>35.55</td>\n",
       "      <td>24.04</td>\n",
       "    </tr>\n",
       "    <tr>\n",
       "      <th>2019-04-01</th>\n",
       "      <td>30.63</td>\n",
       "      <td>27.47</td>\n",
       "      <td>16.47</td>\n",
       "      <td>33.41</td>\n",
       "      <td>27.40</td>\n",
       "      <td>41.82</td>\n",
       "      <td>35.69</td>\n",
       "      <td>24.00</td>\n",
       "    </tr>\n",
       "    <tr>\n",
       "      <th>2019-05-01</th>\n",
       "      <td>30.69</td>\n",
       "      <td>27.58</td>\n",
       "      <td>16.51</td>\n",
       "      <td>33.50</td>\n",
       "      <td>27.40</td>\n",
       "      <td>41.98</td>\n",
       "      <td>35.78</td>\n",
       "      <td>24.08</td>\n",
       "    </tr>\n",
       "    <tr>\n",
       "      <th>...</th>\n",
       "      <td>...</td>\n",
       "      <td>...</td>\n",
       "      <td>...</td>\n",
       "      <td>...</td>\n",
       "      <td>...</td>\n",
       "      <td>...</td>\n",
       "      <td>...</td>\n",
       "      <td>...</td>\n",
       "    </tr>\n",
       "    <tr>\n",
       "      <th>2024-06-01</th>\n",
       "      <td>38.11</td>\n",
       "      <td>34.04</td>\n",
       "      <td>22.06</td>\n",
       "      <td>42.15</td>\n",
       "      <td>34.18</td>\n",
       "      <td>49.57</td>\n",
       "      <td>45.45</td>\n",
       "      <td>29.93</td>\n",
       "    </tr>\n",
       "    <tr>\n",
       "      <th>2024-07-01</th>\n",
       "      <td>38.26</td>\n",
       "      <td>34.14</td>\n",
       "      <td>22.14</td>\n",
       "      <td>42.25</td>\n",
       "      <td>34.28</td>\n",
       "      <td>49.80</td>\n",
       "      <td>45.58</td>\n",
       "      <td>29.97</td>\n",
       "    </tr>\n",
       "    <tr>\n",
       "      <th>2024-08-01</th>\n",
       "      <td>38.39</td>\n",
       "      <td>34.25</td>\n",
       "      <td>22.17</td>\n",
       "      <td>42.49</td>\n",
       "      <td>34.38</td>\n",
       "      <td>50.38</td>\n",
       "      <td>45.83</td>\n",
       "      <td>30.09</td>\n",
       "    </tr>\n",
       "    <tr>\n",
       "      <th>2024-09-01</th>\n",
       "      <td>38.60</td>\n",
       "      <td>34.33</td>\n",
       "      <td>22.19</td>\n",
       "      <td>42.77</td>\n",
       "      <td>34.52</td>\n",
       "      <td>50.47</td>\n",
       "      <td>45.87</td>\n",
       "      <td>30.12</td>\n",
       "    </tr>\n",
       "    <tr>\n",
       "      <th>2024-10-01</th>\n",
       "      <td>38.72</td>\n",
       "      <td>34.42</td>\n",
       "      <td>22.23</td>\n",
       "      <td>43.01</td>\n",
       "      <td>34.55</td>\n",
       "      <td>51.19</td>\n",
       "      <td>46.10</td>\n",
       "      <td>30.26</td>\n",
       "    </tr>\n",
       "  </tbody>\n",
       "</table>\n",
       "<p>70 rows × 8 columns</p>\n",
       "</div>"
      ],
      "text/plain": [
       "            CES2000000003  CES3000000003  CES7000000003  CES6000000003  \\\n",
       "2019-01-01          30.34          27.28          16.28          33.07   \n",
       "2019-02-01          30.43          27.46          16.40          33.25   \n",
       "2019-03-01          30.53          27.50          16.43          33.36   \n",
       "2019-04-01          30.63          27.47          16.47          33.41   \n",
       "2019-05-01          30.69          27.58          16.51          33.50   \n",
       "...                   ...            ...            ...            ...   \n",
       "2024-06-01          38.11          34.04          22.06          42.15   \n",
       "2024-07-01          38.26          34.14          22.14          42.25   \n",
       "2024-08-01          38.39          34.25          22.17          42.49   \n",
       "2024-09-01          38.60          34.33          22.19          42.77   \n",
       "2024-10-01          38.72          34.42          22.23          43.01   \n",
       "\n",
       "            CES6500000003  CES5000000003  CES5500000003  CES4000000003  \n",
       "2019-01-01          27.44          41.71          35.42          23.81  \n",
       "2019-02-01          27.52          41.73          35.49          23.93  \n",
       "2019-03-01          27.60          42.08          35.55          24.04  \n",
       "2019-04-01          27.40          41.82          35.69          24.00  \n",
       "2019-05-01          27.40          41.98          35.78          24.08  \n",
       "...                   ...            ...            ...            ...  \n",
       "2024-06-01          34.18          49.57          45.45          29.93  \n",
       "2024-07-01          34.28          49.80          45.58          29.97  \n",
       "2024-08-01          34.38          50.38          45.83          30.09  \n",
       "2024-09-01          34.52          50.47          45.87          30.12  \n",
       "2024-10-01          34.55          51.19          46.10          30.26  \n",
       "\n",
       "[70 rows x 8 columns]"
      ]
     },
     "execution_count": 46,
     "metadata": {},
     "output_type": "execute_result"
    }
   ],
   "source": [
    "hourly_earnings_df = pd.concat(all_results, axis=1).dropna()\n",
    "hourly_earnings_df\n",
    "# here, we add all the columns in the list side by side"
   ]
  },
  {
   "cell_type": "code",
   "execution_count": 47,
   "metadata": {},
   "outputs": [
    {
     "name": "stdout",
     "output_type": "stream",
     "text": [
      "No NaN values detected\n"
     ]
    }
   ],
   "source": [
    "if (hourly_earnings_df.isna().sum(axis=1) > 0).any():\n",
    "    print('NaN values detected')\n",
    "else:\n",
    "    print('No NaN values detected')"
   ]
  },
  {
   "cell_type": "code",
   "execution_count": 48,
   "metadata": {},
   "outputs": [],
   "source": [
    "label_names = {\n",
    "    'CES2000000003': 'Construction',\n",
    "    'CES3000000003': 'Manufacturing',\n",
    "    'CES7000000003': 'Leisure & Hospitality',\n",
    "    'CES6000000003': 'Professional & Business Services',\n",
    "    'CES6500000003': 'Education & Health',\n",
    "    'CES5000000003': 'Information',\n",
    "    'CES5500000003': 'Financial Activities', \n",
    "    'CES4000000003': 'Trade, Transport & Utilities'\n",
    "    \n",
    "}"
   ]
  },
  {
   "cell_type": "code",
   "execution_count": 50,
   "metadata": {},
   "outputs": [
    {
     "data": {
      "image/png": "[encoded data removed]",
      "text/plain": [
       "<Figure size 1080x660 with 1 Axes>"
      ]
     },
     "metadata": {},
     "output_type": "display_data"
    }
   ],
   "source": [
    "plt.figure(figsize=(10.8, 6.6))\n",
    "sns.lineplot(hourly_earnings_df, dashes = False)\n",
    "sns.set_theme(style='ticks')\n",
    "sns.despine()\n",
    "\n",
    "plt.title('Trend in Average Hourly Earnings by Sector from 2019 to 2024', fontsize=18, y=1.03)\n",
    "plt.ylabel('Average Hourly Earnings')\n",
    "plt.legend().set_visible(False)\n",
    "\n",
    "ax= plt.gca()\n",
    "ax.yaxis.set_major_formatter(plt.FuncFormatter(lambda y, pos: f'${int(y)}'))\n",
    "\n",
    "for i, k in enumerate(label_names):\n",
    "    offset=0  \n",
    "    y_val = hourly_earnings_df.iloc[-1, i]\n",
    "    x_val = hourly_earnings_df.index[-1] \n",
    "    x_pos= x_val + pd.Timedelta(days=80)  \n",
    "    \n",
    "    if i == 1: \n",
    "        offset = 1.2\n",
    "        y_val = hourly_earnings_df.iloc[-1, i] - offset\n",
    "    elif i ==4:\n",
    "        offset =0.5\n",
    "        y_val = hourly_earnings_df.iloc[-1, i] + offset\n",
    "\n",
    "    plt.text(x_pos, y_val, label_names[k], fontsize=12)\n",
    "# Label assignment and separation\n",
    "\n",
    "plt.tight_layout()\n"
   ]
  },
  {
   "cell_type": "markdown",
   "metadata": {},
   "source": [
    "## Calculate sectors with the biggest change in average hourly earnings from 2014 to 2024 (as percentage increase)"
   ]
  },
  {
   "cell_type": "code",
   "execution_count": 79,
   "metadata": {},
   "outputs": [
    {
     "data": {
      "text/html": [
       "<div>\n",
       "<style scoped>\n",
       "    .dataframe tbody tr th:only-of-type {\n",
       "        vertical-align: middle;\n",
       "    }\n",
       "\n",
       "    .dataframe tbody tr th {\n",
       "        vertical-align: top;\n",
       "    }\n",
       "\n",
       "    .dataframe thead th {\n",
       "        text-align: right;\n",
       "    }\n",
       "</style>\n",
       "<table border=\"1\" class=\"dataframe\">\n",
       "  <thead>\n",
       "    <tr style=\"text-align: right;\">\n",
       "      <th></th>\n",
       "      <th>CES2000000003</th>\n",
       "      <th>CES3000000003</th>\n",
       "      <th>CES7000000003</th>\n",
       "      <th>CES6000000003</th>\n",
       "      <th>CES6500000003</th>\n",
       "      <th>CES5000000003</th>\n",
       "      <th>CES5500000003</th>\n",
       "      <th>CES4000000003</th>\n",
       "    </tr>\n",
       "  </thead>\n",
       "  <tbody>\n",
       "    <tr>\n",
       "      <th>2019-01-01</th>\n",
       "      <td>30.34</td>\n",
       "      <td>27.28</td>\n",
       "      <td>16.28</td>\n",
       "      <td>33.07</td>\n",
       "      <td>27.44</td>\n",
       "      <td>41.71</td>\n",
       "      <td>35.42</td>\n",
       "      <td>23.81</td>\n",
       "    </tr>\n",
       "    <tr>\n",
       "      <th>2019-02-01</th>\n",
       "      <td>30.43</td>\n",
       "      <td>27.46</td>\n",
       "      <td>16.40</td>\n",
       "      <td>33.25</td>\n",
       "      <td>27.52</td>\n",
       "      <td>41.73</td>\n",
       "      <td>35.49</td>\n",
       "      <td>23.93</td>\n",
       "    </tr>\n",
       "    <tr>\n",
       "      <th>2019-03-01</th>\n",
       "      <td>30.53</td>\n",
       "      <td>27.50</td>\n",
       "      <td>16.43</td>\n",
       "      <td>33.36</td>\n",
       "      <td>27.60</td>\n",
       "      <td>42.08</td>\n",
       "      <td>35.55</td>\n",
       "      <td>24.04</td>\n",
       "    </tr>\n",
       "    <tr>\n",
       "      <th>2019-04-01</th>\n",
       "      <td>30.63</td>\n",
       "      <td>27.47</td>\n",
       "      <td>16.47</td>\n",
       "      <td>33.41</td>\n",
       "      <td>27.40</td>\n",
       "      <td>41.82</td>\n",
       "      <td>35.69</td>\n",
       "      <td>24.00</td>\n",
       "    </tr>\n",
       "    <tr>\n",
       "      <th>2019-05-01</th>\n",
       "      <td>30.69</td>\n",
       "      <td>27.58</td>\n",
       "      <td>16.51</td>\n",
       "      <td>33.50</td>\n",
       "      <td>27.40</td>\n",
       "      <td>41.98</td>\n",
       "      <td>35.78</td>\n",
       "      <td>24.08</td>\n",
       "    </tr>\n",
       "    <tr>\n",
       "      <th>...</th>\n",
       "      <td>...</td>\n",
       "      <td>...</td>\n",
       "      <td>...</td>\n",
       "      <td>...</td>\n",
       "      <td>...</td>\n",
       "      <td>...</td>\n",
       "      <td>...</td>\n",
       "      <td>...</td>\n",
       "    </tr>\n",
       "    <tr>\n",
       "      <th>2024-06-01</th>\n",
       "      <td>38.11</td>\n",
       "      <td>34.04</td>\n",
       "      <td>22.06</td>\n",
       "      <td>42.15</td>\n",
       "      <td>34.18</td>\n",
       "      <td>49.57</td>\n",
       "      <td>45.45</td>\n",
       "      <td>29.93</td>\n",
       "    </tr>\n",
       "    <tr>\n",
       "      <th>2024-07-01</th>\n",
       "      <td>38.26</td>\n",
       "      <td>34.14</td>\n",
       "      <td>22.14</td>\n",
       "      <td>42.25</td>\n",
       "      <td>34.28</td>\n",
       "      <td>49.80</td>\n",
       "      <td>45.58</td>\n",
       "      <td>29.97</td>\n",
       "    </tr>\n",
       "    <tr>\n",
       "      <th>2024-08-01</th>\n",
       "      <td>38.39</td>\n",
       "      <td>34.25</td>\n",
       "      <td>22.17</td>\n",
       "      <td>42.49</td>\n",
       "      <td>34.38</td>\n",
       "      <td>50.38</td>\n",
       "      <td>45.83</td>\n",
       "      <td>30.09</td>\n",
       "    </tr>\n",
       "    <tr>\n",
       "      <th>2024-09-01</th>\n",
       "      <td>38.60</td>\n",
       "      <td>34.33</td>\n",
       "      <td>22.19</td>\n",
       "      <td>42.77</td>\n",
       "      <td>34.52</td>\n",
       "      <td>50.47</td>\n",
       "      <td>45.87</td>\n",
       "      <td>30.12</td>\n",
       "    </tr>\n",
       "    <tr>\n",
       "      <th>2024-10-01</th>\n",
       "      <td>38.72</td>\n",
       "      <td>34.42</td>\n",
       "      <td>22.23</td>\n",
       "      <td>43.01</td>\n",
       "      <td>34.55</td>\n",
       "      <td>51.19</td>\n",
       "      <td>46.10</td>\n",
       "      <td>30.26</td>\n",
       "    </tr>\n",
       "  </tbody>\n",
       "</table>\n",
       "<p>70 rows × 8 columns</p>\n",
       "</div>"
      ],
      "text/plain": [
       "            CES2000000003  CES3000000003  CES7000000003  CES6000000003  \\\n",
       "2019-01-01          30.34          27.28          16.28          33.07   \n",
       "2019-02-01          30.43          27.46          16.40          33.25   \n",
       "2019-03-01          30.53          27.50          16.43          33.36   \n",
       "2019-04-01          30.63          27.47          16.47          33.41   \n",
       "2019-05-01          30.69          27.58          16.51          33.50   \n",
       "...                   ...            ...            ...            ...   \n",
       "2024-06-01          38.11          34.04          22.06          42.15   \n",
       "2024-07-01          38.26          34.14          22.14          42.25   \n",
       "2024-08-01          38.39          34.25          22.17          42.49   \n",
       "2024-09-01          38.60          34.33          22.19          42.77   \n",
       "2024-10-01          38.72          34.42          22.23          43.01   \n",
       "\n",
       "            CES6500000003  CES5000000003  CES5500000003  CES4000000003  \n",
       "2019-01-01          27.44          41.71          35.42          23.81  \n",
       "2019-02-01          27.52          41.73          35.49          23.93  \n",
       "2019-03-01          27.60          42.08          35.55          24.04  \n",
       "2019-04-01          27.40          41.82          35.69          24.00  \n",
       "2019-05-01          27.40          41.98          35.78          24.08  \n",
       "...                   ...            ...            ...            ...  \n",
       "2024-06-01          34.18          49.57          45.45          29.93  \n",
       "2024-07-01          34.28          49.80          45.58          29.97  \n",
       "2024-08-01          34.38          50.38          45.83          30.09  \n",
       "2024-09-01          34.52          50.47          45.87          30.12  \n",
       "2024-10-01          34.55          51.19          46.10          30.26  \n",
       "\n",
       "[70 rows x 8 columns]"
      ]
     },
     "execution_count": 79,
     "metadata": {},
     "output_type": "execute_result"
    }
   ],
   "source": [
    "change_in_earning_yr = hourly_earnings_df.copy()\n",
    "change_in_earning_yr"
   ]
  },
  {
   "cell_type": "code",
   "execution_count": 67,
   "metadata": {},
   "outputs": [
    {
     "data": {
      "text/html": [
       "<div>\n",
       "<style scoped>\n",
       "    .dataframe tbody tr th:only-of-type {\n",
       "        vertical-align: middle;\n",
       "    }\n",
       "\n",
       "    .dataframe tbody tr th {\n",
       "        vertical-align: top;\n",
       "    }\n",
       "\n",
       "    .dataframe thead th {\n",
       "        text-align: right;\n",
       "    }\n",
       "</style>\n",
       "<table border=\"1\" class=\"dataframe\">\n",
       "  <thead>\n",
       "    <tr style=\"text-align: right;\">\n",
       "      <th></th>\n",
       "      <th>CES2000000003</th>\n",
       "      <th>CES3000000003</th>\n",
       "      <th>CES7000000003</th>\n",
       "      <th>CES6000000003</th>\n",
       "      <th>CES6500000003</th>\n",
       "      <th>CES5000000003</th>\n",
       "      <th>CES5500000003</th>\n",
       "      <th>CES4000000003</th>\n",
       "    </tr>\n",
       "  </thead>\n",
       "  <tbody>\n",
       "    <tr>\n",
       "      <th>2024-01-01</th>\n",
       "      <td>37.60</td>\n",
       "      <td>33.35</td>\n",
       "      <td>21.67</td>\n",
       "      <td>41.43</td>\n",
       "      <td>33.78</td>\n",
       "      <td>49.14</td>\n",
       "      <td>44.78</td>\n",
       "      <td>29.72</td>\n",
       "    </tr>\n",
       "    <tr>\n",
       "      <th>2024-02-01</th>\n",
       "      <td>37.57</td>\n",
       "      <td>33.44</td>\n",
       "      <td>21.77</td>\n",
       "      <td>41.50</td>\n",
       "      <td>33.83</td>\n",
       "      <td>49.17</td>\n",
       "      <td>44.95</td>\n",
       "      <td>29.75</td>\n",
       "    </tr>\n",
       "    <tr>\n",
       "      <th>2024-03-01</th>\n",
       "      <td>37.79</td>\n",
       "      <td>33.65</td>\n",
       "      <td>21.90</td>\n",
       "      <td>41.67</td>\n",
       "      <td>33.88</td>\n",
       "      <td>49.33</td>\n",
       "      <td>45.10</td>\n",
       "      <td>29.83</td>\n",
       "    </tr>\n",
       "    <tr>\n",
       "      <th>2024-04-01</th>\n",
       "      <td>37.98</td>\n",
       "      <td>33.66</td>\n",
       "      <td>21.92</td>\n",
       "      <td>41.81</td>\n",
       "      <td>33.92</td>\n",
       "      <td>49.17</td>\n",
       "      <td>45.24</td>\n",
       "      <td>29.84</td>\n",
       "    </tr>\n",
       "    <tr>\n",
       "      <th>2024-05-01</th>\n",
       "      <td>38.02</td>\n",
       "      <td>33.83</td>\n",
       "      <td>22.00</td>\n",
       "      <td>41.97</td>\n",
       "      <td>34.07</td>\n",
       "      <td>49.39</td>\n",
       "      <td>45.44</td>\n",
       "      <td>29.92</td>\n",
       "    </tr>\n",
       "    <tr>\n",
       "      <th>2024-06-01</th>\n",
       "      <td>38.11</td>\n",
       "      <td>34.04</td>\n",
       "      <td>22.06</td>\n",
       "      <td>42.15</td>\n",
       "      <td>34.18</td>\n",
       "      <td>49.57</td>\n",
       "      <td>45.45</td>\n",
       "      <td>29.93</td>\n",
       "    </tr>\n",
       "    <tr>\n",
       "      <th>2024-07-01</th>\n",
       "      <td>38.26</td>\n",
       "      <td>34.14</td>\n",
       "      <td>22.14</td>\n",
       "      <td>42.25</td>\n",
       "      <td>34.28</td>\n",
       "      <td>49.80</td>\n",
       "      <td>45.58</td>\n",
       "      <td>29.97</td>\n",
       "    </tr>\n",
       "    <tr>\n",
       "      <th>2024-08-01</th>\n",
       "      <td>38.39</td>\n",
       "      <td>34.25</td>\n",
       "      <td>22.17</td>\n",
       "      <td>42.49</td>\n",
       "      <td>34.38</td>\n",
       "      <td>50.38</td>\n",
       "      <td>45.83</td>\n",
       "      <td>30.09</td>\n",
       "    </tr>\n",
       "    <tr>\n",
       "      <th>2024-09-01</th>\n",
       "      <td>38.60</td>\n",
       "      <td>34.33</td>\n",
       "      <td>22.19</td>\n",
       "      <td>42.77</td>\n",
       "      <td>34.52</td>\n",
       "      <td>50.47</td>\n",
       "      <td>45.87</td>\n",
       "      <td>30.12</td>\n",
       "    </tr>\n",
       "  </tbody>\n",
       "</table>\n",
       "</div>"
      ],
      "text/plain": [
       "            CES2000000003  CES3000000003  CES7000000003  CES6000000003  \\\n",
       "2024-01-01          37.60          33.35          21.67          41.43   \n",
       "2024-02-01          37.57          33.44          21.77          41.50   \n",
       "2024-03-01          37.79          33.65          21.90          41.67   \n",
       "2024-04-01          37.98          33.66          21.92          41.81   \n",
       "2024-05-01          38.02          33.83          22.00          41.97   \n",
       "2024-06-01          38.11          34.04          22.06          42.15   \n",
       "2024-07-01          38.26          34.14          22.14          42.25   \n",
       "2024-08-01          38.39          34.25          22.17          42.49   \n",
       "2024-09-01          38.60          34.33          22.19          42.77   \n",
       "\n",
       "            CES6500000003  CES5000000003  CES5500000003  CES4000000003  \n",
       "2024-01-01          33.78          49.14          44.78          29.72  \n",
       "2024-02-01          33.83          49.17          44.95          29.75  \n",
       "2024-03-01          33.88          49.33          45.10          29.83  \n",
       "2024-04-01          33.92          49.17          45.24          29.84  \n",
       "2024-05-01          34.07          49.39          45.44          29.92  \n",
       "2024-06-01          34.18          49.57          45.45          29.93  \n",
       "2024-07-01          34.28          49.80          45.58          29.97  \n",
       "2024-08-01          34.38          50.38          45.83          30.09  \n",
       "2024-09-01          34.52          50.47          45.87          30.12  "
      ]
     },
     "execution_count": 67,
     "metadata": {},
     "output_type": "execute_result"
    }
   ],
   "source": [
    "change_in_earning_yr.iloc[60:69]"
   ]
  },
  {
   "cell_type": "code",
   "execution_count": 80,
   "metadata": {},
   "outputs": [
    {
     "data": {
      "text/html": [
       "<div>\n",
       "<style scoped>\n",
       "    .dataframe tbody tr th:only-of-type {\n",
       "        vertical-align: middle;\n",
       "    }\n",
       "\n",
       "    .dataframe tbody tr th {\n",
       "        vertical-align: top;\n",
       "    }\n",
       "\n",
       "    .dataframe thead th {\n",
       "        text-align: right;\n",
       "    }\n",
       "</style>\n",
       "<table border=\"1\" class=\"dataframe\">\n",
       "  <thead>\n",
       "    <tr style=\"text-align: right;\">\n",
       "      <th></th>\n",
       "      <th>CES2000000003</th>\n",
       "      <th>CES3000000003</th>\n",
       "      <th>CES7000000003</th>\n",
       "      <th>CES6000000003</th>\n",
       "      <th>CES6500000003</th>\n",
       "      <th>CES5000000003</th>\n",
       "      <th>CES5500000003</th>\n",
       "      <th>CES4000000003</th>\n",
       "    </tr>\n",
       "  </thead>\n",
       "  <tbody>\n",
       "    <tr>\n",
       "      <th>2019-01-01 00:00:00</th>\n",
       "      <td>30.340000</td>\n",
       "      <td>27.280000</td>\n",
       "      <td>16.280000</td>\n",
       "      <td>33.070000</td>\n",
       "      <td>27.440000</td>\n",
       "      <td>41.710000</td>\n",
       "      <td>35.420000</td>\n",
       "      <td>23.810000</td>\n",
       "    </tr>\n",
       "    <tr>\n",
       "      <th>2019-02-01 00:00:00</th>\n",
       "      <td>30.430000</td>\n",
       "      <td>27.460000</td>\n",
       "      <td>16.400000</td>\n",
       "      <td>33.250000</td>\n",
       "      <td>27.520000</td>\n",
       "      <td>41.730000</td>\n",
       "      <td>35.490000</td>\n",
       "      <td>23.930000</td>\n",
       "    </tr>\n",
       "    <tr>\n",
       "      <th>2019-03-01 00:00:00</th>\n",
       "      <td>30.530000</td>\n",
       "      <td>27.500000</td>\n",
       "      <td>16.430000</td>\n",
       "      <td>33.360000</td>\n",
       "      <td>27.600000</td>\n",
       "      <td>42.080000</td>\n",
       "      <td>35.550000</td>\n",
       "      <td>24.040000</td>\n",
       "    </tr>\n",
       "    <tr>\n",
       "      <th>2019-04-01 00:00:00</th>\n",
       "      <td>30.630000</td>\n",
       "      <td>27.470000</td>\n",
       "      <td>16.470000</td>\n",
       "      <td>33.410000</td>\n",
       "      <td>27.400000</td>\n",
       "      <td>41.820000</td>\n",
       "      <td>35.690000</td>\n",
       "      <td>24.000000</td>\n",
       "    </tr>\n",
       "    <tr>\n",
       "      <th>2019-05-01 00:00:00</th>\n",
       "      <td>30.690000</td>\n",
       "      <td>27.580000</td>\n",
       "      <td>16.510000</td>\n",
       "      <td>33.500000</td>\n",
       "      <td>27.400000</td>\n",
       "      <td>41.980000</td>\n",
       "      <td>35.780000</td>\n",
       "      <td>24.080000</td>\n",
       "    </tr>\n",
       "    <tr>\n",
       "      <th>...</th>\n",
       "      <td>...</td>\n",
       "      <td>...</td>\n",
       "      <td>...</td>\n",
       "      <td>...</td>\n",
       "      <td>...</td>\n",
       "      <td>...</td>\n",
       "      <td>...</td>\n",
       "      <td>...</td>\n",
       "    </tr>\n",
       "    <tr>\n",
       "      <th>2024-09-01 00:00:00</th>\n",
       "      <td>38.600000</td>\n",
       "      <td>34.330000</td>\n",
       "      <td>22.190000</td>\n",
       "      <td>42.770000</td>\n",
       "      <td>34.520000</td>\n",
       "      <td>50.470000</td>\n",
       "      <td>45.870000</td>\n",
       "      <td>30.120000</td>\n",
       "    </tr>\n",
       "    <tr>\n",
       "      <th>2024-10-01 00:00:00</th>\n",
       "      <td>38.720000</td>\n",
       "      <td>34.420000</td>\n",
       "      <td>22.230000</td>\n",
       "      <td>43.010000</td>\n",
       "      <td>34.550000</td>\n",
       "      <td>51.190000</td>\n",
       "      <td>46.100000</td>\n",
       "      <td>30.260000</td>\n",
       "    </tr>\n",
       "    <tr>\n",
       "      <th>2019_avg</th>\n",
       "      <td>30.756667</td>\n",
       "      <td>27.701667</td>\n",
       "      <td>16.558333</td>\n",
       "      <td>33.683333</td>\n",
       "      <td>27.627500</td>\n",
       "      <td>42.199167</td>\n",
       "      <td>35.912500</td>\n",
       "      <td>24.200833</td>\n",
       "    </tr>\n",
       "    <tr>\n",
       "      <th>2024_avg</th>\n",
       "      <td>38.104000</td>\n",
       "      <td>33.911000</td>\n",
       "      <td>22.005000</td>\n",
       "      <td>42.105000</td>\n",
       "      <td>34.139000</td>\n",
       "      <td>49.761000</td>\n",
       "      <td>45.434000</td>\n",
       "      <td>29.943000</td>\n",
       "    </tr>\n",
       "    <tr>\n",
       "      <th>percent diff</th>\n",
       "      <td>23.888588</td>\n",
       "      <td>22.415017</td>\n",
       "      <td>32.893810</td>\n",
       "      <td>25.002474</td>\n",
       "      <td>23.568908</td>\n",
       "      <td>17.919390</td>\n",
       "      <td>26.513053</td>\n",
       "      <td>23.727144</td>\n",
       "    </tr>\n",
       "  </tbody>\n",
       "</table>\n",
       "<p>73 rows × 8 columns</p>\n",
       "</div>"
      ],
      "text/plain": [
       "                     CES2000000003  CES3000000003  CES7000000003  \\\n",
       "2019-01-01 00:00:00      30.340000      27.280000      16.280000   \n",
       "2019-02-01 00:00:00      30.430000      27.460000      16.400000   \n",
       "2019-03-01 00:00:00      30.530000      27.500000      16.430000   \n",
       "2019-04-01 00:00:00      30.630000      27.470000      16.470000   \n",
       "2019-05-01 00:00:00      30.690000      27.580000      16.510000   \n",
       "...                            ...            ...            ...   \n",
       "2024-09-01 00:00:00      38.600000      34.330000      22.190000   \n",
       "2024-10-01 00:00:00      38.720000      34.420000      22.230000   \n",
       "2019_avg                 30.756667      27.701667      16.558333   \n",
       "2024_avg                 38.104000      33.911000      22.005000   \n",
       "percent diff             23.888588      22.415017      32.893810   \n",
       "\n",
       "                     CES6000000003  CES6500000003  CES5000000003  \\\n",
       "2019-01-01 00:00:00      33.070000      27.440000      41.710000   \n",
       "2019-02-01 00:00:00      33.250000      27.520000      41.730000   \n",
       "2019-03-01 00:00:00      33.360000      27.600000      42.080000   \n",
       "2019-04-01 00:00:00      33.410000      27.400000      41.820000   \n",
       "2019-05-01 00:00:00      33.500000      27.400000      41.980000   \n",
       "...                            ...            ...            ...   \n",
       "2024-09-01 00:00:00      42.770000      34.520000      50.470000   \n",
       "2024-10-01 00:00:00      43.010000      34.550000      51.190000   \n",
       "2019_avg                 33.683333      27.627500      42.199167   \n",
       "2024_avg                 42.105000      34.139000      49.761000   \n",
       "percent diff             25.002474      23.568908      17.919390   \n",
       "\n",
       "                     CES5500000003  CES4000000003  \n",
       "2019-01-01 00:00:00      35.420000      23.810000  \n",
       "2019-02-01 00:00:00      35.490000      23.930000  \n",
       "2019-03-01 00:00:00      35.550000      24.040000  \n",
       "2019-04-01 00:00:00      35.690000      24.000000  \n",
       "2019-05-01 00:00:00      35.780000      24.080000  \n",
       "...                            ...            ...  \n",
       "2024-09-01 00:00:00      45.870000      30.120000  \n",
       "2024-10-01 00:00:00      46.100000      30.260000  \n",
       "2019_avg                 35.912500      24.200833  \n",
       "2024_avg                 45.434000      29.943000  \n",
       "percent diff             26.513053      23.727144  \n",
       "\n",
       "[73 rows x 8 columns]"
      ]
     },
     "execution_count": 80,
     "metadata": {},
     "output_type": "execute_result"
    }
   ],
   "source": [
    "change_in_earning_yr.loc['2019_avg'] = (change_in_earning_yr.iloc[0:12].sum()/12)\n",
    "change_in_earning_yr.loc['2024_avg'] = (change_in_earning_yr.iloc[60:70].sum()/10)\n",
    "change_in_earning_yr.loc['percent diff'] = ((change_in_earning_yr.loc['2024_avg'] - change_in_earning_yr.loc['2019_avg']) / change_in_earning_yr.loc['2019_avg']) * 100\n",
    "\n",
    "change_in_earning_yr"
   ]
  },
  {
   "cell_type": "code",
   "execution_count": 81,
   "metadata": {},
   "outputs": [
    {
     "data": {
      "text/html": [
       "<div>\n",
       "<style scoped>\n",
       "    .dataframe tbody tr th:only-of-type {\n",
       "        vertical-align: middle;\n",
       "    }\n",
       "\n",
       "    .dataframe tbody tr th {\n",
       "        vertical-align: top;\n",
       "    }\n",
       "\n",
       "    .dataframe thead th {\n",
       "        text-align: right;\n",
       "    }\n",
       "</style>\n",
       "<table border=\"1\" class=\"dataframe\">\n",
       "  <thead>\n",
       "    <tr style=\"text-align: right;\">\n",
       "      <th></th>\n",
       "      <th>index</th>\n",
       "      <th>percent diff</th>\n",
       "    </tr>\n",
       "  </thead>\n",
       "  <tbody>\n",
       "    <tr>\n",
       "      <th>0</th>\n",
       "      <td>CES7000000003</td>\n",
       "      <td>32.893810</td>\n",
       "    </tr>\n",
       "    <tr>\n",
       "      <th>1</th>\n",
       "      <td>CES5500000003</td>\n",
       "      <td>26.513053</td>\n",
       "    </tr>\n",
       "    <tr>\n",
       "      <th>2</th>\n",
       "      <td>CES6000000003</td>\n",
       "      <td>25.002474</td>\n",
       "    </tr>\n",
       "    <tr>\n",
       "      <th>3</th>\n",
       "      <td>CES2000000003</td>\n",
       "      <td>23.888588</td>\n",
       "    </tr>\n",
       "    <tr>\n",
       "      <th>4</th>\n",
       "      <td>CES4000000003</td>\n",
       "      <td>23.727144</td>\n",
       "    </tr>\n",
       "    <tr>\n",
       "      <th>5</th>\n",
       "      <td>CES6500000003</td>\n",
       "      <td>23.568908</td>\n",
       "    </tr>\n",
       "    <tr>\n",
       "      <th>6</th>\n",
       "      <td>CES3000000003</td>\n",
       "      <td>22.415017</td>\n",
       "    </tr>\n",
       "    <tr>\n",
       "      <th>7</th>\n",
       "      <td>CES5000000003</td>\n",
       "      <td>17.919390</td>\n",
       "    </tr>\n",
       "  </tbody>\n",
       "</table>\n",
       "</div>"
      ],
      "text/plain": [
       "           index  percent diff\n",
       "0  CES7000000003     32.893810\n",
       "1  CES5500000003     26.513053\n",
       "2  CES6000000003     25.002474\n",
       "3  CES2000000003     23.888588\n",
       "4  CES4000000003     23.727144\n",
       "5  CES6500000003     23.568908\n",
       "6  CES3000000003     22.415017\n",
       "7  CES5000000003     17.919390"
      ]
     },
     "execution_count": 81,
     "metadata": {},
     "output_type": "execute_result"
    }
   ],
   "source": [
    "diff_hrly_earnings = change_in_earning_yr.loc['percent diff'].sort_values(ascending=False)\n",
    "diff_hrly_earnings = diff_hrly_earnings.to_frame(name='percent diff')\n",
    "diff_hrly_earnings.reset_index(inplace=True)\n",
    "\n",
    "diff_hrly_earnings"
   ]
  },
  {
   "cell_type": "code",
   "execution_count": 82,
   "metadata": {},
   "outputs": [],
   "source": [
    "label_ordered = {\n",
    "    'CES7000000003': 'Leisure & Hospitality',\n",
    "    'CES5500000003': 'Financial Activities', \n",
    "    'CES5000000003': 'Information',\n",
    "    'CES6000000003': 'Professional & Business Services',\n",
    "    'CES2000000003': 'Construction',\n",
    "    'CES4000000003': 'Trade, Transport & Utilities',\n",
    "    'CES6500000003': 'Education & Health',\n",
    "    'CES3000000003': 'Manufacturing',\n",
    "    \n",
    "}"
   ]
  },
  {
   "cell_type": "code",
   "execution_count": 83,
   "metadata": {},
   "outputs": [
    {
     "data": {
      "text/html": [
       "<div>\n",
       "<style scoped>\n",
       "    .dataframe tbody tr th:only-of-type {\n",
       "        vertical-align: middle;\n",
       "    }\n",
       "\n",
       "    .dataframe tbody tr th {\n",
       "        vertical-align: top;\n",
       "    }\n",
       "\n",
       "    .dataframe thead th {\n",
       "        text-align: right;\n",
       "    }\n",
       "</style>\n",
       "<table border=\"1\" class=\"dataframe\">\n",
       "  <thead>\n",
       "    <tr style=\"text-align: right;\">\n",
       "      <th></th>\n",
       "      <th>index</th>\n",
       "      <th>percent diff</th>\n",
       "      <th>sector</th>\n",
       "    </tr>\n",
       "  </thead>\n",
       "  <tbody>\n",
       "    <tr>\n",
       "      <th>0</th>\n",
       "      <td>CES7000000003</td>\n",
       "      <td>32.893810</td>\n",
       "      <td>Leisure &amp; Hospitality</td>\n",
       "    </tr>\n",
       "    <tr>\n",
       "      <th>1</th>\n",
       "      <td>CES5500000003</td>\n",
       "      <td>26.513053</td>\n",
       "      <td>Financial Activities</td>\n",
       "    </tr>\n",
       "    <tr>\n",
       "      <th>2</th>\n",
       "      <td>CES6000000003</td>\n",
       "      <td>25.002474</td>\n",
       "      <td>Professional &amp; Business Services</td>\n",
       "    </tr>\n",
       "    <tr>\n",
       "      <th>3</th>\n",
       "      <td>CES2000000003</td>\n",
       "      <td>23.888588</td>\n",
       "      <td>Construction</td>\n",
       "    </tr>\n",
       "    <tr>\n",
       "      <th>4</th>\n",
       "      <td>CES4000000003</td>\n",
       "      <td>23.727144</td>\n",
       "      <td>Trade, Transport &amp; Utilities</td>\n",
       "    </tr>\n",
       "    <tr>\n",
       "      <th>5</th>\n",
       "      <td>CES6500000003</td>\n",
       "      <td>23.568908</td>\n",
       "      <td>Education &amp; Health</td>\n",
       "    </tr>\n",
       "    <tr>\n",
       "      <th>6</th>\n",
       "      <td>CES3000000003</td>\n",
       "      <td>22.415017</td>\n",
       "      <td>Manufacturing</td>\n",
       "    </tr>\n",
       "    <tr>\n",
       "      <th>7</th>\n",
       "      <td>CES5000000003</td>\n",
       "      <td>17.919390</td>\n",
       "      <td>Information</td>\n",
       "    </tr>\n",
       "  </tbody>\n",
       "</table>\n",
       "</div>"
      ],
      "text/plain": [
       "           index  percent diff                            sector\n",
       "0  CES7000000003     32.893810             Leisure & Hospitality\n",
       "1  CES5500000003     26.513053              Financial Activities\n",
       "2  CES6000000003     25.002474  Professional & Business Services\n",
       "3  CES2000000003     23.888588                      Construction\n",
       "4  CES4000000003     23.727144      Trade, Transport & Utilities\n",
       "5  CES6500000003     23.568908                Education & Health\n",
       "6  CES3000000003     22.415017                     Manufacturing\n",
       "7  CES5000000003     17.919390                       Information"
      ]
     },
     "execution_count": 83,
     "metadata": {},
     "output_type": "execute_result"
    }
   ],
   "source": [
    "diff_hrly_earnings['sector'] = diff_hrly_earnings['index'].map(label_ordered)\n",
    "diff_hrly_earnings"
   ]
  },
  {
   "cell_type": "code",
   "execution_count": 93,
   "metadata": {},
   "outputs": [
    {
     "data": {
      "image/png": "[encoded data removed]",
      "text/plain": [
       "<Figure size 1050x680 with 1 Axes>"
      ]
     },
     "metadata": {},
     "output_type": "display_data"
    }
   ],
   "source": [
    "plt.figure(figsize=(10.5, 6.8))\n",
    "\n",
    "sns.barplot(diff_hrly_earnings, x='percent diff', y='sector', width=0.65, hue='percent diff', palette='dark:b_r')\n",
    "sns.set_theme(style='ticks')\n",
    "sns.despine()\n",
    "\n",
    "plt.title('Percentage Increase in Sector-Specific Average Hourly Earnings from 2019 to 2024', fontsize = 17, y=1.02)\n",
    "plt.xlabel('Percentage Increase', fontsize=12)\n",
    "plt.ylabel('')\n",
    "plt.legend().set_visible(False)\n",
    "# plt.xticks(range(0,19,1))\n",
    "\n",
    "ax= plt.gca()\n",
    "ax.xaxis.set_major_formatter(plt.FuncFormatter(lambda x, pos: f'{int(x)}%'))\n",
    "\n",
    "plt.tight_layout()"
   ]
  },
  {
   "cell_type": "markdown",
   "metadata": {},
   "source": [
    "## Is wage growth keeping pace with inflation, allowing workers to maintain purchasing power?"
   ]
  },
  {
   "cell_type": "markdown",
   "metadata": {},
   "source": [
    "- Here, I am going to calculate Year-on-Year growth rates.\n",
    "Here, I wont be using sector specific wages, but the average hourly earning"
   ]
  },
  {
   "cell_type": "code",
   "execution_count": 103,
   "metadata": {},
   "outputs": [
    {
     "data": {
      "text/plain": [
       "2018-01-01    26.73\n",
       "2018-02-01    26.75\n",
       "2018-03-01    26.86\n",
       "2018-04-01    26.91\n",
       "2018-05-01    26.98\n",
       "              ...  \n",
       "2024-06-01    34.99\n",
       "2024-07-01    35.07\n",
       "2024-08-01    35.22\n",
       "2024-09-01    35.33\n",
       "2024-10-01    35.46\n",
       "Length: 82, dtype: float64"
      ]
     },
     "execution_count": 103,
     "metadata": {},
     "output_type": "execute_result"
    }
   ],
   "source": [
    "avg_earnings = fred.get_series('CES0500000003',  observation_start='2018-01-01', observation_end='2024-10-01')\n",
    "avg_earnings"
   ]
  },
  {
   "cell_type": "code",
   "execution_count": 104,
   "metadata": {},
   "outputs": [
    {
     "name": "stdout",
     "output_type": "stream",
     "text": [
      "<class 'pandas.core.series.Series'>\n",
      "DatetimeIndex: 82 entries, 2018-01-01 to 2024-10-01\n",
      "Series name: None\n",
      "Non-Null Count  Dtype  \n",
      "--------------  -----  \n",
      "82 non-null     float64\n",
      "dtypes: float64(1)\n",
      "memory usage: 1.3 KB\n"
     ]
    }
   ],
   "source": [
    "avg_earnings.info()"
   ]
  },
  {
   "cell_type": "code",
   "execution_count": 105,
   "metadata": {},
   "outputs": [
    {
     "data": {
      "text/plain": [
       "2018-01-01    248.859\n",
       "2018-02-01    249.529\n",
       "2018-03-01    249.577\n",
       "2018-04-01    250.227\n",
       "2018-05-01    250.792\n",
       "               ...   \n",
       "2024-06-01    313.049\n",
       "2024-07-01    313.534\n",
       "2024-08-01    314.121\n",
       "2024-09-01    314.686\n",
       "2024-10-01    315.454\n",
       "Length: 82, dtype: float64"
      ]
     },
     "execution_count": 105,
     "metadata": {},
     "output_type": "execute_result"
    }
   ],
   "source": [
    "CPI = fred.get_series('CPIAUCSL',  observation_start='2018-01-01', observation_end='2024-10-01')\n",
    "CPI"
   ]
  },
  {
   "cell_type": "code",
   "execution_count": 106,
   "metadata": {},
   "outputs": [
    {
     "data": {
      "text/html": [
       "<div>\n",
       "<style scoped>\n",
       "    .dataframe tbody tr th:only-of-type {\n",
       "        vertical-align: middle;\n",
       "    }\n",
       "\n",
       "    .dataframe tbody tr th {\n",
       "        vertical-align: top;\n",
       "    }\n",
       "\n",
       "    .dataframe thead th {\n",
       "        text-align: right;\n",
       "    }\n",
       "</style>\n",
       "<table border=\"1\" class=\"dataframe\">\n",
       "  <thead>\n",
       "    <tr style=\"text-align: right;\">\n",
       "      <th></th>\n",
       "      <th>0</th>\n",
       "      <th>1</th>\n",
       "    </tr>\n",
       "  </thead>\n",
       "  <tbody>\n",
       "    <tr>\n",
       "      <th>2018-01-01</th>\n",
       "      <td>26.73</td>\n",
       "      <td>248.859</td>\n",
       "    </tr>\n",
       "    <tr>\n",
       "      <th>2018-02-01</th>\n",
       "      <td>26.75</td>\n",
       "      <td>249.529</td>\n",
       "    </tr>\n",
       "    <tr>\n",
       "      <th>2018-03-01</th>\n",
       "      <td>26.86</td>\n",
       "      <td>249.577</td>\n",
       "    </tr>\n",
       "    <tr>\n",
       "      <th>2018-04-01</th>\n",
       "      <td>26.91</td>\n",
       "      <td>250.227</td>\n",
       "    </tr>\n",
       "    <tr>\n",
       "      <th>2018-05-01</th>\n",
       "      <td>26.98</td>\n",
       "      <td>250.792</td>\n",
       "    </tr>\n",
       "    <tr>\n",
       "      <th>...</th>\n",
       "      <td>...</td>\n",
       "      <td>...</td>\n",
       "    </tr>\n",
       "    <tr>\n",
       "      <th>2024-06-01</th>\n",
       "      <td>34.99</td>\n",
       "      <td>313.049</td>\n",
       "    </tr>\n",
       "    <tr>\n",
       "      <th>2024-07-01</th>\n",
       "      <td>35.07</td>\n",
       "      <td>313.534</td>\n",
       "    </tr>\n",
       "    <tr>\n",
       "      <th>2024-08-01</th>\n",
       "      <td>35.22</td>\n",
       "      <td>314.121</td>\n",
       "    </tr>\n",
       "    <tr>\n",
       "      <th>2024-09-01</th>\n",
       "      <td>35.33</td>\n",
       "      <td>314.686</td>\n",
       "    </tr>\n",
       "    <tr>\n",
       "      <th>2024-10-01</th>\n",
       "      <td>35.46</td>\n",
       "      <td>315.454</td>\n",
       "    </tr>\n",
       "  </tbody>\n",
       "</table>\n",
       "<p>82 rows × 2 columns</p>\n",
       "</div>"
      ],
      "text/plain": [
       "                0        1\n",
       "2018-01-01  26.73  248.859\n",
       "2018-02-01  26.75  249.529\n",
       "2018-03-01  26.86  249.577\n",
       "2018-04-01  26.91  250.227\n",
       "2018-05-01  26.98  250.792\n",
       "...           ...      ...\n",
       "2024-06-01  34.99  313.049\n",
       "2024-07-01  35.07  313.534\n",
       "2024-08-01  35.22  314.121\n",
       "2024-09-01  35.33  314.686\n",
       "2024-10-01  35.46  315.454\n",
       "\n",
       "[82 rows x 2 columns]"
      ]
     },
     "execution_count": 106,
     "metadata": {},
     "output_type": "execute_result"
    }
   ],
   "source": [
    "earnings_cpi_data = pd.concat([avg_earnings, CPI], axis=1, join='inner')\n",
    "earnings_cpi_data"
   ]
  },
  {
   "cell_type": "code",
   "execution_count": 107,
   "metadata": {},
   "outputs": [
    {
     "data": {
      "text/html": [
       "<div>\n",
       "<style scoped>\n",
       "    .dataframe tbody tr th:only-of-type {\n",
       "        vertical-align: middle;\n",
       "    }\n",
       "\n",
       "    .dataframe tbody tr th {\n",
       "        vertical-align: top;\n",
       "    }\n",
       "\n",
       "    .dataframe thead th {\n",
       "        text-align: right;\n",
       "    }\n",
       "</style>\n",
       "<table border=\"1\" class=\"dataframe\">\n",
       "  <thead>\n",
       "    <tr style=\"text-align: right;\">\n",
       "      <th></th>\n",
       "      <th>Average Earnings</th>\n",
       "      <th>CPI</th>\n",
       "    </tr>\n",
       "  </thead>\n",
       "  <tbody>\n",
       "    <tr>\n",
       "      <th>2018-01-01</th>\n",
       "      <td>26.73</td>\n",
       "      <td>248.859</td>\n",
       "    </tr>\n",
       "    <tr>\n",
       "      <th>2018-02-01</th>\n",
       "      <td>26.75</td>\n",
       "      <td>249.529</td>\n",
       "    </tr>\n",
       "    <tr>\n",
       "      <th>2018-03-01</th>\n",
       "      <td>26.86</td>\n",
       "      <td>249.577</td>\n",
       "    </tr>\n",
       "    <tr>\n",
       "      <th>2018-04-01</th>\n",
       "      <td>26.91</td>\n",
       "      <td>250.227</td>\n",
       "    </tr>\n",
       "    <tr>\n",
       "      <th>2018-05-01</th>\n",
       "      <td>26.98</td>\n",
       "      <td>250.792</td>\n",
       "    </tr>\n",
       "    <tr>\n",
       "      <th>...</th>\n",
       "      <td>...</td>\n",
       "      <td>...</td>\n",
       "    </tr>\n",
       "    <tr>\n",
       "      <th>2024-06-01</th>\n",
       "      <td>34.99</td>\n",
       "      <td>313.049</td>\n",
       "    </tr>\n",
       "    <tr>\n",
       "      <th>2024-07-01</th>\n",
       "      <td>35.07</td>\n",
       "      <td>313.534</td>\n",
       "    </tr>\n",
       "    <tr>\n",
       "      <th>2024-08-01</th>\n",
       "      <td>35.22</td>\n",
       "      <td>314.121</td>\n",
       "    </tr>\n",
       "    <tr>\n",
       "      <th>2024-09-01</th>\n",
       "      <td>35.33</td>\n",
       "      <td>314.686</td>\n",
       "    </tr>\n",
       "    <tr>\n",
       "      <th>2024-10-01</th>\n",
       "      <td>35.46</td>\n",
       "      <td>315.454</td>\n",
       "    </tr>\n",
       "  </tbody>\n",
       "</table>\n",
       "<p>82 rows × 2 columns</p>\n",
       "</div>"
      ],
      "text/plain": [
       "            Average Earnings      CPI\n",
       "2018-01-01             26.73  248.859\n",
       "2018-02-01             26.75  249.529\n",
       "2018-03-01             26.86  249.577\n",
       "2018-04-01             26.91  250.227\n",
       "2018-05-01             26.98  250.792\n",
       "...                      ...      ...\n",
       "2024-06-01             34.99  313.049\n",
       "2024-07-01             35.07  313.534\n",
       "2024-08-01             35.22  314.121\n",
       "2024-09-01             35.33  314.686\n",
       "2024-10-01             35.46  315.454\n",
       "\n",
       "[82 rows x 2 columns]"
      ]
     },
     "execution_count": 107,
     "metadata": {},
     "output_type": "execute_result"
    }
   ],
   "source": [
    "earnings_cpi_data = earnings_cpi_data.rename(columns={0: 'Average Earnings', 1: 'CPI'})\n",
    "earnings_cpi_data"
   ]
  },
  {
   "cell_type": "code",
   "execution_count": 108,
   "metadata": {},
   "outputs": [
    {
     "data": {
      "text/html": [
       "<div>\n",
       "<style scoped>\n",
       "    .dataframe tbody tr th:only-of-type {\n",
       "        vertical-align: middle;\n",
       "    }\n",
       "\n",
       "    .dataframe tbody tr th {\n",
       "        vertical-align: top;\n",
       "    }\n",
       "\n",
       "    .dataframe thead th {\n",
       "        text-align: right;\n",
       "    }\n",
       "</style>\n",
       "<table border=\"1\" class=\"dataframe\">\n",
       "  <thead>\n",
       "    <tr style=\"text-align: right;\">\n",
       "      <th></th>\n",
       "      <th>Average Earnings</th>\n",
       "      <th>CPI</th>\n",
       "      <th>Inflation rate</th>\n",
       "    </tr>\n",
       "  </thead>\n",
       "  <tbody>\n",
       "    <tr>\n",
       "      <th>2018-01-01</th>\n",
       "      <td>26.73</td>\n",
       "      <td>248.859</td>\n",
       "      <td>NaN</td>\n",
       "    </tr>\n",
       "    <tr>\n",
       "      <th>2018-02-01</th>\n",
       "      <td>26.75</td>\n",
       "      <td>249.529</td>\n",
       "      <td>NaN</td>\n",
       "    </tr>\n",
       "    <tr>\n",
       "      <th>2018-03-01</th>\n",
       "      <td>26.86</td>\n",
       "      <td>249.577</td>\n",
       "      <td>NaN</td>\n",
       "    </tr>\n",
       "    <tr>\n",
       "      <th>2018-04-01</th>\n",
       "      <td>26.91</td>\n",
       "      <td>250.227</td>\n",
       "      <td>NaN</td>\n",
       "    </tr>\n",
       "    <tr>\n",
       "      <th>2018-05-01</th>\n",
       "      <td>26.98</td>\n",
       "      <td>250.792</td>\n",
       "      <td>NaN</td>\n",
       "    </tr>\n",
       "    <tr>\n",
       "      <th>...</th>\n",
       "      <td>...</td>\n",
       "      <td>...</td>\n",
       "      <td>...</td>\n",
       "    </tr>\n",
       "    <tr>\n",
       "      <th>2024-06-01</th>\n",
       "      <td>34.99</td>\n",
       "      <td>313.049</td>\n",
       "      <td>2.975629</td>\n",
       "    </tr>\n",
       "    <tr>\n",
       "      <th>2024-07-01</th>\n",
       "      <td>35.07</td>\n",
       "      <td>313.534</td>\n",
       "      <td>2.923566</td>\n",
       "    </tr>\n",
       "    <tr>\n",
       "      <th>2024-08-01</th>\n",
       "      <td>35.22</td>\n",
       "      <td>314.121</td>\n",
       "      <td>2.591227</td>\n",
       "    </tr>\n",
       "    <tr>\n",
       "      <th>2024-09-01</th>\n",
       "      <td>35.33</td>\n",
       "      <td>314.686</td>\n",
       "      <td>2.407513</td>\n",
       "    </tr>\n",
       "    <tr>\n",
       "      <th>2024-10-01</th>\n",
       "      <td>35.46</td>\n",
       "      <td>315.454</td>\n",
       "      <td>2.576326</td>\n",
       "    </tr>\n",
       "  </tbody>\n",
       "</table>\n",
       "<p>82 rows × 3 columns</p>\n",
       "</div>"
      ],
      "text/plain": [
       "            Average Earnings      CPI  Inflation rate\n",
       "2018-01-01             26.73  248.859             NaN\n",
       "2018-02-01             26.75  249.529             NaN\n",
       "2018-03-01             26.86  249.577             NaN\n",
       "2018-04-01             26.91  250.227             NaN\n",
       "2018-05-01             26.98  250.792             NaN\n",
       "...                      ...      ...             ...\n",
       "2024-06-01             34.99  313.049        2.975629\n",
       "2024-07-01             35.07  313.534        2.923566\n",
       "2024-08-01             35.22  314.121        2.591227\n",
       "2024-09-01             35.33  314.686        2.407513\n",
       "2024-10-01             35.46  315.454        2.576326\n",
       "\n",
       "[82 rows x 3 columns]"
      ]
     },
     "execution_count": 108,
     "metadata": {},
     "output_type": "execute_result"
    }
   ],
   "source": [
    "earnings_cpi_data['Inflation rate'] = earnings_cpi_data['CPI'].pct_change(periods=12) * 100\n",
    "# This calculates the percentage change between the current row and the row 12 periods (months) earlier, which gives you the year-on-year change.\n",
    "earnings_cpi_data"
   ]
  },
  {
   "cell_type": "code",
   "execution_count": 109,
   "metadata": {},
   "outputs": [],
   "source": [
    "earnings_cpi_clean = earnings_cpi_data.dropna().copy()"
   ]
  },
  {
   "cell_type": "code",
   "execution_count": 110,
   "metadata": {},
   "outputs": [
    {
     "data": {
      "text/html": [
       "<div>\n",
       "<style scoped>\n",
       "    .dataframe tbody tr th:only-of-type {\n",
       "        vertical-align: middle;\n",
       "    }\n",
       "\n",
       "    .dataframe tbody tr th {\n",
       "        vertical-align: top;\n",
       "    }\n",
       "\n",
       "    .dataframe thead th {\n",
       "        text-align: right;\n",
       "    }\n",
       "</style>\n",
       "<table border=\"1\" class=\"dataframe\">\n",
       "  <thead>\n",
       "    <tr style=\"text-align: right;\">\n",
       "      <th></th>\n",
       "      <th>Average Earnings</th>\n",
       "      <th>CPI</th>\n",
       "      <th>Inflation rate</th>\n",
       "    </tr>\n",
       "  </thead>\n",
       "  <tbody>\n",
       "    <tr>\n",
       "      <th>2019-01-01</th>\n",
       "      <td>27.59</td>\n",
       "      <td>252.561</td>\n",
       "      <td>1.487589</td>\n",
       "    </tr>\n",
       "    <tr>\n",
       "      <th>2019-02-01</th>\n",
       "      <td>27.71</td>\n",
       "      <td>253.319</td>\n",
       "      <td>1.518862</td>\n",
       "    </tr>\n",
       "    <tr>\n",
       "      <th>2019-03-01</th>\n",
       "      <td>27.80</td>\n",
       "      <td>254.277</td>\n",
       "      <td>1.883186</td>\n",
       "    </tr>\n",
       "    <tr>\n",
       "      <th>2019-04-01</th>\n",
       "      <td>27.78</td>\n",
       "      <td>255.233</td>\n",
       "      <td>2.000583</td>\n",
       "    </tr>\n",
       "    <tr>\n",
       "      <th>2019-05-01</th>\n",
       "      <td>27.86</td>\n",
       "      <td>255.296</td>\n",
       "      <td>1.795911</td>\n",
       "    </tr>\n",
       "    <tr>\n",
       "      <th>...</th>\n",
       "      <td>...</td>\n",
       "      <td>...</td>\n",
       "      <td>...</td>\n",
       "    </tr>\n",
       "    <tr>\n",
       "      <th>2024-06-01</th>\n",
       "      <td>34.99</td>\n",
       "      <td>313.049</td>\n",
       "      <td>2.975629</td>\n",
       "    </tr>\n",
       "    <tr>\n",
       "      <th>2024-07-01</th>\n",
       "      <td>35.07</td>\n",
       "      <td>313.534</td>\n",
       "      <td>2.923566</td>\n",
       "    </tr>\n",
       "    <tr>\n",
       "      <th>2024-08-01</th>\n",
       "      <td>35.22</td>\n",
       "      <td>314.121</td>\n",
       "      <td>2.591227</td>\n",
       "    </tr>\n",
       "    <tr>\n",
       "      <th>2024-09-01</th>\n",
       "      <td>35.33</td>\n",
       "      <td>314.686</td>\n",
       "      <td>2.407513</td>\n",
       "    </tr>\n",
       "    <tr>\n",
       "      <th>2024-10-01</th>\n",
       "      <td>35.46</td>\n",
       "      <td>315.454</td>\n",
       "      <td>2.576326</td>\n",
       "    </tr>\n",
       "  </tbody>\n",
       "</table>\n",
       "<p>70 rows × 3 columns</p>\n",
       "</div>"
      ],
      "text/plain": [
       "            Average Earnings      CPI  Inflation rate\n",
       "2019-01-01             27.59  252.561        1.487589\n",
       "2019-02-01             27.71  253.319        1.518862\n",
       "2019-03-01             27.80  254.277        1.883186\n",
       "2019-04-01             27.78  255.233        2.000583\n",
       "2019-05-01             27.86  255.296        1.795911\n",
       "...                      ...      ...             ...\n",
       "2024-06-01             34.99  313.049        2.975629\n",
       "2024-07-01             35.07  313.534        2.923566\n",
       "2024-08-01             35.22  314.121        2.591227\n",
       "2024-09-01             35.33  314.686        2.407513\n",
       "2024-10-01             35.46  315.454        2.576326\n",
       "\n",
       "[70 rows x 3 columns]"
      ]
     },
     "execution_count": 110,
     "metadata": {},
     "output_type": "execute_result"
    }
   ],
   "source": [
    "earnings_cpi_clean"
   ]
  },
  {
   "cell_type": "code",
   "execution_count": 115,
   "metadata": {},
   "outputs": [
    {
     "data": {
      "image/png": "[encoded data removed]",
      "text/plain": [
       "<Figure size 1000x550 with 1 Axes>"
      ]
     },
     "metadata": {},
     "output_type": "display_data"
    }
   ],
   "source": [
    "plt.figure(figsize=(10, 5.5))\n",
    "sns.lineplot(data=earnings_cpi_clean, x=earnings_cpi_clean.index, y='Inflation rate')\n",
    "sns.despine()\n",
    "\n",
    "plt.title('CPI Percent Change Year on Year, 2019-2024', fontsize=15)\n",
    "plt.xlabel('')\n",
    "\n",
    "ax= plt.gca()\n",
    "ax.yaxis.set_major_formatter(plt.FuncFormatter(lambda y, pos: f'{int(y)}%'))\n",
    "#by default, pandas uses the index for the x-axis\n",
    "\n",
    "plt.show()"
   ]
  },
  {
   "cell_type": "markdown",
   "metadata": {},
   "source": [
    "### Real Wage Growth & Inflation Rate "
   ]
  },
  {
   "cell_type": "code",
   "execution_count": 116,
   "metadata": {},
   "outputs": [
    {
     "data": {
      "text/html": [
       "<div>\n",
       "<style scoped>\n",
       "    .dataframe tbody tr th:only-of-type {\n",
       "        vertical-align: middle;\n",
       "    }\n",
       "\n",
       "    .dataframe tbody tr th {\n",
       "        vertical-align: top;\n",
       "    }\n",
       "\n",
       "    .dataframe thead th {\n",
       "        text-align: right;\n",
       "    }\n",
       "</style>\n",
       "<table border=\"1\" class=\"dataframe\">\n",
       "  <thead>\n",
       "    <tr style=\"text-align: right;\">\n",
       "      <th></th>\n",
       "      <th>Average Earnings</th>\n",
       "      <th>CPI</th>\n",
       "      <th>Inflation rate</th>\n",
       "      <th>Real wages</th>\n",
       "    </tr>\n",
       "  </thead>\n",
       "  <tbody>\n",
       "    <tr>\n",
       "      <th>2018-01-01</th>\n",
       "      <td>26.73</td>\n",
       "      <td>248.859</td>\n",
       "      <td>NaN</td>\n",
       "      <td>10.741022</td>\n",
       "    </tr>\n",
       "    <tr>\n",
       "      <th>2018-02-01</th>\n",
       "      <td>26.75</td>\n",
       "      <td>249.529</td>\n",
       "      <td>NaN</td>\n",
       "      <td>10.720197</td>\n",
       "    </tr>\n",
       "    <tr>\n",
       "      <th>2018-03-01</th>\n",
       "      <td>26.86</td>\n",
       "      <td>249.577</td>\n",
       "      <td>NaN</td>\n",
       "      <td>10.762210</td>\n",
       "    </tr>\n",
       "    <tr>\n",
       "      <th>2018-04-01</th>\n",
       "      <td>26.91</td>\n",
       "      <td>250.227</td>\n",
       "      <td>NaN</td>\n",
       "      <td>10.754235</td>\n",
       "    </tr>\n",
       "    <tr>\n",
       "      <th>2018-05-01</th>\n",
       "      <td>26.98</td>\n",
       "      <td>250.792</td>\n",
       "      <td>NaN</td>\n",
       "      <td>10.757919</td>\n",
       "    </tr>\n",
       "    <tr>\n",
       "      <th>...</th>\n",
       "      <td>...</td>\n",
       "      <td>...</td>\n",
       "      <td>...</td>\n",
       "      <td>...</td>\n",
       "    </tr>\n",
       "    <tr>\n",
       "      <th>2024-06-01</th>\n",
       "      <td>34.99</td>\n",
       "      <td>313.049</td>\n",
       "      <td>2.975629</td>\n",
       "      <td>11.177164</td>\n",
       "    </tr>\n",
       "    <tr>\n",
       "      <th>2024-07-01</th>\n",
       "      <td>35.07</td>\n",
       "      <td>313.534</td>\n",
       "      <td>2.923566</td>\n",
       "      <td>11.185390</td>\n",
       "    </tr>\n",
       "    <tr>\n",
       "      <th>2024-08-01</th>\n",
       "      <td>35.22</td>\n",
       "      <td>314.121</td>\n",
       "      <td>2.591227</td>\n",
       "      <td>11.212240</td>\n",
       "    </tr>\n",
       "    <tr>\n",
       "      <th>2024-09-01</th>\n",
       "      <td>35.33</td>\n",
       "      <td>314.686</td>\n",
       "      <td>2.407513</td>\n",
       "      <td>11.227064</td>\n",
       "    </tr>\n",
       "    <tr>\n",
       "      <th>2024-10-01</th>\n",
       "      <td>35.46</td>\n",
       "      <td>315.454</td>\n",
       "      <td>2.576326</td>\n",
       "      <td>11.240942</td>\n",
       "    </tr>\n",
       "  </tbody>\n",
       "</table>\n",
       "<p>82 rows × 4 columns</p>\n",
       "</div>"
      ],
      "text/plain": [
       "            Average Earnings      CPI  Inflation rate  Real wages\n",
       "2018-01-01             26.73  248.859             NaN   10.741022\n",
       "2018-02-01             26.75  249.529             NaN   10.720197\n",
       "2018-03-01             26.86  249.577             NaN   10.762210\n",
       "2018-04-01             26.91  250.227             NaN   10.754235\n",
       "2018-05-01             26.98  250.792             NaN   10.757919\n",
       "...                      ...      ...             ...         ...\n",
       "2024-06-01             34.99  313.049        2.975629   11.177164\n",
       "2024-07-01             35.07  313.534        2.923566   11.185390\n",
       "2024-08-01             35.22  314.121        2.591227   11.212240\n",
       "2024-09-01             35.33  314.686        2.407513   11.227064\n",
       "2024-10-01             35.46  315.454        2.576326   11.240942\n",
       "\n",
       "[82 rows x 4 columns]"
      ]
     },
     "execution_count": 116,
     "metadata": {},
     "output_type": "execute_result"
    }
   ],
   "source": [
    "earnings_cpi_data['Real wages'] = (earnings_cpi_data['Average Earnings'] / earnings_cpi_data['CPI']) * 100\n",
    "earnings_cpi_data"
   ]
  },
  {
   "cell_type": "code",
   "execution_count": 117,
   "metadata": {},
   "outputs": [
    {
     "data": {
      "text/html": [
       "<div>\n",
       "<style scoped>\n",
       "    .dataframe tbody tr th:only-of-type {\n",
       "        vertical-align: middle;\n",
       "    }\n",
       "\n",
       "    .dataframe tbody tr th {\n",
       "        vertical-align: top;\n",
       "    }\n",
       "\n",
       "    .dataframe thead th {\n",
       "        text-align: right;\n",
       "    }\n",
       "</style>\n",
       "<table border=\"1\" class=\"dataframe\">\n",
       "  <thead>\n",
       "    <tr style=\"text-align: right;\">\n",
       "      <th></th>\n",
       "      <th>Average Earnings</th>\n",
       "      <th>CPI</th>\n",
       "      <th>Inflation rate</th>\n",
       "      <th>Real wages</th>\n",
       "      <th>Real wage growth</th>\n",
       "    </tr>\n",
       "  </thead>\n",
       "  <tbody>\n",
       "    <tr>\n",
       "      <th>2018-01-01</th>\n",
       "      <td>26.73</td>\n",
       "      <td>248.859</td>\n",
       "      <td>NaN</td>\n",
       "      <td>10.741022</td>\n",
       "      <td>NaN</td>\n",
       "    </tr>\n",
       "    <tr>\n",
       "      <th>2018-02-01</th>\n",
       "      <td>26.75</td>\n",
       "      <td>249.529</td>\n",
       "      <td>NaN</td>\n",
       "      <td>10.720197</td>\n",
       "      <td>NaN</td>\n",
       "    </tr>\n",
       "    <tr>\n",
       "      <th>2018-03-01</th>\n",
       "      <td>26.86</td>\n",
       "      <td>249.577</td>\n",
       "      <td>NaN</td>\n",
       "      <td>10.762210</td>\n",
       "      <td>NaN</td>\n",
       "    </tr>\n",
       "    <tr>\n",
       "      <th>2018-04-01</th>\n",
       "      <td>26.91</td>\n",
       "      <td>250.227</td>\n",
       "      <td>NaN</td>\n",
       "      <td>10.754235</td>\n",
       "      <td>NaN</td>\n",
       "    </tr>\n",
       "    <tr>\n",
       "      <th>2018-05-01</th>\n",
       "      <td>26.98</td>\n",
       "      <td>250.792</td>\n",
       "      <td>NaN</td>\n",
       "      <td>10.757919</td>\n",
       "      <td>NaN</td>\n",
       "    </tr>\n",
       "    <tr>\n",
       "      <th>...</th>\n",
       "      <td>...</td>\n",
       "      <td>...</td>\n",
       "      <td>...</td>\n",
       "      <td>...</td>\n",
       "      <td>...</td>\n",
       "    </tr>\n",
       "    <tr>\n",
       "      <th>2024-06-01</th>\n",
       "      <td>34.99</td>\n",
       "      <td>313.049</td>\n",
       "      <td>2.975629</td>\n",
       "      <td>11.177164</td>\n",
       "      <td>0.827637</td>\n",
       "    </tr>\n",
       "    <tr>\n",
       "      <th>2024-07-01</th>\n",
       "      <td>35.07</td>\n",
       "      <td>313.534</td>\n",
       "      <td>2.923566</td>\n",
       "      <td>11.185390</td>\n",
       "      <td>0.690985</td>\n",
       "    </tr>\n",
       "    <tr>\n",
       "      <th>2024-08-01</th>\n",
       "      <td>35.22</td>\n",
       "      <td>314.121</td>\n",
       "      <td>2.591227</td>\n",
       "      <td>11.212240</td>\n",
       "      <td>1.239814</td>\n",
       "    </tr>\n",
       "    <tr>\n",
       "      <th>2024-09-01</th>\n",
       "      <td>35.33</td>\n",
       "      <td>314.686</td>\n",
       "      <td>2.407513</td>\n",
       "      <td>11.227064</td>\n",
       "      <td>1.439053</td>\n",
       "    </tr>\n",
       "    <tr>\n",
       "      <th>2024-10-01</th>\n",
       "      <td>35.46</td>\n",
       "      <td>315.454</td>\n",
       "      <td>2.576326</td>\n",
       "      <td>11.240942</td>\n",
       "      <td>1.376482</td>\n",
       "    </tr>\n",
       "  </tbody>\n",
       "</table>\n",
       "<p>82 rows × 5 columns</p>\n",
       "</div>"
      ],
      "text/plain": [
       "            Average Earnings      CPI  Inflation rate  Real wages  \\\n",
       "2018-01-01             26.73  248.859             NaN   10.741022   \n",
       "2018-02-01             26.75  249.529             NaN   10.720197   \n",
       "2018-03-01             26.86  249.577             NaN   10.762210   \n",
       "2018-04-01             26.91  250.227             NaN   10.754235   \n",
       "2018-05-01             26.98  250.792             NaN   10.757919   \n",
       "...                      ...      ...             ...         ...   \n",
       "2024-06-01             34.99  313.049        2.975629   11.177164   \n",
       "2024-07-01             35.07  313.534        2.923566   11.185390   \n",
       "2024-08-01             35.22  314.121        2.591227   11.212240   \n",
       "2024-09-01             35.33  314.686        2.407513   11.227064   \n",
       "2024-10-01             35.46  315.454        2.576326   11.240942   \n",
       "\n",
       "            Real wage growth  \n",
       "2018-01-01               NaN  \n",
       "2018-02-01               NaN  \n",
       "2018-03-01               NaN  \n",
       "2018-04-01               NaN  \n",
       "2018-05-01               NaN  \n",
       "...                      ...  \n",
       "2024-06-01          0.827637  \n",
       "2024-07-01          0.690985  \n",
       "2024-08-01          1.239814  \n",
       "2024-09-01          1.439053  \n",
       "2024-10-01          1.376482  \n",
       "\n",
       "[82 rows x 5 columns]"
      ]
     },
     "execution_count": 117,
     "metadata": {},
     "output_type": "execute_result"
    }
   ],
   "source": [
    "earnings_cpi_data['Real wage growth'] = earnings_cpi_data['Real wages'].pct_change(periods=12) * 100\n",
    "earnings_cpi_data"
   ]
  },
  {
   "cell_type": "code",
   "execution_count": 118,
   "metadata": {},
   "outputs": [
    {
     "data": {
      "text/html": [
       "<div>\n",
       "<style scoped>\n",
       "    .dataframe tbody tr th:only-of-type {\n",
       "        vertical-align: middle;\n",
       "    }\n",
       "\n",
       "    .dataframe tbody tr th {\n",
       "        vertical-align: top;\n",
       "    }\n",
       "\n",
       "    .dataframe thead th {\n",
       "        text-align: right;\n",
       "    }\n",
       "</style>\n",
       "<table border=\"1\" class=\"dataframe\">\n",
       "  <thead>\n",
       "    <tr style=\"text-align: right;\">\n",
       "      <th></th>\n",
       "      <th>Average Earnings</th>\n",
       "      <th>CPI</th>\n",
       "      <th>Inflation rate</th>\n",
       "      <th>Real wages</th>\n",
       "      <th>Real wage growth</th>\n",
       "    </tr>\n",
       "  </thead>\n",
       "  <tbody>\n",
       "    <tr>\n",
       "      <th>2019-01-01</th>\n",
       "      <td>27.59</td>\n",
       "      <td>252.561</td>\n",
       "      <td>1.487589</td>\n",
       "      <td>10.924094</td>\n",
       "      <td>1.704415</td>\n",
       "    </tr>\n",
       "    <tr>\n",
       "      <th>2019-02-01</th>\n",
       "      <td>27.71</td>\n",
       "      <td>253.319</td>\n",
       "      <td>1.518862</td>\n",
       "      <td>10.938777</td>\n",
       "      <td>2.038955</td>\n",
       "    </tr>\n",
       "    <tr>\n",
       "      <th>2019-03-01</th>\n",
       "      <td>27.80</td>\n",
       "      <td>254.277</td>\n",
       "      <td>1.883186</td>\n",
       "      <td>10.932959</td>\n",
       "      <td>1.586563</td>\n",
       "    </tr>\n",
       "    <tr>\n",
       "      <th>2019-04-01</th>\n",
       "      <td>27.78</td>\n",
       "      <td>255.233</td>\n",
       "      <td>2.000583</td>\n",
       "      <td>10.884173</td>\n",
       "      <td>1.208243</td>\n",
       "    </tr>\n",
       "    <tr>\n",
       "      <th>2019-05-01</th>\n",
       "      <td>27.86</td>\n",
       "      <td>255.296</td>\n",
       "      <td>1.795911</td>\n",
       "      <td>10.912823</td>\n",
       "      <td>1.439905</td>\n",
       "    </tr>\n",
       "    <tr>\n",
       "      <th>...</th>\n",
       "      <td>...</td>\n",
       "      <td>...</td>\n",
       "      <td>...</td>\n",
       "      <td>...</td>\n",
       "      <td>...</td>\n",
       "    </tr>\n",
       "    <tr>\n",
       "      <th>2024-06-01</th>\n",
       "      <td>34.99</td>\n",
       "      <td>313.049</td>\n",
       "      <td>2.975629</td>\n",
       "      <td>11.177164</td>\n",
       "      <td>0.827637</td>\n",
       "    </tr>\n",
       "    <tr>\n",
       "      <th>2024-07-01</th>\n",
       "      <td>35.07</td>\n",
       "      <td>313.534</td>\n",
       "      <td>2.923566</td>\n",
       "      <td>11.185390</td>\n",
       "      <td>0.690985</td>\n",
       "    </tr>\n",
       "    <tr>\n",
       "      <th>2024-08-01</th>\n",
       "      <td>35.22</td>\n",
       "      <td>314.121</td>\n",
       "      <td>2.591227</td>\n",
       "      <td>11.212240</td>\n",
       "      <td>1.239814</td>\n",
       "    </tr>\n",
       "    <tr>\n",
       "      <th>2024-09-01</th>\n",
       "      <td>35.33</td>\n",
       "      <td>314.686</td>\n",
       "      <td>2.407513</td>\n",
       "      <td>11.227064</td>\n",
       "      <td>1.439053</td>\n",
       "    </tr>\n",
       "    <tr>\n",
       "      <th>2024-10-01</th>\n",
       "      <td>35.46</td>\n",
       "      <td>315.454</td>\n",
       "      <td>2.576326</td>\n",
       "      <td>11.240942</td>\n",
       "      <td>1.376482</td>\n",
       "    </tr>\n",
       "  </tbody>\n",
       "</table>\n",
       "<p>70 rows × 5 columns</p>\n",
       "</div>"
      ],
      "text/plain": [
       "            Average Earnings      CPI  Inflation rate  Real wages  \\\n",
       "2019-01-01             27.59  252.561        1.487589   10.924094   \n",
       "2019-02-01             27.71  253.319        1.518862   10.938777   \n",
       "2019-03-01             27.80  254.277        1.883186   10.932959   \n",
       "2019-04-01             27.78  255.233        2.000583   10.884173   \n",
       "2019-05-01             27.86  255.296        1.795911   10.912823   \n",
       "...                      ...      ...             ...         ...   \n",
       "2024-06-01             34.99  313.049        2.975629   11.177164   \n",
       "2024-07-01             35.07  313.534        2.923566   11.185390   \n",
       "2024-08-01             35.22  314.121        2.591227   11.212240   \n",
       "2024-09-01             35.33  314.686        2.407513   11.227064   \n",
       "2024-10-01             35.46  315.454        2.576326   11.240942   \n",
       "\n",
       "            Real wage growth  \n",
       "2019-01-01          1.704415  \n",
       "2019-02-01          2.038955  \n",
       "2019-03-01          1.586563  \n",
       "2019-04-01          1.208243  \n",
       "2019-05-01          1.439905  \n",
       "...                      ...  \n",
       "2024-06-01          0.827637  \n",
       "2024-07-01          0.690985  \n",
       "2024-08-01          1.239814  \n",
       "2024-09-01          1.439053  \n",
       "2024-10-01          1.376482  \n",
       "\n",
       "[70 rows x 5 columns]"
      ]
     },
     "execution_count": 118,
     "metadata": {},
     "output_type": "execute_result"
    }
   ],
   "source": [
    "rates_clean = earnings_cpi_data.dropna().copy()\n",
    "rates_clean"
   ]
  },
  {
   "cell_type": "code",
   "execution_count": 119,
   "metadata": {},
   "outputs": [
    {
     "data": {
      "application/vnd.plotly.v1+json": {
       "config": {
        "plotlyServerURL": "https://plot.ly"
       },
       "data": [
        {
         "hovertemplate": "variable=Inflation rate<br>index=%{x}<br>value=%{y}<extra></extra>",
         "legendgroup": "Inflation rate",
         "line": {
          "color": "#636efa",
          "dash": "solid"
         },
         "marker": {
          "symbol": "circle"
         },
         "mode": "lines",
         "name": "Inflation rate",
         "orientation": "v",
         "showlegend": true,
         "type": "scatter",
         "x": [
          "2019-01-01T00:00:00",
          "2019-02-01T00:00:00",
          "2019-03-01T00:00:00",
          "2019-04-01T00:00:00",
          "2019-05-01T00:00:00",
          "2019-06-01T00:00:00",
          "2019-07-01T00:00:00",
          "2019-08-01T00:00:00",
          "2019-09-01T00:00:00",
          "2019-10-01T00:00:00",
          "2019-11-01T00:00:00",
          "2019-12-01T00:00:00",
          "2020-01-01T00:00:00",
          "2020-02-01T00:00:00",
          "2020-03-01T00:00:00",
          "2020-04-01T00:00:00",
          "2020-05-01T00:00:00",
          "2020-06-01T00:00:00",
          "2020-07-01T00:00:00",
          "2020-08-01T00:00:00",
          "2020-09-01T00:00:00",
          "2020-10-01T00:00:00",
          "2020-11-01T00:00:00",
          "2020-12-01T00:00:00",
          "2021-01-01T00:00:00",
          "2021-02-01T00:00:00",
          "2021-03-01T00:00:00",
          "2021-04-01T00:00:00",
          "2021-05-01T00:00:00",
          "2021-06-01T00:00:00",
          "2021-07-01T00:00:00",
          "2021-08-01T00:00:00",
          "2021-09-01T00:00:00",
          "2021-10-01T00:00:00",
          "2021-11-01T00:00:00",
          "2021-12-01T00:00:00",
          "2022-01-01T00:00:00",
          "2022-02-01T00:00:00",
          "2022-03-01T00:00:00",
          "2022-04-01T00:00:00",
          "2022-05-01T00:00:00",
          "2022-06-01T00:00:00",
          "2022-07-01T00:00:00",
          "2022-08-01T00:00:00",
          "2022-09-01T00:00:00",
          "2022-10-01T00:00:00",
          "2022-11-01T00:00:00",
          "2022-12-01T00:00:00",
          "2023-01-01T00:00:00",
          "2023-02-01T00:00:00",
          "2023-03-01T00:00:00",
          "2023-04-01T00:00:00",
          "2023-05-01T00:00:00",
          "2023-06-01T00:00:00",
          "2023-07-01T00:00:00",
          "2023-08-01T00:00:00",
          "2023-09-01T00:00:00",
          "2023-10-01T00:00:00",
          "2023-11-01T00:00:00",
          "2023-12-01T00:00:00",
          "2024-01-01T00:00:00",
          "2024-02-01T00:00:00",
          "2024-03-01T00:00:00",
          "2024-04-01T00:00:00",
          "2024-05-01T00:00:00",
          "2024-06-01T00:00:00",
          "2024-07-01T00:00:00",
          "2024-08-01T00:00:00",
          "2024-09-01T00:00:00",
          "2024-10-01T00:00:00"
         ],
         "xaxis": "x",
         "y": [
          1.4875893578291333,
          1.5188615351321877,
          1.8831863513063984,
          2.000583470209061,
          1.7959105553606136,
          1.671194894390049,
          1.826331335037068,
          1.7376412106666406,
          1.6844977040391562,
          1.7339736996186295,
          2.092290394862917,
          2.3195274699624457,
          2.5122643638566533,
          2.339737643050843,
          1.5231420852062971,
          0.3498763874577149,
          0.21621960391076112,
          0.7017667595302868,
          1.0187566946310067,
          1.3005983533565635,
          1.373084272511016,
          1.2031654060780772,
          1.169540753609244,
          1.3049530216912242,
          1.3951009246599089,
          1.6729284154818336,
          2.6186325779585795,
          4.148739292379555,
          4.926362527750849,
          5.315092372103147,
          5.25757716479367,
          5.175312107215291,
          5.361010344257178,
          6.219044069333601,
          6.862530903236941,
          7.176580599606885,
          7.5697666445729395,
          7.948919315737357,
          8.547431203050081,
          8.251859404990402,
          8.532996587844366,
          8.989743741317646,
          8.449818746001725,
          8.218806476800754,
          8.19827154994579,
          7.7519407887596925,
          7.119465995215202,
          6.411498247913161,
          6.362123304649603,
          5.965522694923298,
          4.935090226845151,
          4.941059134795189,
          4.120689595996696,
          3.053261739142221,
          3.271780511700917,
          3.718721312697104,
          3.6940551594278226,
          3.2457874929078256,
          3.1394819319064515,
          3.3231597124613543,
          3.1059809026621865,
          3.1657429794798686,
          3.475131237075124,
          3.3577311967053047,
          3.2502101428971697,
          2.975628529981611,
          2.923565791719729,
          2.5912269299480206,
          2.4075134727031156,
          2.5763256387161038
         ],
         "yaxis": "y"
        },
        {
         "hovertemplate": "variable=Real wage growth<br>index=%{x}<br>value=%{y}<extra></extra>",
         "legendgroup": "Real wage growth",
         "line": {
          "color": "#EF553B",
          "dash": "solid"
         },
         "marker": {
          "symbol": "circle"
         },
         "mode": "lines",
         "name": "Real wage growth",
         "orientation": "v",
         "showlegend": true,
         "type": "scatter",
         "x": [
          "2019-01-01T00:00:00",
          "2019-02-01T00:00:00",
          "2019-03-01T00:00:00",
          "2019-04-01T00:00:00",
          "2019-05-01T00:00:00",
          "2019-06-01T00:00:00",
          "2019-07-01T00:00:00",
          "2019-08-01T00:00:00",
          "2019-09-01T00:00:00",
          "2019-10-01T00:00:00",
          "2019-11-01T00:00:00",
          "2019-12-01T00:00:00",
          "2020-01-01T00:00:00",
          "2020-02-01T00:00:00",
          "2020-03-01T00:00:00",
          "2020-04-01T00:00:00",
          "2020-05-01T00:00:00",
          "2020-06-01T00:00:00",
          "2020-07-01T00:00:00",
          "2020-08-01T00:00:00",
          "2020-09-01T00:00:00",
          "2020-10-01T00:00:00",
          "2020-11-01T00:00:00",
          "2020-12-01T00:00:00",
          "2021-01-01T00:00:00",
          "2021-02-01T00:00:00",
          "2021-03-01T00:00:00",
          "2021-04-01T00:00:00",
          "2021-05-01T00:00:00",
          "2021-06-01T00:00:00",
          "2021-07-01T00:00:00",
          "2021-08-01T00:00:00",
          "2021-09-01T00:00:00",
          "2021-10-01T00:00:00",
          "2021-11-01T00:00:00",
          "2021-12-01T00:00:00",
          "2022-01-01T00:00:00",
          "2022-02-01T00:00:00",
          "2022-03-01T00:00:00",
          "2022-04-01T00:00:00",
          "2022-05-01T00:00:00",
          "2022-06-01T00:00:00",
          "2022-07-01T00:00:00",
          "2022-08-01T00:00:00",
          "2022-09-01T00:00:00",
          "2022-10-01T00:00:00",
          "2022-11-01T00:00:00",
          "2022-12-01T00:00:00",
          "2023-01-01T00:00:00",
          "2023-02-01T00:00:00",
          "2023-03-01T00:00:00",
          "2023-04-01T00:00:00",
          "2023-05-01T00:00:00",
          "2023-06-01T00:00:00",
          "2023-07-01T00:00:00",
          "2023-08-01T00:00:00",
          "2023-09-01T00:00:00",
          "2023-10-01T00:00:00",
          "2023-11-01T00:00:00",
          "2023-12-01T00:00:00",
          "2024-01-01T00:00:00",
          "2024-02-01T00:00:00",
          "2024-03-01T00:00:00",
          "2024-04-01T00:00:00",
          "2024-05-01T00:00:00",
          "2024-06-01T00:00:00",
          "2024-07-01T00:00:00",
          "2024-08-01T00:00:00",
          "2024-09-01T00:00:00",
          "2024-10-01T00:00:00"
         ],
         "xaxis": "x",
         "y": [
          1.7044147230518059,
          2.038954614242283,
          1.5865634024252229,
          1.2082434953165633,
          1.439905347563486,
          1.6663419002347801,
          1.5778529495443117,
          1.6527574419681779,
          1.4031402232101309,
          1.38415188649057,
          1.1989506073525558,
          0.6419879761521585,
          0.5546282935446234,
          0.6758459427406383,
          1.9365698376801133,
          7.650713384313579,
          6.446081039727147,
          4.3837486196034,
          3.7962447535506483,
          3.453630602243063,
          3.3379168273305337,
          3.3964234206302457,
          3.306776331224226,
          4.035407601491681,
          3.7911091360807836,
          3.5565399422599064,
          1.8176082702886287,
          -3.343578422115856,
          -2.5465367373509684,
          -1.2978465061954658,
          -0.8882103388808016,
          -0.760125222006347,
          -0.4568184631897565,
          -0.7237940326474179,
          -1.3370905706479475,
          -2.0152333462185923,
          -1.7568568665957462,
          -2.4636635317061506,
          -2.419164434679133,
          -2.302202654309826,
          -2.738297905291931,
          -3.26108603046511,
          -2.737283451540806,
          -2.5794427528703867,
          -2.8290223594582997,
          -2.5763042549282855,
          -1.8949285222612078,
          -1.4162376002601063,
          -1.7012479157044624,
          -1.1571558095952783,
          -0.3032884951095882,
          -0.2644554580165659,
          0.4133977600293992,
          1.5575667639598834,
          1.3544882035714911,
          0.7835821155480538,
          0.7941262800266191,
          1.00300273549907,
          1.0906690348997827,
          0.8971774394567422,
          1.210811288052538,
          1.0542750473816254,
          0.6453423010558179,
          0.5415491532626548,
          0.7215669902236987,
          0.8276372353915207,
          0.690984592167232,
          1.2398138860684194,
          1.4390525516460029,
          1.376481509952221
         ],
         "yaxis": "y"
        }
       ],
       "layout": {
        "height": 550,
        "legend": {
         "title": {
          "text": ""
         },
         "tracegroupgap": 0
        },
        "margin": {
         "t": 60
        },
        "showlegend": true,
        "template": {
         "data": {
          "bar": [
           {
            "error_x": {
             "color": "#2a3f5f"
            },
            "error_y": {
             "color": "#2a3f5f"
            },
            "marker": {
             "line": {
              "color": "#E5ECF6",
              "width": 0.5
             },
             "pattern": {
              "fillmode": "overlay",
              "size": 10,
              "solidity": 0.2
             }
            },
            "type": "bar"
           }
          ],
          "barpolar": [
           {
            "marker": {
             "line": {
              "color": "#E5ECF6",
              "width": 0.5
             },
             "pattern": {
              "fillmode": "overlay",
              "size": 10,
              "solidity": 0.2
             }
            },
            "type": "barpolar"
           }
          ],
          "carpet": [
           {
            "aaxis": {
             "endlinecolor": "#2a3f5f",
             "gridcolor": "white",
             "linecolor": "white",
             "minorgridcolor": "white",
             "startlinecolor": "#2a3f5f"
            },
            "baxis": {
             "endlinecolor": "#2a3f5f",
             "gridcolor": "white",
             "linecolor": "white",
             "minorgridcolor": "white",
             "startlinecolor": "#2a3f5f"
            },
            "type": "carpet"
           }
          ],
          "choropleth": [
           {
            "colorbar": {
             "outlinewidth": 0,
             "ticks": ""
            },
            "type": "choropleth"
           }
          ],
          "contour": [
           {
            "colorbar": {
             "outlinewidth": 0,
             "ticks": ""
            },
            "colorscale": [
             [
              0,
              "#0d0887"
             ],
             [
              0.1111111111111111,
              "#46039f"
             ],
             [
              0.2222222222222222,
              "#7201a8"
             ],
             [
              0.3333333333333333,
              "#9c179e"
             ],
             [
              0.4444444444444444,
              "#bd3786"
             ],
             [
              0.5555555555555556,
              "#d8576b"
             ],
             [
              0.6666666666666666,
              "#ed7953"
             ],
             [
              0.7777777777777778,
              "#fb9f3a"
             ],
             [
              0.8888888888888888,
              "#fdca26"
             ],
             [
              1,
              "#f0f921"
             ]
            ],
            "type": "contour"
           }
          ],
          "contourcarpet": [
           {
            "colorbar": {
             "outlinewidth": 0,
             "ticks": ""
            },
            "type": "contourcarpet"
           }
          ],
          "heatmap": [
           {
            "colorbar": {
             "outlinewidth": 0,
             "ticks": ""
            },
            "colorscale": [
             [
              0,
              "#0d0887"
             ],
             [
              0.1111111111111111,
              "#46039f"
             ],
             [
              0.2222222222222222,
              "#7201a8"
             ],
             [
              0.3333333333333333,
              "#9c179e"
             ],
             [
              0.4444444444444444,
              "#bd3786"
             ],
             [
              0.5555555555555556,
              "#d8576b"
             ],
             [
              0.6666666666666666,
              "#ed7953"
             ],
             [
              0.7777777777777778,
              "#fb9f3a"
             ],
             [
              0.8888888888888888,
              "#fdca26"
             ],
             [
              1,
              "#f0f921"
             ]
            ],
            "type": "heatmap"
           }
          ],
          "heatmapgl": [
           {
            "colorbar": {
             "outlinewidth": 0,
             "ticks": ""
            },
            "colorscale": [
             [
              0,
              "#0d0887"
             ],
             [
              0.1111111111111111,
              "#46039f"
             ],
             [
              0.2222222222222222,
              "#7201a8"
             ],
             [
              0.3333333333333333,
              "#9c179e"
             ],
             [
              0.4444444444444444,
              "#bd3786"
             ],
             [
              0.5555555555555556,
              "#d8576b"
             ],
             [
              0.6666666666666666,
              "#ed7953"
             ],
             [
              0.7777777777777778,
              "#fb9f3a"
             ],
             [
              0.8888888888888888,
              "#fdca26"
             ],
             [
              1,
              "#f0f921"
             ]
            ],
            "type": "heatmapgl"
           }
          ],
          "histogram": [
           {
            "marker": {
             "pattern": {
              "fillmode": "overlay",
              "size": 10,
              "solidity": 0.2
             }
            },
            "type": "histogram"
           }
          ],
          "histogram2d": [
           {
            "colorbar": {
             "outlinewidth": 0,
             "ticks": ""
            },
            "colorscale": [
             [
              0,
              "#0d0887"
             ],
             [
              0.1111111111111111,
              "#46039f"
             ],
             [
              0.2222222222222222,
              "#7201a8"
             ],
             [
              0.3333333333333333,
              "#9c179e"
             ],
             [
              0.4444444444444444,
              "#bd3786"
             ],
             [
              0.5555555555555556,
              "#d8576b"
             ],
             [
              0.6666666666666666,
              "#ed7953"
             ],
             [
              0.7777777777777778,
              "#fb9f3a"
             ],
             [
              0.8888888888888888,
              "#fdca26"
             ],
             [
              1,
              "#f0f921"
             ]
            ],
            "type": "histogram2d"
           }
          ],
          "histogram2dcontour": [
           {
            "colorbar": {
             "outlinewidth": 0,
             "ticks": ""
            },
            "colorscale": [
             [
              0,
              "#0d0887"
             ],
             [
              0.1111111111111111,
              "#46039f"
             ],
             [
              0.2222222222222222,
              "#7201a8"
             ],
             [
              0.3333333333333333,
              "#9c179e"
             ],
             [
              0.4444444444444444,
              "#bd3786"
             ],
             [
              0.5555555555555556,
              "#d8576b"
             ],
             [
              0.6666666666666666,
              "#ed7953"
             ],
             [
              0.7777777777777778,
              "#fb9f3a"
             ],
             [
              0.8888888888888888,
              "#fdca26"
             ],
             [
              1,
              "#f0f921"
             ]
            ],
            "type": "histogram2dcontour"
           }
          ],
          "mesh3d": [
           {
            "colorbar": {
             "outlinewidth": 0,
             "ticks": ""
            },
            "type": "mesh3d"
           }
          ],
          "parcoords": [
           {
            "line": {
             "colorbar": {
              "outlinewidth": 0,
              "ticks": ""
             }
            },
            "type": "parcoords"
           }
          ],
          "pie": [
           {
            "automargin": true,
            "type": "pie"
           }
          ],
          "scatter": [
           {
            "fillpattern": {
             "fillmode": "overlay",
             "size": 10,
             "solidity": 0.2
            },
            "type": "scatter"
           }
          ],
          "scatter3d": [
           {
            "line": {
             "colorbar": {
              "outlinewidth": 0,
              "ticks": ""
             }
            },
            "marker": {
             "colorbar": {
              "outlinewidth": 0,
              "ticks": ""
             }
            },
            "type": "scatter3d"
           }
          ],
          "scattercarpet": [
           {
            "marker": {
             "colorbar": {
              "outlinewidth": 0,
              "ticks": ""
             }
            },
            "type": "scattercarpet"
           }
          ],
          "scattergeo": [
           {
            "marker": {
             "colorbar": {
              "outlinewidth": 0,
              "ticks": ""
             }
            },
            "type": "scattergeo"
           }
          ],
          "scattergl": [
           {
            "marker": {
             "colorbar": {
              "outlinewidth": 0,
              "ticks": ""
             }
            },
            "type": "scattergl"
           }
          ],
          "scattermapbox": [
           {
            "marker": {
             "colorbar": {
              "outlinewidth": 0,
              "ticks": ""
             }
            },
            "type": "scattermapbox"
           }
          ],
          "scatterpolar": [
           {
            "marker": {
             "colorbar": {
              "outlinewidth": 0,
              "ticks": ""
             }
            },
            "type": "scatterpolar"
           }
          ],
          "scatterpolargl": [
           {
            "marker": {
             "colorbar": {
              "outlinewidth": 0,
              "ticks": ""
             }
            },
            "type": "scatterpolargl"
           }
          ],
          "scatterternary": [
           {
            "marker": {
             "colorbar": {
              "outlinewidth": 0,
              "ticks": ""
             }
            },
            "type": "scatterternary"
           }
          ],
          "surface": [
           {
            "colorbar": {
             "outlinewidth": 0,
             "ticks": ""
            },
            "colorscale": [
             [
              0,
              "#0d0887"
             ],
             [
              0.1111111111111111,
              "#46039f"
             ],
             [
              0.2222222222222222,
              "#7201a8"
             ],
             [
              0.3333333333333333,
              "#9c179e"
             ],
             [
              0.4444444444444444,
              "#bd3786"
             ],
             [
              0.5555555555555556,
              "#d8576b"
             ],
             [
              0.6666666666666666,
              "#ed7953"
             ],
             [
              0.7777777777777778,
              "#fb9f3a"
             ],
             [
              0.8888888888888888,
              "#fdca26"
             ],
             [
              1,
              "#f0f921"
             ]
            ],
            "type": "surface"
           }
          ],
          "table": [
           {
            "cells": {
             "fill": {
              "color": "#EBF0F8"
             },
             "line": {
              "color": "white"
             }
            },
            "header": {
             "fill": {
              "color": "#C8D4E3"
             },
             "line": {
              "color": "white"
             }
            },
            "type": "table"
           }
          ]
         },
         "layout": {
          "annotationdefaults": {
           "arrowcolor": "#2a3f5f",
           "arrowhead": 0,
           "arrowwidth": 1
          },
          "autotypenumbers": "strict",
          "coloraxis": {
           "colorbar": {
            "outlinewidth": 0,
            "ticks": ""
           }
          },
          "colorscale": {
           "diverging": [
            [
             0,
             "#8e0152"
            ],
            [
             0.1,
             "#c51b7d"
            ],
            [
             0.2,
             "#de77ae"
            ],
            [
             0.3,
             "#f1b6da"
            ],
            [
             0.4,
             "#fde0ef"
            ],
            [
             0.5,
             "#f7f7f7"
            ],
            [
             0.6,
             "#e6f5d0"
            ],
            [
             0.7,
             "#b8e186"
            ],
            [
             0.8,
             "#7fbc41"
            ],
            [
             0.9,
             "#4d9221"
            ],
            [
             1,
             "#276419"
            ]
           ],
           "sequential": [
            [
             0,
             "#0d0887"
            ],
            [
             0.1111111111111111,
             "#46039f"
            ],
            [
             0.2222222222222222,
             "#7201a8"
            ],
            [
             0.3333333333333333,
             "#9c179e"
            ],
            [
             0.4444444444444444,
             "#bd3786"
            ],
            [
             0.5555555555555556,
             "#d8576b"
            ],
            [
             0.6666666666666666,
             "#ed7953"
            ],
            [
             0.7777777777777778,
             "#fb9f3a"
            ],
            [
             0.8888888888888888,
             "#fdca26"
            ],
            [
             1,
             "#f0f921"
            ]
           ],
           "sequentialminus": [
            [
             0,
             "#0d0887"
            ],
            [
             0.1111111111111111,
             "#46039f"
            ],
            [
             0.2222222222222222,
             "#7201a8"
            ],
            [
             0.3333333333333333,
             "#9c179e"
            ],
            [
             0.4444444444444444,
             "#bd3786"
            ],
            [
             0.5555555555555556,
             "#d8576b"
            ],
            [
             0.6666666666666666,
             "#ed7953"
            ],
            [
             0.7777777777777778,
             "#fb9f3a"
            ],
            [
             0.8888888888888888,
             "#fdca26"
            ],
            [
             1,
             "#f0f921"
            ]
           ]
          },
          "colorway": [
           "#636efa",
           "#EF553B",
           "#00cc96",
           "#ab63fa",
           "#FFA15A",
           "#19d3f3",
           "#FF6692",
           "#B6E880",
           "#FF97FF",
           "#FECB52"
          ],
          "font": {
           "color": "#2a3f5f"
          },
          "geo": {
           "bgcolor": "white",
           "lakecolor": "white",
           "landcolor": "#E5ECF6",
           "showlakes": true,
           "showland": true,
           "subunitcolor": "white"
          },
          "hoverlabel": {
           "align": "left"
          },
          "hovermode": "closest",
          "mapbox": {
           "style": "light"
          },
          "paper_bgcolor": "white",
          "plot_bgcolor": "#E5ECF6",
          "polar": {
           "angularaxis": {
            "gridcolor": "white",
            "linecolor": "white",
            "ticks": ""
           },
           "bgcolor": "#E5ECF6",
           "radialaxis": {
            "gridcolor": "white",
            "linecolor": "white",
            "ticks": ""
           }
          },
          "scene": {
           "xaxis": {
            "backgroundcolor": "#E5ECF6",
            "gridcolor": "white",
            "gridwidth": 2,
            "linecolor": "white",
            "showbackground": true,
            "ticks": "",
            "zerolinecolor": "white"
           },
           "yaxis": {
            "backgroundcolor": "#E5ECF6",
            "gridcolor": "white",
            "gridwidth": 2,
            "linecolor": "white",
            "showbackground": true,
            "ticks": "",
            "zerolinecolor": "white"
           },
           "zaxis": {
            "backgroundcolor": "#E5ECF6",
            "gridcolor": "white",
            "gridwidth": 2,
            "linecolor": "white",
            "showbackground": true,
            "ticks": "",
            "zerolinecolor": "white"
           }
          },
          "shapedefaults": {
           "line": {
            "color": "#2a3f5f"
           }
          },
          "ternary": {
           "aaxis": {
            "gridcolor": "white",
            "linecolor": "white",
            "ticks": ""
           },
           "baxis": {
            "gridcolor": "white",
            "linecolor": "white",
            "ticks": ""
           },
           "bgcolor": "#E5ECF6",
           "caxis": {
            "gridcolor": "white",
            "linecolor": "white",
            "ticks": ""
           }
          },
          "title": {
           "x": 0.05
          },
          "xaxis": {
           "automargin": true,
           "gridcolor": "white",
           "linecolor": "white",
           "ticks": "",
           "title": {
            "standoff": 15
           },
           "zerolinecolor": "white",
           "zerolinewidth": 2
          },
          "yaxis": {
           "automargin": true,
           "gridcolor": "white",
           "linecolor": "white",
           "ticks": "",
           "title": {
            "standoff": 15
           },
           "zerolinecolor": "white",
           "zerolinewidth": 2
          }
         }
        },
        "title": {
         "font": {
          "size": 18.5
         },
         "text": "Real Wage Growth vs Inflation Rate"
        },
        "width": 1000,
        "xaxis": {
         "anchor": "y",
         "domain": [
          0,
          1
         ],
         "dtick": "M12",
         "tickformat": "%Y",
         "title": {
          "text": ""
         }
        },
        "yaxis": {
         "anchor": "x",
         "domain": [
          0,
          1
         ],
         "tickformat": ".0",
         "ticksuffix": "%",
         "title": {
          "text": "Percent Change Year on Year"
         }
        }
       }
      }
     },
     "metadata": {},
     "output_type": "display_data"
    }
   ],
   "source": [
    "#rates_clean.plot(figsize=(11,6), kind='line', y=['Inflation rate', 'real wage growth'])\n",
    "\n",
    "#ax=plt.gca()\n",
    "#ax.yaxis.set_major_formatter(plt.FuncFormatter(lambda y, pos: f'{int(y)}%'))\n",
    "#ax.axhline(y=0, color='black', linestyle='--', linewidth=0.8)\n",
    "\n",
    "#plt.show()\n",
    "\n",
    "fig = px.line(rates_clean, x=rates_clean.index, y=['Inflation rate', 'Real wage growth'])\n",
    "fig.update_layout(showlegend=True)\n",
    "fig.update_layout(\n",
    "    title='Real Wage Growth vs Inflation Rate',\n",
    "    title_font_size=18.5,\n",
    "    xaxis_title='',\n",
    "    yaxis_title='Percent Change Year on Year', \n",
    "    legend_title_text=''\n",
    ")\n",
    "\n",
    "fig.update_layout(\n",
    "    width=1000, height=550, \n",
    "    yaxis=dict(\n",
    "        tickformat=\".0\",\n",
    "        ticksuffix=\"%\"     # Show percentages with 2 decimal points\n",
    "    )\n",
    " )\n",
    "\n",
    "fig.update_xaxes(\n",
    "    dtick=\"M12\",  # Interval of 12 months = 1 year\n",
    "    tickformat=\"%Y\"  # Format the ticks as years (e.g., 2005, 2006, etc.\n",
    ")\n",
    "# fig.update_layout(yaxis_tickformat='%')\n",
    "\n",
    "fig.show()"
   ]
  },
  {
   "cell_type": "markdown",
   "metadata": {},
   "source": [
    "![Real wage growth vs inflation rate](Images/realwagegrowth_inflation.png)"
   ]
  }
 ],
 "metadata": {
  "kernelspec": {
   "display_name": "python_course",
   "language": "python",
   "name": "python3"
  },
  "language_info": {
   "codemirror_mode": {
    "name": "ipython",
    "version": 3
   },
   "file_extension": ".py",
   "mimetype": "text/x-python",
   "name": "python",
   "nbconvert_exporter": "python",
   "pygments_lexer": "ipython3",
   "version": "3.11.10"
  }
 },
 "nbformat": 4,
 "nbformat_minor": 2
}
